{
 "cells": [
  {
   "cell_type": "code",
   "execution_count": 1,
   "metadata": {
    "ExecuteTime": {
     "end_time": "2024-10-01T22:06:26.934387640Z",
     "start_time": "2024-10-01T22:06:25.788388653Z"
    }
   },
   "outputs": [],
   "source": [
    "import pandas as pd\n",
    "import seaborn as sns\n",
    "import numpy as np\n",
    "from utils import load_dataframe_csv\n",
    "\n",
    "import matplotlib.pyplot as plt\n",
    "from itertools import count"
   ]
  },
  {
   "cell_type": "code",
   "execution_count": 2,
   "metadata": {
    "ExecuteTime": {
     "end_time": "2024-10-01T22:07:10.011766961Z",
     "start_time": "2024-10-01T22:07:09.961344951Z"
    }
   },
   "outputs": [],
   "source": [
    "df1 = load_dataframe_csv('random_noise_tables', 'Explainability_CIFAR10.csv')\n",
    "df5 = load_dataframe_csv('random_noise_tables', 'Explainability_CIFAR10_TRAK.csv')"
   ]
  },
  {
   "cell_type": "code",
   "execution_count": 3,
   "metadata": {
    "ExecuteTime": {
     "end_time": "2024-10-01T22:07:10.708463979Z",
     "start_time": "2024-10-01T22:07:10.706289153Z"
    }
   },
   "outputs": [],
   "source": [
    "df = pd.concat([df1, df5])\n",
    "# df = pd.concat([df4])"
   ]
  },
  {
   "cell_type": "code",
   "execution_count": 4,
   "metadata": {
    "ExecuteTime": {
     "end_time": "2024-10-01T22:07:11.348338297Z",
     "start_time": "2024-10-01T22:07:11.342392048Z"
    }
   },
   "outputs": [
    {
     "data": {
      "text/html": [
       "<div>\n",
       "<style scoped>\n",
       "    .dataframe tbody tr th:only-of-type {\n",
       "        vertical-align: middle;\n",
       "    }\n",
       "\n",
       "    .dataframe tbody tr th {\n",
       "        vertical-align: top;\n",
       "    }\n",
       "\n",
       "    .dataframe thead th {\n",
       "        text-align: right;\n",
       "    }\n",
       "</style>\n",
       "<table border=\"1\" class=\"dataframe\">\n",
       "  <thead>\n",
       "    <tr style=\"text-align: right;\">\n",
       "      <th></th>\n",
       "      <th>data</th>\n",
       "      <th>explainer</th>\n",
       "      <th>scale</th>\n",
       "      <th>coverage</th>\n",
       "      <th>hit_rate</th>\n",
       "      <th>execution_time</th>\n",
       "    </tr>\n",
       "  </thead>\n",
       "  <tbody>\n",
       "    <tr>\n",
       "      <th>0</th>\n",
       "      <td>CIFAR10</td>\n",
       "      <td>YADEA</td>\n",
       "      <td>False</td>\n",
       "      <td>0.903333</td>\n",
       "      <td>1.00</td>\n",
       "      <td>12.946430</td>\n",
       "    </tr>\n",
       "    <tr>\n",
       "      <th>1</th>\n",
       "      <td>CIFAR10</td>\n",
       "      <td>YADEA</td>\n",
       "      <td>True</td>\n",
       "      <td>0.206667</td>\n",
       "      <td>0.02</td>\n",
       "      <td>4.660745</td>\n",
       "    </tr>\n",
       "    <tr>\n",
       "      <th>2</th>\n",
       "      <td>CIFAR10</td>\n",
       "      <td>RPS</td>\n",
       "      <td>False</td>\n",
       "      <td>0.116667</td>\n",
       "      <td>0.01</td>\n",
       "      <td>2.136416</td>\n",
       "    </tr>\n",
       "    <tr>\n",
       "      <th>3</th>\n",
       "      <td>CIFAR10</td>\n",
       "      <td>IF</td>\n",
       "      <td>True</td>\n",
       "      <td>0.130000</td>\n",
       "      <td>0.02</td>\n",
       "      <td>200.735968</td>\n",
       "    </tr>\n",
       "    <tr>\n",
       "      <th>4</th>\n",
       "      <td>CIFAR10</td>\n",
       "      <td>TracIn</td>\n",
       "      <td>True</td>\n",
       "      <td>0.130000</td>\n",
       "      <td>0.02</td>\n",
       "      <td>44.333229</td>\n",
       "    </tr>\n",
       "    <tr>\n",
       "      <th>...</th>\n",
       "      <td>...</td>\n",
       "      <td>...</td>\n",
       "      <td>...</td>\n",
       "      <td>...</td>\n",
       "      <td>...</td>\n",
       "      <td>...</td>\n",
       "    </tr>\n",
       "    <tr>\n",
       "      <th>146</th>\n",
       "      <td>CIFAR10</td>\n",
       "      <td>YADEA</td>\n",
       "      <td>True</td>\n",
       "      <td>0.233333</td>\n",
       "      <td>0.02</td>\n",
       "      <td>4.724610</td>\n",
       "    </tr>\n",
       "    <tr>\n",
       "      <th>147</th>\n",
       "      <td>CIFAR10</td>\n",
       "      <td>RPS</td>\n",
       "      <td>False</td>\n",
       "      <td>0.120000</td>\n",
       "      <td>0.01</td>\n",
       "      <td>2.115233</td>\n",
       "    </tr>\n",
       "    <tr>\n",
       "      <th>148</th>\n",
       "      <td>CIFAR10</td>\n",
       "      <td>IF</td>\n",
       "      <td>True</td>\n",
       "      <td>0.133333</td>\n",
       "      <td>0.02</td>\n",
       "      <td>200.164577</td>\n",
       "    </tr>\n",
       "    <tr>\n",
       "      <th>149</th>\n",
       "      <td>CIFAR10</td>\n",
       "      <td>TracIn</td>\n",
       "      <td>True</td>\n",
       "      <td>0.133333</td>\n",
       "      <td>0.02</td>\n",
       "      <td>42.075688</td>\n",
       "    </tr>\n",
       "    <tr>\n",
       "      <th>0</th>\n",
       "      <td>CIFAR10</td>\n",
       "      <td>TRAK</td>\n",
       "      <td>True</td>\n",
       "      <td>0.476667</td>\n",
       "      <td>0.06</td>\n",
       "      <td>1209.375620</td>\n",
       "    </tr>\n",
       "  </tbody>\n",
       "</table>\n",
       "<p>151 rows × 6 columns</p>\n",
       "</div>"
      ],
      "text/plain": [
       "        data explainer  scale  coverage  hit_rate  execution_time\n",
       "0    CIFAR10     YADEA  False  0.903333      1.00       12.946430\n",
       "1    CIFAR10     YADEA   True  0.206667      0.02        4.660745\n",
       "2    CIFAR10       RPS  False  0.116667      0.01        2.136416\n",
       "3    CIFAR10        IF   True  0.130000      0.02      200.735968\n",
       "4    CIFAR10    TracIn   True  0.130000      0.02       44.333229\n",
       "..       ...       ...    ...       ...       ...             ...\n",
       "146  CIFAR10     YADEA   True  0.233333      0.02        4.724610\n",
       "147  CIFAR10       RPS  False  0.120000      0.01        2.115233\n",
       "148  CIFAR10        IF   True  0.133333      0.02      200.164577\n",
       "149  CIFAR10    TracIn   True  0.133333      0.02       42.075688\n",
       "0    CIFAR10      TRAK   True  0.476667      0.06     1209.375620\n",
       "\n",
       "[151 rows x 6 columns]"
      ]
     },
     "execution_count": 4,
     "metadata": {},
     "output_type": "execute_result"
    }
   ],
   "source": [
    "df"
   ]
  },
  {
   "cell_type": "code",
   "execution_count": 5,
   "metadata": {
    "ExecuteTime": {
     "end_time": "2024-10-01T22:07:12.305038788Z",
     "start_time": "2024-10-01T22:07:12.299561526Z"
    }
   },
   "outputs": [
    {
     "name": "stderr",
     "output_type": "stream",
     "text": [
      "/tmp/ipykernel_86386/2132202268.py:2: FutureWarning: ChainedAssignmentError: behaviour will change in pandas 3.0!\n",
      "You are setting values through chained assignment. Currently this works in certain cases, but when using Copy-on-Write (which will become the default behaviour in pandas 3.0) this will never work to update the original DataFrame or Series, because the intermediate object on which we are setting values will behave as a copy.\n",
      "A typical example is when you are setting values in a column of a DataFrame, like:\n",
      "\n",
      "df[\"col\"][row_indexer] = value\n",
      "\n",
      "Use `df.loc[row_indexer, \"col\"] = values` instead, to perform the assignment in a single step and ensure this keeps updating the original `df`.\n",
      "\n",
      "See the caveats in the documentation: https://pandas.pydata.org/pandas-docs/stable/user_guide/indexing.html#returning-a-view-versus-a-copy\n",
      "\n",
      "  df['names'][df['names']=='IF*'] = 'IF'\n",
      "/tmp/ipykernel_86386/2132202268.py:2: SettingWithCopyWarning: \n",
      "A value is trying to be set on a copy of a slice from a DataFrame\n",
      "\n",
      "See the caveats in the documentation: https://pandas.pydata.org/pandas-docs/stable/user_guide/indexing.html#returning-a-view-versus-a-copy\n",
      "  df['names'][df['names']=='IF*'] = 'IF'\n",
      "/tmp/ipykernel_86386/2132202268.py:3: FutureWarning: ChainedAssignmentError: behaviour will change in pandas 3.0!\n",
      "You are setting values through chained assignment. Currently this works in certain cases, but when using Copy-on-Write (which will become the default behaviour in pandas 3.0) this will never work to update the original DataFrame or Series, because the intermediate object on which we are setting values will behave as a copy.\n",
      "A typical example is when you are setting values in a column of a DataFrame, like:\n",
      "\n",
      "df[\"col\"][row_indexer] = value\n",
      "\n",
      "Use `df.loc[row_indexer, \"col\"] = values` instead, to perform the assignment in a single step and ensure this keeps updating the original `df`.\n",
      "\n",
      "See the caveats in the documentation: https://pandas.pydata.org/pandas-docs/stable/user_guide/indexing.html#returning-a-view-versus-a-copy\n",
      "\n",
      "  df['data'][df['data']=='OCEA'] = 'OCH'\n",
      "/tmp/ipykernel_86386/2132202268.py:3: SettingWithCopyWarning: \n",
      "A value is trying to be set on a copy of a slice from a DataFrame\n",
      "\n",
      "See the caveats in the documentation: https://pandas.pydata.org/pandas-docs/stable/user_guide/indexing.html#returning-a-view-versus-a-copy\n",
      "  df['data'][df['data']=='OCEA'] = 'OCH'\n"
     ]
    }
   ],
   "source": [
    "df['names'] = df['explainer'] +  [\"*\" if i else \"\" for i in df['scale'].to_list()]\n",
    "df['names'][df['names']=='IF*'] = 'IF'\n",
    "df['data'][df['data']=='OCEA'] = 'OCH'\n",
    "df['names'] = df['names'].replace({'YADEA': 'HD-EXPLAIN', 'YADEA*': 'HD-Explain*'})\n"
   ]
  },
  {
   "cell_type": "code",
   "execution_count": 6,
   "metadata": {
    "ExecuteTime": {
     "end_time": "2024-08-11T16:27:38.974353087Z",
     "start_time": "2024-08-11T16:27:38.968600252Z"
    }
   },
   "outputs": [
    {
     "data": {
      "text/html": [
       "<div>\n",
       "<style scoped>\n",
       "    .dataframe tbody tr th:only-of-type {\n",
       "        vertical-align: middle;\n",
       "    }\n",
       "\n",
       "    .dataframe tbody tr th {\n",
       "        vertical-align: top;\n",
       "    }\n",
       "\n",
       "    .dataframe thead th {\n",
       "        text-align: right;\n",
       "    }\n",
       "</style>\n",
       "<table border=\"1\" class=\"dataframe\">\n",
       "  <thead>\n",
       "    <tr style=\"text-align: right;\">\n",
       "      <th></th>\n",
       "      <th>data</th>\n",
       "      <th>explainer</th>\n",
       "      <th>scale</th>\n",
       "      <th>coverage</th>\n",
       "      <th>hit_rate</th>\n",
       "      <th>execution_time</th>\n",
       "      <th>names</th>\n",
       "    </tr>\n",
       "  </thead>\n",
       "  <tbody>\n",
       "    <tr>\n",
       "      <th>0</th>\n",
       "      <td>CIFAR10</td>\n",
       "      <td>YADEA</td>\n",
       "      <td>False</td>\n",
       "      <td>0.903333</td>\n",
       "      <td>1.00</td>\n",
       "      <td>12.946430</td>\n",
       "      <td>HD-EXPLAIN</td>\n",
       "    </tr>\n",
       "    <tr>\n",
       "      <th>1</th>\n",
       "      <td>CIFAR10</td>\n",
       "      <td>YADEA</td>\n",
       "      <td>True</td>\n",
       "      <td>0.206667</td>\n",
       "      <td>0.02</td>\n",
       "      <td>4.660745</td>\n",
       "      <td>HD-Explain*</td>\n",
       "    </tr>\n",
       "    <tr>\n",
       "      <th>2</th>\n",
       "      <td>CIFAR10</td>\n",
       "      <td>RPS</td>\n",
       "      <td>False</td>\n",
       "      <td>0.116667</td>\n",
       "      <td>0.01</td>\n",
       "      <td>2.136416</td>\n",
       "      <td>RPS</td>\n",
       "    </tr>\n",
       "    <tr>\n",
       "      <th>3</th>\n",
       "      <td>CIFAR10</td>\n",
       "      <td>IF</td>\n",
       "      <td>True</td>\n",
       "      <td>0.130000</td>\n",
       "      <td>0.02</td>\n",
       "      <td>200.735968</td>\n",
       "      <td>IF</td>\n",
       "    </tr>\n",
       "    <tr>\n",
       "      <th>4</th>\n",
       "      <td>CIFAR10</td>\n",
       "      <td>TracIn</td>\n",
       "      <td>True</td>\n",
       "      <td>0.130000</td>\n",
       "      <td>0.02</td>\n",
       "      <td>44.333229</td>\n",
       "      <td>TracIn*</td>\n",
       "    </tr>\n",
       "    <tr>\n",
       "      <th>...</th>\n",
       "      <td>...</td>\n",
       "      <td>...</td>\n",
       "      <td>...</td>\n",
       "      <td>...</td>\n",
       "      <td>...</td>\n",
       "      <td>...</td>\n",
       "      <td>...</td>\n",
       "    </tr>\n",
       "    <tr>\n",
       "      <th>146</th>\n",
       "      <td>CIFAR10</td>\n",
       "      <td>YADEA</td>\n",
       "      <td>True</td>\n",
       "      <td>0.233333</td>\n",
       "      <td>0.02</td>\n",
       "      <td>4.724610</td>\n",
       "      <td>HD-Explain*</td>\n",
       "    </tr>\n",
       "    <tr>\n",
       "      <th>147</th>\n",
       "      <td>CIFAR10</td>\n",
       "      <td>RPS</td>\n",
       "      <td>False</td>\n",
       "      <td>0.120000</td>\n",
       "      <td>0.01</td>\n",
       "      <td>2.115233</td>\n",
       "      <td>RPS</td>\n",
       "    </tr>\n",
       "    <tr>\n",
       "      <th>148</th>\n",
       "      <td>CIFAR10</td>\n",
       "      <td>IF</td>\n",
       "      <td>True</td>\n",
       "      <td>0.133333</td>\n",
       "      <td>0.02</td>\n",
       "      <td>200.164577</td>\n",
       "      <td>IF</td>\n",
       "    </tr>\n",
       "    <tr>\n",
       "      <th>149</th>\n",
       "      <td>CIFAR10</td>\n",
       "      <td>TracIn</td>\n",
       "      <td>True</td>\n",
       "      <td>0.133333</td>\n",
       "      <td>0.02</td>\n",
       "      <td>42.075688</td>\n",
       "      <td>TracIn*</td>\n",
       "    </tr>\n",
       "    <tr>\n",
       "      <th>0</th>\n",
       "      <td>CIFAR10</td>\n",
       "      <td>TRAK</td>\n",
       "      <td>True</td>\n",
       "      <td>0.476667</td>\n",
       "      <td>0.06</td>\n",
       "      <td>1209.375620</td>\n",
       "      <td>TRAK*</td>\n",
       "    </tr>\n",
       "  </tbody>\n",
       "</table>\n",
       "<p>151 rows × 7 columns</p>\n",
       "</div>"
      ],
      "text/plain": [
       "        data explainer  scale  coverage  hit_rate  execution_time        names\n",
       "0    CIFAR10     YADEA  False  0.903333      1.00       12.946430   HD-EXPLAIN\n",
       "1    CIFAR10     YADEA   True  0.206667      0.02        4.660745  HD-Explain*\n",
       "2    CIFAR10       RPS  False  0.116667      0.01        2.136416          RPS\n",
       "3    CIFAR10        IF   True  0.130000      0.02      200.735968           IF\n",
       "4    CIFAR10    TracIn   True  0.130000      0.02       44.333229      TracIn*\n",
       "..       ...       ...    ...       ...       ...             ...          ...\n",
       "146  CIFAR10     YADEA   True  0.233333      0.02        4.724610  HD-Explain*\n",
       "147  CIFAR10       RPS  False  0.120000      0.01        2.115233          RPS\n",
       "148  CIFAR10        IF   True  0.133333      0.02      200.164577           IF\n",
       "149  CIFAR10    TracIn   True  0.133333      0.02       42.075688      TracIn*\n",
       "0    CIFAR10      TRAK   True  0.476667      0.06     1209.375620        TRAK*\n",
       "\n",
       "[151 rows x 7 columns]"
      ]
     },
     "execution_count": 6,
     "metadata": {},
     "output_type": "execute_result"
    }
   ],
   "source": [
    "df"
   ]
  },
  {
   "cell_type": "code",
   "execution_count": 7,
   "metadata": {
    "ExecuteTime": {
     "end_time": "2024-08-11T16:27:40.998208745Z",
     "start_time": "2024-08-11T16:27:40.950552604Z"
    },
    "collapsed": false
   },
   "outputs": [
    {
     "name": "stdout",
     "output_type": "stream",
     "text": [
      "\\begin{tabular}{|c|c|c|c|}\n",
      "\\toprule\n",
      " & coverage & hit_rate & execution_time \\\\\n",
      "names &  &  &  \\\\\n",
      "\\midrule\n",
      "HD-EXPLAIN & 0.92 ± 0.02 & 0.99 ± 0.01 & 13.04 ± 0.03 \\\\\n",
      "HD-Explain* & 0.23 ± 0.02 & 0.01 ± 0.01 & 4.73 ± 0.02 \\\\\n",
      "IF & 0.14 ± 0.01 & 0.01 ± 0.01 & 200.86 ± 0.94 \\\\\n",
      "RPS & 0.12 ± 0.01 & 0.01 ± 0.01 & 2.12 ± 0.02 \\\\\n",
      "TRAK* & 0.48 ± nan & 0.06 ± nan & 1209.38 ± nan \\\\\n",
      "TracIn* & 0.14 ± 0.01 & 0.01 ± 0.01 & 43.71 ± 1.04 \\\\\n",
      "\\bottomrule\n",
      "\\end{tabular}\n",
      "\n"
     ]
    }
   ],
   "source": [
    "grouped = df.groupby('names').agg({\n",
    "    'coverage': ['mean', 'std'],\n",
    "    'hit_rate': ['mean', 'std'],\n",
    "    'execution_time': ['mean', 'std'],\n",
    "})\n",
    "\n",
    "result = pd.DataFrame({\n",
    "    'coverage': grouped['coverage']['mean'].round(2).astype(str) + \" ± \" + grouped['coverage']['std'].round(2).astype(\n",
    "        str),\n",
    "    'hit_rate': grouped['hit_rate']['mean'].round(2).astype(str) + \" ± \" + grouped['hit_rate']['std'].round(2).astype(\n",
    "        str),\n",
    "    'execution_time': grouped['execution_time']['mean'].round(2).astype(str) + \" ± \" + grouped['execution_time'][\n",
    "        'std'].round(2).astype(str)\n",
    "})\n",
    "\n",
    "# Set the index to 'names'\n",
    "result.index.name = 'names'\n",
    "# Optionally, generate a LaTeX table\n",
    "latex_table = result.to_latex(column_format='|c|c|c|c|', header=True, index=True)\n",
    "print(latex_table)"
   ]
  },
  {
   "cell_type": "code",
   "execution_count": 8,
   "metadata": {
    "ExecuteTime": {
     "end_time": "2024-08-11T16:27:53.844902696Z",
     "start_time": "2024-08-11T16:27:53.784500946Z"
    },
    "collapsed": false
   },
   "outputs": [
    {
     "data": {
      "text/html": [
       "<div>\n",
       "<style scoped>\n",
       "    .dataframe tbody tr th:only-of-type {\n",
       "        vertical-align: middle;\n",
       "    }\n",
       "\n",
       "    .dataframe tbody tr th {\n",
       "        vertical-align: top;\n",
       "    }\n",
       "\n",
       "    .dataframe thead th {\n",
       "        text-align: right;\n",
       "    }\n",
       "</style>\n",
       "<table border=\"1\" class=\"dataframe\">\n",
       "  <thead>\n",
       "    <tr style=\"text-align: right;\">\n",
       "      <th></th>\n",
       "      <th>coverage</th>\n",
       "      <th>hit_rate</th>\n",
       "      <th>execution_time</th>\n",
       "    </tr>\n",
       "    <tr>\n",
       "      <th>names</th>\n",
       "      <th></th>\n",
       "      <th></th>\n",
       "      <th></th>\n",
       "    </tr>\n",
       "  </thead>\n",
       "  <tbody>\n",
       "    <tr>\n",
       "      <th>HD-EXPLAIN</th>\n",
       "      <td>0.92 ± 0.02</td>\n",
       "      <td>0.99 ± 0.01</td>\n",
       "      <td>13.04 ± 0.03</td>\n",
       "    </tr>\n",
       "    <tr>\n",
       "      <th>HD-Explain*</th>\n",
       "      <td>0.23 ± 0.02</td>\n",
       "      <td>0.01 ± 0.01</td>\n",
       "      <td>4.73 ± 0.02</td>\n",
       "    </tr>\n",
       "    <tr>\n",
       "      <th>IF</th>\n",
       "      <td>0.14 ± 0.01</td>\n",
       "      <td>0.01 ± 0.01</td>\n",
       "      <td>200.86 ± 0.94</td>\n",
       "    </tr>\n",
       "    <tr>\n",
       "      <th>RPS</th>\n",
       "      <td>0.12 ± 0.01</td>\n",
       "      <td>0.01 ± 0.01</td>\n",
       "      <td>2.12 ± 0.02</td>\n",
       "    </tr>\n",
       "    <tr>\n",
       "      <th>TRAK*</th>\n",
       "      <td>0.48 ± nan</td>\n",
       "      <td>0.06 ± nan</td>\n",
       "      <td>1209.38 ± nan</td>\n",
       "    </tr>\n",
       "    <tr>\n",
       "      <th>TracIn*</th>\n",
       "      <td>0.14 ± 0.01</td>\n",
       "      <td>0.01 ± 0.01</td>\n",
       "      <td>43.71 ± 1.04</td>\n",
       "    </tr>\n",
       "  </tbody>\n",
       "</table>\n",
       "</div>"
      ],
      "text/plain": [
       "                coverage     hit_rate execution_time\n",
       "names                                               \n",
       "HD-EXPLAIN   0.92 ± 0.02  0.99 ± 0.01   13.04 ± 0.03\n",
       "HD-Explain*  0.23 ± 0.02  0.01 ± 0.01    4.73 ± 0.02\n",
       "IF           0.14 ± 0.01  0.01 ± 0.01  200.86 ± 0.94\n",
       "RPS          0.12 ± 0.01  0.01 ± 0.01    2.12 ± 0.02\n",
       "TRAK*         0.48 ± nan   0.06 ± nan  1209.38 ± nan\n",
       "TracIn*      0.14 ± 0.01  0.01 ± 0.01   43.71 ± 1.04"
      ]
     },
     "execution_count": 8,
     "metadata": {},
     "output_type": "execute_result"
    }
   ],
   "source": [
    "result"
   ]
  },
  {
   "cell_type": "code",
   "execution_count": 9,
   "metadata": {},
   "outputs": [
    {
     "data": {
      "text/plain": [
       "'0.13.2'"
      ]
     },
     "execution_count": 9,
     "metadata": {},
     "output_type": "execute_result"
    }
   ],
   "source": [
    "sns.__version__"
   ]
  },
  {
   "cell_type": "code",
   "execution_count": 11,
   "metadata": {
    "ExecuteTime": {
     "end_time": "2024-10-01T22:07:28.717289829Z",
     "start_time": "2024-10-01T22:07:28.251147234Z"
    }
   },
   "outputs": [
    {
     "data": {
      "image/png": "[encoded data removed]",
      "text/plain": [
       "<Figure size 400x250 with 1 Axes>"
      ]
     },
     "metadata": {},
     "output_type": "display_data"
    }
   ],
   "source": [
    "fig = plt.figure(figsize=(4, 2.5))\n",
    "ax = sns.barplot(data = df, x='data', y='coverage', hue='names', width=0.8)\n",
    "# Define some hatches\n",
    "pattern=['//','..','xx','', '\\\\\\\\', '**']\n",
    "ax.legend_.remove()\n",
    "# replace 2 with 7 in your code\n",
    "hatches=np.repeat(pattern,4)\n",
    "sns.set_style(\"darkgrid\")\n",
    "\n",
    "for pat,bar in zip(hatches,ax.patches):\n",
    "    bar.set_hatch(pat)\n",
    "\n",
    "plt.xlabel('')\n",
    "plt.ylabel('Coverage')\n",
    "\n",
    "# plt.legend(bbox_to_anchor=(0.35, 0.33))\n",
    "\n",
    "plt.tight_layout()\n",
    "plt.savefig('plots/noise_coverage_trak.pdf', format='pdf')"
   ]
  },
  {
   "cell_type": "code",
   "execution_count": 12,
   "metadata": {
    "ExecuteTime": {
     "end_time": "2024-10-01T22:07:30.213276269Z",
     "start_time": "2024-10-01T22:07:29.423842759Z"
    }
   },
   "outputs": [
    {
     "data": {
      "image/png": "[encoded data removed]",
      "text/plain": [
       "<Figure size 400x250 with 1 Axes>"
      ]
     },
     "metadata": {},
     "output_type": "display_data"
    }
   ],
   "source": [
    "fig = plt.figure(figsize=(4, 2.5))\n",
    "ax = sns.barplot(data = df, x='data', y='hit_rate', hue='names', width=0.8)\n",
    "# Define some hatches\n",
    "pattern=['//','..','xx','', '\\\\\\\\', '**']\n",
    "ax.set_yscale(\"log\")\n",
    "ax.legend_.remove()\n",
    "# replace 2 with 7 in your code\n",
    "hatches=np.repeat(pattern,4)\n",
    "sns.set_style(\"darkgrid\")\n",
    "\n",
    "for pat,bar in zip(hatches,ax.patches):\n",
    "    bar.set_hatch(pat)\n",
    "\n",
    "plt.xlabel(\"\")\n",
    "plt.ylabel('Hit Rate (log-scale)')\n",
    "\n",
    "# plt.legend(bbox_to_anchor=(0.35, 0.33))\n",
    "\n",
    "plt.tight_layout()\n",
    "plt.savefig('plots/noise_hitrate_trak.pdf', format='pdf')"
   ]
  },
  {
   "cell_type": "code",
   "execution_count": 13,
   "metadata": {
    "ExecuteTime": {
     "end_time": "2024-10-01T22:07:36.433805957Z",
     "start_time": "2024-10-01T22:07:36.331783095Z"
    }
   },
   "outputs": [
    {
     "name": "stderr",
     "output_type": "stream",
     "text": [
      "/tmp/ipykernel_86386/2922229354.py:5: UserWarning: Tight layout not applied. The bottom and top margins cannot be made large enough to accommodate all axes decorations.\n",
      "  plt.tight_layout()\n"
     ]
    },
    {
     "data": {
      "image/png": "[encoded data removed]",
      "text/plain": [
       "<Figure size 800x20 with 1 Axes>"
      ]
     },
     "metadata": {},
     "output_type": "display_data"
    }
   ],
   "source": [
    "fig_leg = plt.figure(figsize=(8, 0.2))\n",
    "ax_leg = fig_leg.add_subplot(111)\n",
    "ax_leg.legend(*ax.get_legend_handles_labels(), loc='center', ncol=6, frameon=False)\n",
    "ax_leg.axis('off')\n",
    "plt.tight_layout()\n",
    "fig_leg.savefig('plots/bar_legend_trak.pdf', format='pdf')"
   ]
  },
  {
   "cell_type": "code",
   "execution_count": 14,
   "metadata": {
    "ExecuteTime": {
     "end_time": "2024-10-01T22:07:43.377207933Z",
     "start_time": "2024-10-01T22:07:42.763963242Z"
    }
   },
   "outputs": [
    {
     "data": {
      "image/png": "[encoded data removed]",
      "text/plain": [
       "<Figure size 400x250 with 1 Axes>"
      ]
     },
     "metadata": {},
     "output_type": "display_data"
    }
   ],
   "source": [
    "fig = plt.figure(figsize=(4, 2.5))\n",
    "ax = sns.barplot(data = df, x='data', y='execution_time', hue='names', width=0.8)\n",
    "# Define some hatches\n",
    "pattern=['//','..','xx','', '\\\\\\\\', '**']\n",
    "ax.set_yscale(\"log\")\n",
    "ax.legend_.remove()\n",
    "# replace 2 with 7 in your code\n",
    "hatches=np.repeat(pattern,4)\n",
    "sns.set_style(\"darkgrid\")\n",
    "\n",
    "for pat,bar in zip(hatches,ax.patches):\n",
    "    bar.set_hatch(pat)\n",
    "\n",
    "plt.xlabel(\"\")\n",
    "plt.ylabel('Execution Time \\n (in seconds)')\n",
    "\n",
    "# plt.legend(bbox_to_anchor=(0.6, 0.50))\n",
    "\n",
    "plt.tight_layout()\n",
    "plt.savefig('plots/noise_time_trak.pdf', format='pdf')"
   ]
  },
  {
   "cell_type": "code",
   "execution_count": 14,
   "metadata": {
    "ExecuteTime": {
     "end_time": "2024-10-01T23:58:40.137651724Z",
     "start_time": "2024-10-01T23:58:40.122985740Z"
    }
   },
   "outputs": [
    {
     "name": "stderr",
     "output_type": "stream",
     "text": [
      "/tmp/ipykernel_160131/368722484.py:6: FutureWarning: ChainedAssignmentError: behaviour will change in pandas 3.0!\n",
      "You are setting values through chained assignment. Currently this works in certain cases, but when using Copy-on-Write (which will become the default behaviour in pandas 3.0) this will never work to update the original DataFrame or Series, because the intermediate object on which we are setting values will behave as a copy.\n",
      "A typical example is when you are setting values in a column of a DataFrame, like:\n",
      "\n",
      "df[\"col\"][row_indexer] = value\n",
      "\n",
      "Use `df.loc[row_indexer, \"col\"] = values` instead, to perform the assignment in a single step and ensure this keeps updating the original `df`.\n",
      "\n",
      "See the caveats in the documentation: https://pandas.pydata.org/pandas-docs/stable/user_guide/indexing.html#returning-a-view-versus-a-copy\n",
      "\n",
      "  df['data'][df['data']=='OCEA'] = 'OCH'\n",
      "/tmp/ipykernel_160131/368722484.py:6: SettingWithCopyWarning: \n",
      "A value is trying to be set on a copy of a slice from a DataFrame\n",
      "\n",
      "See the caveats in the documentation: https://pandas.pydata.org/pandas-docs/stable/user_guide/indexing.html#returning-a-view-versus-a-copy\n",
      "  df['data'][df['data']=='OCEA'] = 'OCH'\n"
     ]
    },
    {
     "data": {
      "text/html": [
       "<div>\n",
       "<style scoped>\n",
       "    .dataframe tbody tr th:only-of-type {\n",
       "        vertical-align: middle;\n",
       "    }\n",
       "\n",
       "    .dataframe tbody tr th {\n",
       "        vertical-align: top;\n",
       "    }\n",
       "\n",
       "    .dataframe thead th {\n",
       "        text-align: right;\n",
       "    }\n",
       "</style>\n",
       "<table border=\"1\" class=\"dataframe\">\n",
       "  <thead>\n",
       "    <tr style=\"text-align: right;\">\n",
       "      <th></th>\n",
       "      <th>data</th>\n",
       "      <th>kernel</th>\n",
       "      <th>scale</th>\n",
       "      <th>coverage</th>\n",
       "      <th>hit_rate</th>\n",
       "      <th>execution_time</th>\n",
       "    </tr>\n",
       "  </thead>\n",
       "  <tbody>\n",
       "    <tr>\n",
       "      <th>0</th>\n",
       "      <td>CIFAR10</td>\n",
       "      <td>RBF</td>\n",
       "      <td>False</td>\n",
       "      <td>0.903333</td>\n",
       "      <td>1.00</td>\n",
       "      <td>13.022575</td>\n",
       "    </tr>\n",
       "    <tr>\n",
       "      <th>1</th>\n",
       "      <td>CIFAR10</td>\n",
       "      <td>IMQ</td>\n",
       "      <td>False</td>\n",
       "      <td>0.903333</td>\n",
       "      <td>1.00</td>\n",
       "      <td>12.922055</td>\n",
       "    </tr>\n",
       "    <tr>\n",
       "      <th>2</th>\n",
       "      <td>CIFAR10</td>\n",
       "      <td>Linear</td>\n",
       "      <td>False</td>\n",
       "      <td>0.806667</td>\n",
       "      <td>0.81</td>\n",
       "      <td>3.994959</td>\n",
       "    </tr>\n",
       "    <tr>\n",
       "      <th>3</th>\n",
       "      <td>CIFAR10</td>\n",
       "      <td>RBF</td>\n",
       "      <td>False</td>\n",
       "      <td>0.940000</td>\n",
       "      <td>0.99</td>\n",
       "      <td>12.879740</td>\n",
       "    </tr>\n",
       "    <tr>\n",
       "      <th>4</th>\n",
       "      <td>CIFAR10</td>\n",
       "      <td>IMQ</td>\n",
       "      <td>False</td>\n",
       "      <td>0.936667</td>\n",
       "      <td>1.00</td>\n",
       "      <td>12.943490</td>\n",
       "    </tr>\n",
       "  </tbody>\n",
       "</table>\n",
       "</div>"
      ],
      "text/plain": [
       "      data  kernel  scale  coverage  hit_rate  execution_time\n",
       "0  CIFAR10     RBF  False  0.903333      1.00       13.022575\n",
       "1  CIFAR10     IMQ  False  0.903333      1.00       12.922055\n",
       "2  CIFAR10  Linear  False  0.806667      0.81        3.994959\n",
       "3  CIFAR10     RBF  False  0.940000      0.99       12.879740\n",
       "4  CIFAR10     IMQ  False  0.936667      1.00       12.943490"
      ]
     },
     "execution_count": 14,
     "metadata": {},
     "output_type": "execute_result"
    }
   ],
   "source": [
    "df1 = load_dataframe_csv('random_noise_tables', 'Explainability_kernel_CIFAR10.csv')\n",
    "df2 = load_dataframe_csv('random_noise_tables', 'Explainability_kernel_OCEA.csv')\n",
    "df3 = load_dataframe_csv('random_noise_tables', 'Explainability_kernel_MRI.csv')\n",
    "df4 = load_dataframe_csv('random_noise_tables', 'Explainability_kernel_SVHN.csv')\n",
    "df = pd.concat([df1, df2, df3, df4])\n",
    "df['data'][df['data']=='OCEA'] = 'OCH'\n",
    "df.head()"
   ]
  },
  {
   "cell_type": "code",
   "execution_count": 15,
   "metadata": {
    "ExecuteTime": {
     "end_time": "2024-10-01T23:58:42.154766184Z",
     "start_time": "2024-10-01T23:58:41.803528999Z"
    }
   },
   "outputs": [
    {
     "data": {
      "image/png": "[encoded data removed]",
      "text/plain": [
       "<Figure size 300x250 with 1 Axes>"
      ]
     },
     "metadata": {},
     "output_type": "display_data"
    }
   ],
   "source": [
    "fig = plt.figure(figsize=(3, 2.5))\n",
    "ax = sns.barplot(df, x='data', y='hit_rate', hue='kernel', width=0.8, palette=sns.color_palette(\"Blues\", 3))\n",
    "# Define some hatches\n",
    "# pattern=['//','..','xx','']\n",
    "ax.legend_.remove()\n",
    "# replace 2 with 7 in your code\n",
    "# hatches=np.repeat(pattern,3)\n",
    "\n",
    "# for pat,bar in zip(hatches,ax.patches):\n",
    "#     bar.set_hatch(pat)\n",
    "\n",
    "plt.xlabel('')\n",
    "plt.ylabel('Hit Rate')\n",
    "\n",
    "# plt.legend(bbox_to_anchor=(0.35, 0.33))\n",
    "\n",
    "plt.tight_layout()\n",
    "plt.savefig('plots/kernel_hitrate.pdf', format='pdf')"
   ]
  },
  {
   "cell_type": "code",
   "execution_count": 16,
   "metadata": {
    "ExecuteTime": {
     "end_time": "2024-10-01T23:58:45.164962784Z",
     "start_time": "2024-10-01T23:58:44.797307557Z"
    }
   },
   "outputs": [
    {
     "data": {
      "image/png": "[encoded data removed]",
      "text/plain": [
       "<Figure size 300x250 with 1 Axes>"
      ]
     },
     "metadata": {},
     "output_type": "display_data"
    }
   ],
   "source": [
    "fig = plt.figure(figsize=(3, 2.5))\n",
    "ax = sns.barplot(df, x='data', y='coverage', hue='kernel', width=0.8, palette=sns.color_palette(\"Blues\", 3))\n",
    "# Define some hatches\n",
    "# pattern=['//','..','xx','']\n",
    "ax.legend_.remove()\n",
    "# replace 2 with 7 in your code\n",
    "# hatches=np.repeat(pattern,3)\n",
    "\n",
    "# for pat,bar in zip(hatches,ax.patches):\n",
    "#     bar.set_hatch(pat)\n",
    "\n",
    "plt.xlabel('')\n",
    "plt.ylabel('Coverage')\n",
    "\n",
    "# plt.legend(bbox_to_anchor=(0.35, 0.33))\n",
    "\n",
    "plt.tight_layout()\n",
    "plt.savefig('plots/kernel_coverage.pdf', format='pdf')"
   ]
  },
  {
   "cell_type": "code",
   "execution_count": 17,
   "metadata": {
    "ExecuteTime": {
     "end_time": "2024-10-01T23:58:47.809763858Z",
     "start_time": "2024-10-01T23:58:47.316661990Z"
    }
   },
   "outputs": [
    {
     "data": {
      "image/png": "[encoded data removed]",
      "text/plain": [
       "<Figure size 300x250 with 1 Axes>"
      ]
     },
     "metadata": {},
     "output_type": "display_data"
    }
   ],
   "source": [
    "fig = plt.figure(figsize=(3, 2.5))\n",
    "ax = sns.barplot(df, x='data', y='execution_time', hue='kernel', width=0.8, palette=sns.color_palette(\"Blues\", 3))\n",
    "# Define some hatches\n",
    "# pattern=['//','..','xx','']\n",
    "ax.set_yscale(\"log\")\n",
    "ax.legend_.remove()\n",
    "# replace 2 with 7 in your code\n",
    "# hatches=np.repeat(pattern,3)\n",
    "\n",
    "# for pat,bar in zip(hatches,ax.patches):\n",
    "#     bar.set_hatch(pat)\n",
    "\n",
    "plt.xlabel('')\n",
    "plt.ylabel('Execution Time \\n (in seconds)')\n",
    "\n",
    "# plt.legend(bbox_to_anchor=(0.35, 0.33))\n",
    "\n",
    "plt.tight_layout()\n",
    "plt.savefig('plots/kernel_time.pdf', format='pdf')"
   ]
  },
  {
   "cell_type": "code",
   "execution_count": 18,
   "metadata": {
    "ExecuteTime": {
     "end_time": "2024-10-01T23:58:58.311348577Z",
     "start_time": "2024-10-01T23:58:58.213668728Z"
    }
   },
   "outputs": [
    {
     "name": "stderr",
     "output_type": "stream",
     "text": [
      "/tmp/ipykernel_160131/54392684.py:5: UserWarning: Tight layout not applied. The bottom and top margins cannot be made large enough to accommodate all axes decorations.\n",
      "  plt.tight_layout()\n"
     ]
    },
    {
     "data": {
      "image/png": "[encoded data removed]",
      "text/plain": [
       "<Figure size 300x20 with 1 Axes>"
      ]
     },
     "metadata": {},
     "output_type": "display_data"
    }
   ],
   "source": [
    "fig_leg = plt.figure(figsize=(3, 0.2))\n",
    "ax_leg = fig_leg.add_subplot(111)\n",
    "ax_leg.legend(*ax.get_legend_handles_labels(), loc='center', ncol=3, frameon=False)\n",
    "ax_leg.axis('off')\n",
    "plt.tight_layout()\n",
    "fig_leg.savefig('plots/kernel_bar_legend.pdf', format='pdf')"
   ]
  },
  {
   "cell_type": "code",
   "execution_count": 17,
   "metadata": {},
   "outputs": [
    {
     "ename": "FileNotFoundError",
     "evalue": "[Errno 2] No such file or directory: 'tables/Explainability_temperature_MRI.csv'",
     "output_type": "error",
     "traceback": [
      "\u001b[0;31m---------------------------------------------------------------------------\u001b[0m",
      "\u001b[0;31mFileNotFoundError\u001b[0m                         Traceback (most recent call last)",
      "\u001b[0;32m<ipython-input-17-765658ccc6b9>\u001b[0m in \u001b[0;36m<module>\u001b[0;34m\u001b[0m\n\u001b[1;32m      1\u001b[0m \u001b[0mdf1\u001b[0m \u001b[0;34m=\u001b[0m \u001b[0mload_dataframe_csv\u001b[0m\u001b[0;34m(\u001b[0m\u001b[0;34m'tables'\u001b[0m\u001b[0;34m,\u001b[0m \u001b[0;34m'Explainability_temperature_CIFAR10.csv'\u001b[0m\u001b[0;34m)\u001b[0m\u001b[0;34m\u001b[0m\u001b[0;34m\u001b[0m\u001b[0m\n\u001b[1;32m      2\u001b[0m \u001b[0mdf2\u001b[0m \u001b[0;34m=\u001b[0m \u001b[0mload_dataframe_csv\u001b[0m\u001b[0;34m(\u001b[0m\u001b[0;34m'tables'\u001b[0m\u001b[0;34m,\u001b[0m \u001b[0;34m'Explainability_temperature_OCEA.csv'\u001b[0m\u001b[0;34m)\u001b[0m\u001b[0;34m\u001b[0m\u001b[0;34m\u001b[0m\u001b[0m\n\u001b[0;32m----> 3\u001b[0;31m \u001b[0mdf3\u001b[0m \u001b[0;34m=\u001b[0m \u001b[0mload_dataframe_csv\u001b[0m\u001b[0;34m(\u001b[0m\u001b[0;34m'tables'\u001b[0m\u001b[0;34m,\u001b[0m \u001b[0;34m'Explainability_temperature_MRI.csv'\u001b[0m\u001b[0;34m)\u001b[0m\u001b[0;34m\u001b[0m\u001b[0;34m\u001b[0m\u001b[0m\n\u001b[0m\u001b[1;32m      4\u001b[0m \u001b[0mdf\u001b[0m \u001b[0;34m=\u001b[0m \u001b[0mpd\u001b[0m\u001b[0;34m.\u001b[0m\u001b[0mconcat\u001b[0m\u001b[0;34m(\u001b[0m\u001b[0;34m[\u001b[0m\u001b[0mdf1\u001b[0m\u001b[0;34m,\u001b[0m \u001b[0mdf2\u001b[0m\u001b[0;34m,\u001b[0m \u001b[0mdf3\u001b[0m\u001b[0;34m]\u001b[0m\u001b[0;34m)\u001b[0m\u001b[0;34m\u001b[0m\u001b[0;34m\u001b[0m\u001b[0m\n\u001b[1;32m      5\u001b[0m \u001b[0mdf\u001b[0m\u001b[0;34m[\u001b[0m\u001b[0;34m'data'\u001b[0m\u001b[0;34m]\u001b[0m\u001b[0;34m[\u001b[0m\u001b[0mdf\u001b[0m\u001b[0;34m[\u001b[0m\u001b[0;34m'data'\u001b[0m\u001b[0;34m]\u001b[0m\u001b[0;34m==\u001b[0m\u001b[0;34m'OCEA'\u001b[0m\u001b[0;34m]\u001b[0m \u001b[0;34m=\u001b[0m \u001b[0;34m'OCI'\u001b[0m\u001b[0;34m\u001b[0m\u001b[0;34m\u001b[0m\u001b[0m\n",
      "\u001b[0;32m~/workspace/Classifier_Explaination_via_KSD/utils/io.py\u001b[0m in \u001b[0;36mload_dataframe_csv\u001b[0;34m(path, name)\u001b[0m\n\u001b[1;32m      7\u001b[0m \u001b[0;34m\u001b[0m\u001b[0m\n\u001b[1;32m      8\u001b[0m \u001b[0;32mdef\u001b[0m \u001b[0mload_dataframe_csv\u001b[0m\u001b[0;34m(\u001b[0m\u001b[0mpath\u001b[0m\u001b[0;34m,\u001b[0m \u001b[0mname\u001b[0m\u001b[0;34m)\u001b[0m\u001b[0;34m:\u001b[0m\u001b[0;34m\u001b[0m\u001b[0;34m\u001b[0m\u001b[0m\n\u001b[0;32m----> 9\u001b[0;31m     \u001b[0;32mreturn\u001b[0m \u001b[0mpd\u001b[0m\u001b[0;34m.\u001b[0m\u001b[0mread_csv\u001b[0m\u001b[0;34m(\u001b[0m\u001b[0mos\u001b[0m\u001b[0;34m.\u001b[0m\u001b[0mpath\u001b[0m\u001b[0;34m.\u001b[0m\u001b[0mjoin\u001b[0m\u001b[0;34m(\u001b[0m\u001b[0mpath\u001b[0m\u001b[0;34m,\u001b[0m \u001b[0mname\u001b[0m\u001b[0;34m)\u001b[0m\u001b[0;34m)\u001b[0m\u001b[0;34m\u001b[0m\u001b[0;34m\u001b[0m\u001b[0m\n\u001b[0m",
      "\u001b[0;32m~/anaconda3/envs/ood/lib/python3.8/site-packages/pandas/io/parsers.py\u001b[0m in \u001b[0;36mread_csv\u001b[0;34m(filepath_or_buffer, sep, delimiter, header, names, index_col, usecols, squeeze, prefix, mangle_dupe_cols, dtype, engine, converters, true_values, false_values, skipinitialspace, skiprows, skipfooter, nrows, na_values, keep_default_na, na_filter, verbose, skip_blank_lines, parse_dates, infer_datetime_format, keep_date_col, date_parser, dayfirst, cache_dates, iterator, chunksize, compression, thousands, decimal, lineterminator, quotechar, quoting, doublequote, escapechar, comment, encoding, dialect, error_bad_lines, warn_bad_lines, delim_whitespace, low_memory, memory_map, float_precision, storage_options)\u001b[0m\n\u001b[1;32m    608\u001b[0m     \u001b[0mkwds\u001b[0m\u001b[0;34m.\u001b[0m\u001b[0mupdate\u001b[0m\u001b[0;34m(\u001b[0m\u001b[0mkwds_defaults\u001b[0m\u001b[0;34m)\u001b[0m\u001b[0;34m\u001b[0m\u001b[0;34m\u001b[0m\u001b[0m\n\u001b[1;32m    609\u001b[0m \u001b[0;34m\u001b[0m\u001b[0m\n\u001b[0;32m--> 610\u001b[0;31m     \u001b[0;32mreturn\u001b[0m \u001b[0m_read\u001b[0m\u001b[0;34m(\u001b[0m\u001b[0mfilepath_or_buffer\u001b[0m\u001b[0;34m,\u001b[0m \u001b[0mkwds\u001b[0m\u001b[0;34m)\u001b[0m\u001b[0;34m\u001b[0m\u001b[0;34m\u001b[0m\u001b[0m\n\u001b[0m\u001b[1;32m    611\u001b[0m \u001b[0;34m\u001b[0m\u001b[0m\n\u001b[1;32m    612\u001b[0m \u001b[0;34m\u001b[0m\u001b[0m\n",
      "\u001b[0;32m~/anaconda3/envs/ood/lib/python3.8/site-packages/pandas/io/parsers.py\u001b[0m in \u001b[0;36m_read\u001b[0;34m(filepath_or_buffer, kwds)\u001b[0m\n\u001b[1;32m    460\u001b[0m \u001b[0;34m\u001b[0m\u001b[0m\n\u001b[1;32m    461\u001b[0m     \u001b[0;31m# Create the parser.\u001b[0m\u001b[0;34m\u001b[0m\u001b[0;34m\u001b[0m\u001b[0;34m\u001b[0m\u001b[0m\n\u001b[0;32m--> 462\u001b[0;31m     \u001b[0mparser\u001b[0m \u001b[0;34m=\u001b[0m \u001b[0mTextFileReader\u001b[0m\u001b[0;34m(\u001b[0m\u001b[0mfilepath_or_buffer\u001b[0m\u001b[0;34m,\u001b[0m \u001b[0;34m**\u001b[0m\u001b[0mkwds\u001b[0m\u001b[0;34m)\u001b[0m\u001b[0;34m\u001b[0m\u001b[0;34m\u001b[0m\u001b[0m\n\u001b[0m\u001b[1;32m    463\u001b[0m \u001b[0;34m\u001b[0m\u001b[0m\n\u001b[1;32m    464\u001b[0m     \u001b[0;32mif\u001b[0m \u001b[0mchunksize\u001b[0m \u001b[0;32mor\u001b[0m \u001b[0miterator\u001b[0m\u001b[0;34m:\u001b[0m\u001b[0;34m\u001b[0m\u001b[0;34m\u001b[0m\u001b[0m\n",
      "\u001b[0;32m~/anaconda3/envs/ood/lib/python3.8/site-packages/pandas/io/parsers.py\u001b[0m in \u001b[0;36m__init__\u001b[0;34m(self, f, engine, **kwds)\u001b[0m\n\u001b[1;32m    817\u001b[0m             \u001b[0mself\u001b[0m\u001b[0;34m.\u001b[0m\u001b[0moptions\u001b[0m\u001b[0;34m[\u001b[0m\u001b[0;34m\"has_index_names\"\u001b[0m\u001b[0;34m]\u001b[0m \u001b[0;34m=\u001b[0m \u001b[0mkwds\u001b[0m\u001b[0;34m[\u001b[0m\u001b[0;34m\"has_index_names\"\u001b[0m\u001b[0;34m]\u001b[0m\u001b[0;34m\u001b[0m\u001b[0;34m\u001b[0m\u001b[0m\n\u001b[1;32m    818\u001b[0m \u001b[0;34m\u001b[0m\u001b[0m\n\u001b[0;32m--> 819\u001b[0;31m         \u001b[0mself\u001b[0m\u001b[0;34m.\u001b[0m\u001b[0m_engine\u001b[0m \u001b[0;34m=\u001b[0m \u001b[0mself\u001b[0m\u001b[0;34m.\u001b[0m\u001b[0m_make_engine\u001b[0m\u001b[0;34m(\u001b[0m\u001b[0mself\u001b[0m\u001b[0;34m.\u001b[0m\u001b[0mengine\u001b[0m\u001b[0;34m)\u001b[0m\u001b[0;34m\u001b[0m\u001b[0;34m\u001b[0m\u001b[0m\n\u001b[0m\u001b[1;32m    820\u001b[0m \u001b[0;34m\u001b[0m\u001b[0m\n\u001b[1;32m    821\u001b[0m     \u001b[0;32mdef\u001b[0m \u001b[0mclose\u001b[0m\u001b[0;34m(\u001b[0m\u001b[0mself\u001b[0m\u001b[0;34m)\u001b[0m\u001b[0;34m:\u001b[0m\u001b[0;34m\u001b[0m\u001b[0;34m\u001b[0m\u001b[0m\n",
      "\u001b[0;32m~/anaconda3/envs/ood/lib/python3.8/site-packages/pandas/io/parsers.py\u001b[0m in \u001b[0;36m_make_engine\u001b[0;34m(self, engine)\u001b[0m\n\u001b[1;32m   1048\u001b[0m             )\n\u001b[1;32m   1049\u001b[0m         \u001b[0;31m# error: Too many arguments for \"ParserBase\"\u001b[0m\u001b[0;34m\u001b[0m\u001b[0;34m\u001b[0m\u001b[0;34m\u001b[0m\u001b[0m\n\u001b[0;32m-> 1050\u001b[0;31m         \u001b[0;32mreturn\u001b[0m \u001b[0mmapping\u001b[0m\u001b[0;34m[\u001b[0m\u001b[0mengine\u001b[0m\u001b[0;34m]\u001b[0m\u001b[0;34m(\u001b[0m\u001b[0mself\u001b[0m\u001b[0;34m.\u001b[0m\u001b[0mf\u001b[0m\u001b[0;34m,\u001b[0m \u001b[0;34m**\u001b[0m\u001b[0mself\u001b[0m\u001b[0;34m.\u001b[0m\u001b[0moptions\u001b[0m\u001b[0;34m)\u001b[0m  \u001b[0;31m# type: ignore[call-arg]\u001b[0m\u001b[0;34m\u001b[0m\u001b[0;34m\u001b[0m\u001b[0m\n\u001b[0m\u001b[1;32m   1051\u001b[0m \u001b[0;34m\u001b[0m\u001b[0m\n\u001b[1;32m   1052\u001b[0m     \u001b[0;32mdef\u001b[0m \u001b[0m_failover_to_python\u001b[0m\u001b[0;34m(\u001b[0m\u001b[0mself\u001b[0m\u001b[0;34m)\u001b[0m\u001b[0;34m:\u001b[0m\u001b[0;34m\u001b[0m\u001b[0;34m\u001b[0m\u001b[0m\n",
      "\u001b[0;32m~/anaconda3/envs/ood/lib/python3.8/site-packages/pandas/io/parsers.py\u001b[0m in \u001b[0;36m__init__\u001b[0;34m(self, src, **kwds)\u001b[0m\n\u001b[1;32m   1865\u001b[0m \u001b[0;34m\u001b[0m\u001b[0m\n\u001b[1;32m   1866\u001b[0m         \u001b[0;31m# open handles\u001b[0m\u001b[0;34m\u001b[0m\u001b[0;34m\u001b[0m\u001b[0;34m\u001b[0m\u001b[0m\n\u001b[0;32m-> 1867\u001b[0;31m         \u001b[0mself\u001b[0m\u001b[0;34m.\u001b[0m\u001b[0m_open_handles\u001b[0m\u001b[0;34m(\u001b[0m\u001b[0msrc\u001b[0m\u001b[0;34m,\u001b[0m \u001b[0mkwds\u001b[0m\u001b[0;34m)\u001b[0m\u001b[0;34m\u001b[0m\u001b[0;34m\u001b[0m\u001b[0m\n\u001b[0m\u001b[1;32m   1868\u001b[0m         \u001b[0;32massert\u001b[0m \u001b[0mself\u001b[0m\u001b[0;34m.\u001b[0m\u001b[0mhandles\u001b[0m \u001b[0;32mis\u001b[0m \u001b[0;32mnot\u001b[0m \u001b[0;32mNone\u001b[0m\u001b[0;34m\u001b[0m\u001b[0;34m\u001b[0m\u001b[0m\n\u001b[1;32m   1869\u001b[0m         \u001b[0;32mfor\u001b[0m \u001b[0mkey\u001b[0m \u001b[0;32min\u001b[0m \u001b[0;34m(\u001b[0m\u001b[0;34m\"storage_options\"\u001b[0m\u001b[0;34m,\u001b[0m \u001b[0;34m\"encoding\"\u001b[0m\u001b[0;34m,\u001b[0m \u001b[0;34m\"memory_map\"\u001b[0m\u001b[0;34m,\u001b[0m \u001b[0;34m\"compression\"\u001b[0m\u001b[0;34m)\u001b[0m\u001b[0;34m:\u001b[0m\u001b[0;34m\u001b[0m\u001b[0;34m\u001b[0m\u001b[0m\n",
      "\u001b[0;32m~/anaconda3/envs/ood/lib/python3.8/site-packages/pandas/io/parsers.py\u001b[0m in \u001b[0;36m_open_handles\u001b[0;34m(self, src, kwds)\u001b[0m\n\u001b[1;32m   1360\u001b[0m         \u001b[0mLet\u001b[0m \u001b[0mthe\u001b[0m \u001b[0mreaders\u001b[0m \u001b[0mopen\u001b[0m \u001b[0mIOHanldes\u001b[0m \u001b[0mafter\u001b[0m \u001b[0mthey\u001b[0m \u001b[0mare\u001b[0m \u001b[0mdone\u001b[0m \u001b[0;32mwith\u001b[0m \u001b[0mtheir\u001b[0m \u001b[0mpotential\u001b[0m \u001b[0mraises\u001b[0m\u001b[0;34m.\u001b[0m\u001b[0;34m\u001b[0m\u001b[0;34m\u001b[0m\u001b[0m\n\u001b[1;32m   1361\u001b[0m         \"\"\"\n\u001b[0;32m-> 1362\u001b[0;31m         self.handles = get_handle(\n\u001b[0m\u001b[1;32m   1363\u001b[0m             \u001b[0msrc\u001b[0m\u001b[0;34m,\u001b[0m\u001b[0;34m\u001b[0m\u001b[0;34m\u001b[0m\u001b[0m\n\u001b[1;32m   1364\u001b[0m             \u001b[0;34m\"r\"\u001b[0m\u001b[0;34m,\u001b[0m\u001b[0;34m\u001b[0m\u001b[0;34m\u001b[0m\u001b[0m\n",
      "\u001b[0;32m~/anaconda3/envs/ood/lib/python3.8/site-packages/pandas/io/common.py\u001b[0m in \u001b[0;36mget_handle\u001b[0;34m(path_or_buf, mode, encoding, compression, memory_map, is_text, errors, storage_options)\u001b[0m\n\u001b[1;32m    640\u001b[0m                 \u001b[0merrors\u001b[0m \u001b[0;34m=\u001b[0m \u001b[0;34m\"replace\"\u001b[0m\u001b[0;34m\u001b[0m\u001b[0;34m\u001b[0m\u001b[0m\n\u001b[1;32m    641\u001b[0m             \u001b[0;31m# Encoding\u001b[0m\u001b[0;34m\u001b[0m\u001b[0;34m\u001b[0m\u001b[0;34m\u001b[0m\u001b[0m\n\u001b[0;32m--> 642\u001b[0;31m             handle = open(\n\u001b[0m\u001b[1;32m    643\u001b[0m                 \u001b[0mhandle\u001b[0m\u001b[0;34m,\u001b[0m\u001b[0;34m\u001b[0m\u001b[0;34m\u001b[0m\u001b[0m\n\u001b[1;32m    644\u001b[0m                 \u001b[0mioargs\u001b[0m\u001b[0;34m.\u001b[0m\u001b[0mmode\u001b[0m\u001b[0;34m,\u001b[0m\u001b[0;34m\u001b[0m\u001b[0;34m\u001b[0m\u001b[0m\n",
      "\u001b[0;31mFileNotFoundError\u001b[0m: [Errno 2] No such file or directory: 'tables/Explainability_temperature_MRI.csv'"
     ]
    }
   ],
   "source": [
    "df1 = load_dataframe_csv('tables', 'Explainability_temperature_CIFAR10.csv')\n",
    "df2 = load_dataframe_csv('tables', 'Explainability_temperature_OCEA.csv')\n",
    "# mahtab - remove MRI\n",
    "# df3 = load_dataframe_csv('tables', 'Explainability_temperature_MRI.csv')\n",
    "df3 = load_dataframe_csv('tables', 'Explainability_temperature_SVHN.csv')\n",
    "df = pd.concat([df1, df2, df3])\n",
    "df['data'][df['data']=='OCEA'] = 'OCH'\n",
    "df.head()"
   ]
  },
  {
   "cell_type": "code",
   "execution_count": 19,
   "metadata": {},
   "outputs": [
    {
     "ename": "ValueError",
     "evalue": "Could not interpret value `temperature` for parameter `x`",
     "output_type": "error",
     "traceback": [
      "\u001b[0;31m---------------------------------------------------------------------------\u001b[0m",
      "\u001b[0;31mValueError\u001b[0m                                Traceback (most recent call last)",
      "\u001b[0;32m<ipython-input-19-968328cfb381>\u001b[0m in \u001b[0;36m<module>\u001b[0;34m\u001b[0m\n\u001b[1;32m      1\u001b[0m \u001b[0mfig\u001b[0m \u001b[0;34m=\u001b[0m \u001b[0mplt\u001b[0m\u001b[0;34m.\u001b[0m\u001b[0mfigure\u001b[0m\u001b[0;34m(\u001b[0m\u001b[0mfigsize\u001b[0m\u001b[0;34m=\u001b[0m\u001b[0;34m(\u001b[0m\u001b[0;36m3\u001b[0m\u001b[0;34m,\u001b[0m \u001b[0;36m2.5\u001b[0m\u001b[0;34m)\u001b[0m\u001b[0;34m)\u001b[0m\u001b[0;34m\u001b[0m\u001b[0;34m\u001b[0m\u001b[0m\n\u001b[0;32m----> 2\u001b[0;31m \u001b[0max\u001b[0m \u001b[0;34m=\u001b[0m \u001b[0msns\u001b[0m\u001b[0;34m.\u001b[0m\u001b[0mlineplot\u001b[0m\u001b[0;34m(\u001b[0m\u001b[0mdata\u001b[0m\u001b[0;34m=\u001b[0m\u001b[0mdf\u001b[0m\u001b[0;34m,\u001b[0m \u001b[0mx\u001b[0m\u001b[0;34m=\u001b[0m\u001b[0;34m'temperature'\u001b[0m\u001b[0;34m,\u001b[0m \u001b[0my\u001b[0m\u001b[0;34m=\u001b[0m\u001b[0;34m'coverage'\u001b[0m\u001b[0;34m,\u001b[0m \u001b[0mhue\u001b[0m\u001b[0;34m=\u001b[0m\u001b[0;34m'data'\u001b[0m\u001b[0;34m)\u001b[0m\u001b[0;34m\u001b[0m\u001b[0;34m\u001b[0m\u001b[0m\n\u001b[0m\u001b[1;32m      3\u001b[0m \u001b[0;31m# Define some hatches\u001b[0m\u001b[0;34m\u001b[0m\u001b[0;34m\u001b[0m\u001b[0;34m\u001b[0m\u001b[0m\n\u001b[1;32m      4\u001b[0m \u001b[0;31m# pattern=['//','..','xx','']\u001b[0m\u001b[0;34m\u001b[0m\u001b[0;34m\u001b[0m\u001b[0;34m\u001b[0m\u001b[0m\n\u001b[1;32m      5\u001b[0m \u001b[0max\u001b[0m\u001b[0;34m.\u001b[0m\u001b[0mset_xscale\u001b[0m\u001b[0;34m(\u001b[0m\u001b[0;34m\"log\"\u001b[0m\u001b[0;34m)\u001b[0m\u001b[0;34m\u001b[0m\u001b[0;34m\u001b[0m\u001b[0m\n",
      "\u001b[0;32m~/anaconda3/envs/ood/lib/python3.8/site-packages/seaborn/relational.py\u001b[0m in \u001b[0;36mlineplot\u001b[0;34m(data, x, y, hue, size, style, units, palette, hue_order, hue_norm, sizes, size_order, size_norm, dashes, markers, style_order, estimator, errorbar, n_boot, seed, orient, sort, err_style, err_kws, legend, ci, ax, **kwargs)\u001b[0m\n\u001b[1;32m    610\u001b[0m \u001b[0;34m\u001b[0m\u001b[0m\n\u001b[1;32m    611\u001b[0m     \u001b[0mvariables\u001b[0m \u001b[0;34m=\u001b[0m \u001b[0m_LinePlotter\u001b[0m\u001b[0;34m.\u001b[0m\u001b[0mget_semantics\u001b[0m\u001b[0;34m(\u001b[0m\u001b[0mlocals\u001b[0m\u001b[0;34m(\u001b[0m\u001b[0;34m)\u001b[0m\u001b[0;34m)\u001b[0m\u001b[0;34m\u001b[0m\u001b[0;34m\u001b[0m\u001b[0m\n\u001b[0;32m--> 612\u001b[0;31m     p = _LinePlotter(\n\u001b[0m\u001b[1;32m    613\u001b[0m         \u001b[0mdata\u001b[0m\u001b[0;34m=\u001b[0m\u001b[0mdata\u001b[0m\u001b[0;34m,\u001b[0m \u001b[0mvariables\u001b[0m\u001b[0;34m=\u001b[0m\u001b[0mvariables\u001b[0m\u001b[0;34m,\u001b[0m\u001b[0;34m\u001b[0m\u001b[0;34m\u001b[0m\u001b[0m\n\u001b[1;32m    614\u001b[0m         \u001b[0mestimator\u001b[0m\u001b[0;34m=\u001b[0m\u001b[0mestimator\u001b[0m\u001b[0;34m,\u001b[0m \u001b[0mn_boot\u001b[0m\u001b[0;34m=\u001b[0m\u001b[0mn_boot\u001b[0m\u001b[0;34m,\u001b[0m \u001b[0mseed\u001b[0m\u001b[0;34m=\u001b[0m\u001b[0mseed\u001b[0m\u001b[0;34m,\u001b[0m \u001b[0merrorbar\u001b[0m\u001b[0;34m=\u001b[0m\u001b[0merrorbar\u001b[0m\u001b[0;34m,\u001b[0m\u001b[0;34m\u001b[0m\u001b[0;34m\u001b[0m\u001b[0m\n",
      "\u001b[0;32m~/anaconda3/envs/ood/lib/python3.8/site-packages/seaborn/relational.py\u001b[0m in \u001b[0;36m__init__\u001b[0;34m(self, data, variables, estimator, n_boot, seed, errorbar, sort, orient, err_style, err_kws, legend)\u001b[0m\n\u001b[1;32m    363\u001b[0m         )\n\u001b[1;32m    364\u001b[0m \u001b[0;34m\u001b[0m\u001b[0m\n\u001b[0;32m--> 365\u001b[0;31m         \u001b[0msuper\u001b[0m\u001b[0;34m(\u001b[0m\u001b[0;34m)\u001b[0m\u001b[0;34m.\u001b[0m\u001b[0m__init__\u001b[0m\u001b[0;34m(\u001b[0m\u001b[0mdata\u001b[0m\u001b[0;34m=\u001b[0m\u001b[0mdata\u001b[0m\u001b[0;34m,\u001b[0m \u001b[0mvariables\u001b[0m\u001b[0;34m=\u001b[0m\u001b[0mvariables\u001b[0m\u001b[0;34m)\u001b[0m\u001b[0;34m\u001b[0m\u001b[0;34m\u001b[0m\u001b[0m\n\u001b[0m\u001b[1;32m    366\u001b[0m \u001b[0;34m\u001b[0m\u001b[0m\n\u001b[1;32m    367\u001b[0m         \u001b[0mself\u001b[0m\u001b[0;34m.\u001b[0m\u001b[0mestimator\u001b[0m \u001b[0;34m=\u001b[0m \u001b[0mestimator\u001b[0m\u001b[0;34m\u001b[0m\u001b[0;34m\u001b[0m\u001b[0m\n",
      "\u001b[0;32m~/anaconda3/envs/ood/lib/python3.8/site-packages/seaborn/_oldcore.py\u001b[0m in \u001b[0;36m__init__\u001b[0;34m(self, data, variables)\u001b[0m\n\u001b[1;32m    638\u001b[0m         \u001b[0;31m# information for numeric axes would be information about log scales.\u001b[0m\u001b[0;34m\u001b[0m\u001b[0;34m\u001b[0m\u001b[0;34m\u001b[0m\u001b[0m\n\u001b[1;32m    639\u001b[0m         \u001b[0mself\u001b[0m\u001b[0;34m.\u001b[0m\u001b[0m_var_ordered\u001b[0m \u001b[0;34m=\u001b[0m \u001b[0;34m{\u001b[0m\u001b[0;34m\"x\"\u001b[0m\u001b[0;34m:\u001b[0m \u001b[0;32mFalse\u001b[0m\u001b[0;34m,\u001b[0m \u001b[0;34m\"y\"\u001b[0m\u001b[0;34m:\u001b[0m \u001b[0;32mFalse\u001b[0m\u001b[0;34m}\u001b[0m  \u001b[0;31m# alt., used DefaultDict\u001b[0m\u001b[0;34m\u001b[0m\u001b[0;34m\u001b[0m\u001b[0m\n\u001b[0;32m--> 640\u001b[0;31m         \u001b[0mself\u001b[0m\u001b[0;34m.\u001b[0m\u001b[0massign_variables\u001b[0m\u001b[0;34m(\u001b[0m\u001b[0mdata\u001b[0m\u001b[0;34m,\u001b[0m \u001b[0mvariables\u001b[0m\u001b[0;34m)\u001b[0m\u001b[0;34m\u001b[0m\u001b[0;34m\u001b[0m\u001b[0m\n\u001b[0m\u001b[1;32m    641\u001b[0m \u001b[0;34m\u001b[0m\u001b[0m\n\u001b[1;32m    642\u001b[0m         \u001b[0;32mfor\u001b[0m \u001b[0mvar\u001b[0m\u001b[0;34m,\u001b[0m \u001b[0mcls\u001b[0m \u001b[0;32min\u001b[0m \u001b[0mself\u001b[0m\u001b[0;34m.\u001b[0m\u001b[0m_semantic_mappings\u001b[0m\u001b[0;34m.\u001b[0m\u001b[0mitems\u001b[0m\u001b[0;34m(\u001b[0m\u001b[0;34m)\u001b[0m\u001b[0;34m:\u001b[0m\u001b[0;34m\u001b[0m\u001b[0;34m\u001b[0m\u001b[0m\n",
      "\u001b[0;32m~/anaconda3/envs/ood/lib/python3.8/site-packages/seaborn/_oldcore.py\u001b[0m in \u001b[0;36massign_variables\u001b[0;34m(self, data, variables)\u001b[0m\n\u001b[1;32m    699\u001b[0m         \u001b[0;32melse\u001b[0m\u001b[0;34m:\u001b[0m\u001b[0;34m\u001b[0m\u001b[0;34m\u001b[0m\u001b[0m\n\u001b[1;32m    700\u001b[0m             \u001b[0mself\u001b[0m\u001b[0;34m.\u001b[0m\u001b[0minput_format\u001b[0m \u001b[0;34m=\u001b[0m \u001b[0;34m\"long\"\u001b[0m\u001b[0;34m\u001b[0m\u001b[0;34m\u001b[0m\u001b[0m\n\u001b[0;32m--> 701\u001b[0;31m             plot_data, variables = self._assign_variables_longform(\n\u001b[0m\u001b[1;32m    702\u001b[0m                 \u001b[0mdata\u001b[0m\u001b[0;34m,\u001b[0m \u001b[0;34m**\u001b[0m\u001b[0mvariables\u001b[0m\u001b[0;34m,\u001b[0m\u001b[0;34m\u001b[0m\u001b[0;34m\u001b[0m\u001b[0m\n\u001b[1;32m    703\u001b[0m             )\n",
      "\u001b[0;32m~/anaconda3/envs/ood/lib/python3.8/site-packages/seaborn/_oldcore.py\u001b[0m in \u001b[0;36m_assign_variables_longform\u001b[0;34m(self, data, **kwargs)\u001b[0m\n\u001b[1;32m    936\u001b[0m \u001b[0;34m\u001b[0m\u001b[0m\n\u001b[1;32m    937\u001b[0m                 \u001b[0merr\u001b[0m \u001b[0;34m=\u001b[0m \u001b[0;34mf\"Could not interpret value `{val}` for parameter `{key}`\"\u001b[0m\u001b[0;34m\u001b[0m\u001b[0;34m\u001b[0m\u001b[0m\n\u001b[0;32m--> 938\u001b[0;31m                 \u001b[0;32mraise\u001b[0m \u001b[0mValueError\u001b[0m\u001b[0;34m(\u001b[0m\u001b[0merr\u001b[0m\u001b[0;34m)\u001b[0m\u001b[0;34m\u001b[0m\u001b[0;34m\u001b[0m\u001b[0m\n\u001b[0m\u001b[1;32m    939\u001b[0m \u001b[0;34m\u001b[0m\u001b[0m\n\u001b[1;32m    940\u001b[0m             \u001b[0;32melse\u001b[0m\u001b[0;34m:\u001b[0m\u001b[0;34m\u001b[0m\u001b[0;34m\u001b[0m\u001b[0m\n",
      "\u001b[0;31mValueError\u001b[0m: Could not interpret value `temperature` for parameter `x`"
     ]
    },
    {
     "data": {
      "text/plain": [
       "<Figure size 216x180 with 0 Axes>"
      ]
     },
     "metadata": {},
     "output_type": "display_data"
    }
   ],
   "source": [
    "fig = plt.figure(figsize=(3, 2.5))\n",
    "ax = sns.lineplot(data=df, x='temperature', y='coverage', hue='data')\n",
    "# Define some hatches\n",
    "# pattern=['//','..','xx','']\n",
    "ax.set_xscale(\"log\")\n",
    "ax.legend_.remove()\n",
    "# replace 2 with 7 in your code\n",
    "# hatches=np.repeat(pattern,3)\n",
    "\n",
    "# for pat,bar in zip(hatches,ax.patches):\n",
    "#     bar.set_hatch(pat)\n",
    "\n",
    "plt.xlabel('')\n",
    "plt.ylabel('Coverage')\n",
    "\n",
    "# plt.legend(bbox_to_anchor=(0.35, 0.33))\n",
    "\n",
    "plt.tight_layout()\n",
    "plt.savefig('plots/temperature_hitrate.pdf', format='pdf')"
   ]
  },
  {
   "cell_type": "code",
   "execution_count": 113,
   "metadata": {},
   "outputs": [
    {
     "data": {
      "image/png": "[encoded data removed]",
      "text/plain": [
       "<Figure size 300x250 with 1 Axes>"
      ]
     },
     "metadata": {},
     "output_type": "display_data"
    }
   ],
   "source": [
    "fig = plt.figure(figsize=(3, 2.5))\n",
    "ax = sns.lineplot(df, x='temperature', y='hit_rate', hue='data', palette=sns.color_palette(\"Blues\", 3))\n",
    "# Define some hatches\n",
    "# pattern=['//','..','xx','']\n",
    "ax.set_xscale(\"log\")\n",
    "ax.legend_.remove()\n",
    "# replace 2 with 7 in your code\n",
    "# hatches=np.repeat(pattern,3)\n",
    "\n",
    "# for pat,bar in zip(hatches,ax.patches):\n",
    "#     bar.set_hatch(pat)\n",
    "\n",
    "plt.xlabel('')\n",
    "plt.ylabel('Hit Rate')\n",
    "\n",
    "# plt.legend(bbox_to_anchor=(0.35, 0.33))\n",
    "\n",
    "plt.tight_layout()\n",
    "plt.savefig('plots/temperature_hitrate.pdf', format='pdf')"
   ]
  },
  {
   "cell_type": "code",
   "execution_count": null,
   "metadata": {},
   "outputs": [],
   "source": []
  }
 ],
 "metadata": {
  "kernelspec": {
   "display_name": "hdexplain",
   "language": "python",
   "name": "python3"
  },
  "language_info": {
   "codemirror_mode": {
    "name": "ipython",
    "version": 3
   },
   "file_extension": ".py",
   "mimetype": "text/x-python",
   "name": "python",
   "nbconvert_exporter": "python",
   "pygments_lexer": "ipython3",
   "version": "3.10.14"
  }
 },
 "nbformat": 4,
 "nbformat_minor": 2
}
