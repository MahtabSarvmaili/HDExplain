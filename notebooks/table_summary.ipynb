{
 "cells": [
  {
   "cell_type": "code",
   "execution_count": 12,
   "metadata": {
    "ExecuteTime": {
     "end_time": "2024-10-01T21:58:22.770108116Z",
     "start_time": "2024-10-01T21:58:21.634092357Z"
    }
   },
   "outputs": [],
   "source": [
    "import pandas as pd\n",
    "import seaborn as sns\n",
    "import numpy as np\n",
    "from utils import load_dataframe_csv\n",
    "\n",
    "import matplotlib.pyplot as plt\n",
    "from itertools import count"
   ]
  },
  {
   "cell_type": "code",
   "execution_count": 13,
   "metadata": {
    "ExecuteTime": {
     "end_time": "2024-10-01T22:06:37.343704373Z",
     "start_time": "2024-10-01T22:06:37.337512131Z"
    }
   },
   "outputs": [],
   "source": [
    "df1 = load_dataframe_csv('tables', 'Explainability_CIFAR10.csv')\n",
    "df2 = load_dataframe_csv('tables', 'Explainability_OCEA.csv')\n",
    "df3 = load_dataframe_csv('tables', 'Explainability_MRI.csv')\n",
    "df4 = load_dataframe_csv('tables', 'Explainability_SVHN.csv')"
   ]
  },
  {
   "cell_type": "code",
   "execution_count": 14,
   "metadata": {
    "ExecuteTime": {
     "end_time": "2024-10-01T22:06:38.558846264Z",
     "start_time": "2024-10-01T22:06:38.544581519Z"
    }
   },
   "outputs": [],
   "source": [
    "df = pd.concat([df1, df2, df3, df4])\n",
    "# mahtab\n",
    "# df = pd.concat([df4])"
   ]
  },
  {
   "cell_type": "code",
   "execution_count": 15,
   "metadata": {
    "ExecuteTime": {
     "end_time": "2024-10-01T22:06:39.428772554Z",
     "start_time": "2024-10-01T22:06:39.425035401Z"
    }
   },
   "outputs": [
    {
     "data": {
      "application/vnd.microsoft.datawrangler.viewer.v0+json": {
       "columns": [
        {
         "name": "index",
         "rawType": "int64",
         "type": "integer"
        },
        {
         "name": "data",
         "rawType": "object",
         "type": "string"
        },
        {
         "name": "explainer",
         "rawType": "object",
         "type": "string"
        },
        {
         "name": "scale",
         "rawType": "bool",
         "type": "boolean"
        },
        {
         "name": "coverage",
         "rawType": "float64",
         "type": "float"
        },
        {
         "name": "hit_rate",
         "rawType": "float64",
         "type": "float"
        },
        {
         "name": "execution_time",
         "rawType": "float64",
         "type": "float"
        }
       ],
       "conversionMethod": "pd.DataFrame",
       "ref": "e02e11fb-7701-40c2-8fa4-5a90833d47cb",
       "rows": [
        [
         "0",
         "CIFAR10",
         "YADEA",
         "False",
         "0.88",
         "0.44",
         "12.880284309387209"
        ],
        [
         "1",
         "CIFAR10",
         "YADEA",
         "True",
         "0.2066666666666666",
         "0.0",
         "4.767714738845825"
        ],
        [
         "2",
         "CIFAR10",
         "RPS",
         "False",
         "0.1233333333333333",
         "0.0",
         "2.075058698654175"
        ],
        [
         "3",
         "CIFAR10",
         "IF",
         "True",
         "0.13",
         "0.02",
         "197.5865578651428"
        ],
        [
         "4",
         "CIFAR10",
         "TracIn",
         "True",
         "0.1266666666666666",
         "0.02",
         "42.02062487602234"
        ],
        [
         "5",
         "CIFAR10",
         "YADEA",
         "False",
         "0.8966666666666666",
         "0.43",
         "12.988904476165771"
        ],
        [
         "6",
         "CIFAR10",
         "YADEA",
         "True",
         "0.19",
         "0.01",
         "4.6572349071502686"
        ],
        [
         "7",
         "CIFAR10",
         "RPS",
         "False",
         "0.11",
         "0.0",
         "2.0743534564971924"
        ],
        [
         "8",
         "CIFAR10",
         "IF",
         "True",
         "0.1366666666666666",
         "0.02",
         "197.5980668067932"
        ],
        [
         "9",
         "CIFAR10",
         "TracIn",
         "True",
         "0.1366666666666666",
         "0.02",
         "44.02060127258301"
        ],
        [
         "10",
         "CIFAR10",
         "YADEA",
         "False",
         "0.8966666666666666",
         "0.49",
         "12.901984691619871"
        ],
        [
         "11",
         "CIFAR10",
         "YADEA",
         "True",
         "0.2166666666666666",
         "0.0",
         "4.699890613555908"
        ],
        [
         "12",
         "CIFAR10",
         "RPS",
         "False",
         "0.1166666666666666",
         "0.0",
         "2.1000635623931885"
        ],
        [
         "13",
         "CIFAR10",
         "IF",
         "True",
         "0.1466666666666666",
         "0.02",
         "197.96379923820496"
        ],
        [
         "14",
         "CIFAR10",
         "TracIn",
         "True",
         "0.1466666666666666",
         "0.02",
         "44.59163689613342"
        ],
        [
         "15",
         "CIFAR10",
         "YADEA",
         "False",
         "0.8933333333333333",
         "0.47",
         "12.976994037628174"
        ],
        [
         "16",
         "CIFAR10",
         "YADEA",
         "True",
         "0.2133333333333333",
         "0.02",
         "4.689443826675415"
        ],
        [
         "17",
         "CIFAR10",
         "RPS",
         "False",
         "0.1166666666666666",
         "0.02",
         "2.1069254875183105"
        ],
        [
         "18",
         "CIFAR10",
         "IF",
         "True",
         "0.13",
         "0.0",
         "201.35307383537287"
        ],
        [
         "19",
         "CIFAR10",
         "TracIn",
         "True",
         "0.13",
         "0.0",
         "43.70986557006836"
        ],
        [
         "20",
         "CIFAR10",
         "YADEA",
         "False",
         "0.8766666666666667",
         "0.35",
         "13.030962705612184"
        ],
        [
         "21",
         "CIFAR10",
         "YADEA",
         "True",
         "0.2033333333333333",
         "0.01",
         "4.709681272506714"
        ],
        [
         "22",
         "CIFAR10",
         "RPS",
         "False",
         "0.1133333333333333",
         "0.0",
         "2.10719895362854"
        ],
        [
         "23",
         "CIFAR10",
         "IF",
         "True",
         "0.1233333333333333",
         "0.0",
         "199.6611452102661"
        ],
        [
         "24",
         "CIFAR10",
         "TracIn",
         "True",
         "0.1233333333333333",
         "0.0",
         "42.947585105896"
        ],
        [
         "25",
         "CIFAR10",
         "YADEA",
         "False",
         "0.9",
         "0.4",
         "13.020777225494385"
        ],
        [
         "26",
         "CIFAR10",
         "YADEA",
         "True",
         "0.2166666666666666",
         "0.02",
         "4.705060720443726"
        ],
        [
         "27",
         "CIFAR10",
         "RPS",
         "False",
         "0.1166666666666666",
         "0.0",
         "2.1133041381835938"
        ],
        [
         "28",
         "CIFAR10",
         "IF",
         "True",
         "0.1466666666666666",
         "0.0",
         "202.51494479179385"
        ],
        [
         "29",
         "CIFAR10",
         "TracIn",
         "True",
         "0.1466666666666666",
         "0.0",
         "43.06034874916077"
        ],
        [
         "30",
         "CIFAR10",
         "YADEA",
         "False",
         "0.88",
         "0.48",
         "13.01648211479187"
        ],
        [
         "31",
         "CIFAR10",
         "YADEA",
         "True",
         "0.21",
         "0.02",
         "4.706223964691162"
        ],
        [
         "32",
         "CIFAR10",
         "RPS",
         "False",
         "0.1133333333333333",
         "0.01",
         "2.1132824420928955"
        ],
        [
         "33",
         "CIFAR10",
         "IF",
         "True",
         "0.13",
         "0.0",
         "202.05136036872864"
        ],
        [
         "34",
         "CIFAR10",
         "TracIn",
         "True",
         "0.1266666666666666",
         "0.0",
         "43.24817872047424"
        ],
        [
         "35",
         "CIFAR10",
         "YADEA",
         "False",
         "0.91",
         "0.53",
         "13.121179103851318"
        ],
        [
         "36",
         "CIFAR10",
         "YADEA",
         "True",
         "0.2366666666666666",
         "0.01",
         "4.717522144317627"
        ],
        [
         "37",
         "CIFAR10",
         "RPS",
         "False",
         "0.12",
         "0.02",
         "2.1241016387939453"
        ],
        [
         "38",
         "CIFAR10",
         "IF",
         "True",
         "0.14",
         "0.01",
         "203.8221950531006"
        ],
        [
         "39",
         "CIFAR10",
         "TracIn",
         "True",
         "0.14",
         "0.01",
         "43.17148423194885"
        ],
        [
         "40",
         "CIFAR10",
         "YADEA",
         "False",
         "0.8866666666666667",
         "0.43",
         "13.000157594680786"
        ],
        [
         "41",
         "CIFAR10",
         "YADEA",
         "True",
         "0.2",
         "0.02",
         "4.704991340637207"
        ],
        [
         "42",
         "CIFAR10",
         "RPS",
         "False",
         "0.1133333333333333",
         "0.0",
         "2.161227941513061"
        ],
        [
         "43",
         "CIFAR10",
         "IF",
         "True",
         "0.1233333333333333",
         "0.01",
         "201.02941608428955"
        ],
        [
         "44",
         "CIFAR10",
         "TracIn",
         "True",
         "0.1233333333333333",
         "0.01",
         "43.72534918785095"
        ],
        [
         "45",
         "CIFAR10",
         "YADEA",
         "False",
         "0.8533333333333334",
         "0.4",
         "13.071738481521606"
        ],
        [
         "46",
         "CIFAR10",
         "YADEA",
         "True",
         "0.1966666666666666",
         "0.02",
         "4.716553449630737"
        ],
        [
         "47",
         "CIFAR10",
         "RPS",
         "False",
         "0.12",
         "0.01",
         "2.1064610481262207"
        ],
        [
         "48",
         "CIFAR10",
         "IF",
         "True",
         "0.1333333333333333",
         "0.01",
         "200.32777047157288"
        ],
        [
         "49",
         "CIFAR10",
         "TracIn",
         "True",
         "0.1333333333333333",
         "0.01",
         "42.84204411506653"
        ]
       ],
       "shape": {
        "columns": 6,
        "rows": 575
       }
      },
      "text/html": [
       "<div>\n",
       "<style scoped>\n",
       "    .dataframe tbody tr th:only-of-type {\n",
       "        vertical-align: middle;\n",
       "    }\n",
       "\n",
       "    .dataframe tbody tr th {\n",
       "        vertical-align: top;\n",
       "    }\n",
       "\n",
       "    .dataframe thead th {\n",
       "        text-align: right;\n",
       "    }\n",
       "</style>\n",
       "<table border=\"1\" class=\"dataframe\">\n",
       "  <thead>\n",
       "    <tr style=\"text-align: right;\">\n",
       "      <th></th>\n",
       "      <th>data</th>\n",
       "      <th>explainer</th>\n",
       "      <th>scale</th>\n",
       "      <th>coverage</th>\n",
       "      <th>hit_rate</th>\n",
       "      <th>execution_time</th>\n",
       "    </tr>\n",
       "  </thead>\n",
       "  <tbody>\n",
       "    <tr>\n",
       "      <th>0</th>\n",
       "      <td>CIFAR10</td>\n",
       "      <td>YADEA</td>\n",
       "      <td>False</td>\n",
       "      <td>0.880000</td>\n",
       "      <td>0.44</td>\n",
       "      <td>12.880284</td>\n",
       "    </tr>\n",
       "    <tr>\n",
       "      <th>1</th>\n",
       "      <td>CIFAR10</td>\n",
       "      <td>YADEA</td>\n",
       "      <td>True</td>\n",
       "      <td>0.206667</td>\n",
       "      <td>0.00</td>\n",
       "      <td>4.767715</td>\n",
       "    </tr>\n",
       "    <tr>\n",
       "      <th>2</th>\n",
       "      <td>CIFAR10</td>\n",
       "      <td>RPS</td>\n",
       "      <td>False</td>\n",
       "      <td>0.123333</td>\n",
       "      <td>0.00</td>\n",
       "      <td>2.075059</td>\n",
       "    </tr>\n",
       "    <tr>\n",
       "      <th>3</th>\n",
       "      <td>CIFAR10</td>\n",
       "      <td>IF</td>\n",
       "      <td>True</td>\n",
       "      <td>0.130000</td>\n",
       "      <td>0.02</td>\n",
       "      <td>197.586558</td>\n",
       "    </tr>\n",
       "    <tr>\n",
       "      <th>4</th>\n",
       "      <td>CIFAR10</td>\n",
       "      <td>TracIn</td>\n",
       "      <td>True</td>\n",
       "      <td>0.126667</td>\n",
       "      <td>0.02</td>\n",
       "      <td>42.020625</td>\n",
       "    </tr>\n",
       "    <tr>\n",
       "      <th>...</th>\n",
       "      <td>...</td>\n",
       "      <td>...</td>\n",
       "      <td>...</td>\n",
       "      <td>...</td>\n",
       "      <td>...</td>\n",
       "      <td>...</td>\n",
       "    </tr>\n",
       "    <tr>\n",
       "      <th>145</th>\n",
       "      <td>SVHN</td>\n",
       "      <td>YADEA</td>\n",
       "      <td>False</td>\n",
       "      <td>0.523333</td>\n",
       "      <td>0.02</td>\n",
       "      <td>15.867550</td>\n",
       "    </tr>\n",
       "    <tr>\n",
       "      <th>146</th>\n",
       "      <td>SVHN</td>\n",
       "      <td>YADEA</td>\n",
       "      <td>True</td>\n",
       "      <td>0.670000</td>\n",
       "      <td>0.01</td>\n",
       "      <td>5.168205</td>\n",
       "    </tr>\n",
       "    <tr>\n",
       "      <th>147</th>\n",
       "      <td>SVHN</td>\n",
       "      <td>RPS</td>\n",
       "      <td>False</td>\n",
       "      <td>0.200000</td>\n",
       "      <td>0.01</td>\n",
       "      <td>1.574307</td>\n",
       "    </tr>\n",
       "    <tr>\n",
       "      <th>148</th>\n",
       "      <td>SVHN</td>\n",
       "      <td>IF</td>\n",
       "      <td>True</td>\n",
       "      <td>0.290000</td>\n",
       "      <td>0.00</td>\n",
       "      <td>90.604756</td>\n",
       "    </tr>\n",
       "    <tr>\n",
       "      <th>149</th>\n",
       "      <td>SVHN</td>\n",
       "      <td>TracIn</td>\n",
       "      <td>True</td>\n",
       "      <td>0.290000</td>\n",
       "      <td>0.00</td>\n",
       "      <td>70.278291</td>\n",
       "    </tr>\n",
       "  </tbody>\n",
       "</table>\n",
       "<p>575 rows × 6 columns</p>\n",
       "</div>"
      ],
      "text/plain": [
       "        data explainer  scale  coverage  hit_rate  execution_time\n",
       "0    CIFAR10     YADEA  False  0.880000      0.44       12.880284\n",
       "1    CIFAR10     YADEA   True  0.206667      0.00        4.767715\n",
       "2    CIFAR10       RPS  False  0.123333      0.00        2.075059\n",
       "3    CIFAR10        IF   True  0.130000      0.02      197.586558\n",
       "4    CIFAR10    TracIn   True  0.126667      0.02       42.020625\n",
       "..       ...       ...    ...       ...       ...             ...\n",
       "145     SVHN     YADEA  False  0.523333      0.02       15.867550\n",
       "146     SVHN     YADEA   True  0.670000      0.01        5.168205\n",
       "147     SVHN       RPS  False  0.200000      0.01        1.574307\n",
       "148     SVHN        IF   True  0.290000      0.00       90.604756\n",
       "149     SVHN    TracIn   True  0.290000      0.00       70.278291\n",
       "\n",
       "[575 rows x 6 columns]"
      ]
     },
     "execution_count": 15,
     "metadata": {},
     "output_type": "execute_result"
    }
   ],
   "source": [
    "df"
   ]
  },
  {
   "cell_type": "code",
   "execution_count": 16,
   "metadata": {
    "ExecuteTime": {
     "end_time": "2024-10-01T22:06:41.001402851Z",
     "start_time": "2024-10-01T22:06:40.995996970Z"
    }
   },
   "outputs": [
    {
     "name": "stderr",
     "output_type": "stream",
     "text": [
      "/tmp/ipykernel_8706/980844820.py:2: FutureWarning: ChainedAssignmentError: behaviour will change in pandas 3.0!\n",
      "You are setting values through chained assignment. Currently this works in certain cases, but when using Copy-on-Write (which will become the default behaviour in pandas 3.0) this will never work to update the original DataFrame or Series, because the intermediate object on which we are setting values will behave as a copy.\n",
      "A typical example is when you are setting values in a column of a DataFrame, like:\n",
      "\n",
      "df[\"col\"][row_indexer] = value\n",
      "\n",
      "Use `df.loc[row_indexer, \"col\"] = values` instead, to perform the assignment in a single step and ensure this keeps updating the original `df`.\n",
      "\n",
      "See the caveats in the documentation: https://pandas.pydata.org/pandas-docs/stable/user_guide/indexing.html#returning-a-view-versus-a-copy\n",
      "\n",
      "  df['names'][df['names']=='IF*'] = 'IF'\n",
      "/tmp/ipykernel_8706/980844820.py:2: SettingWithCopyWarning: \n",
      "A value is trying to be set on a copy of a slice from a DataFrame\n",
      "\n",
      "See the caveats in the documentation: https://pandas.pydata.org/pandas-docs/stable/user_guide/indexing.html#returning-a-view-versus-a-copy\n",
      "  df['names'][df['names']=='IF*'] = 'IF'\n",
      "/tmp/ipykernel_8706/980844820.py:3: FutureWarning: ChainedAssignmentError: behaviour will change in pandas 3.0!\n",
      "You are setting values through chained assignment. Currently this works in certain cases, but when using Copy-on-Write (which will become the default behaviour in pandas 3.0) this will never work to update the original DataFrame or Series, because the intermediate object on which we are setting values will behave as a copy.\n",
      "A typical example is when you are setting values in a column of a DataFrame, like:\n",
      "\n",
      "df[\"col\"][row_indexer] = value\n",
      "\n",
      "Use `df.loc[row_indexer, \"col\"] = values` instead, to perform the assignment in a single step and ensure this keeps updating the original `df`.\n",
      "\n",
      "See the caveats in the documentation: https://pandas.pydata.org/pandas-docs/stable/user_guide/indexing.html#returning-a-view-versus-a-copy\n",
      "\n",
      "  df['data'][df['data']=='OCEA'] = 'OCH'\n",
      "/tmp/ipykernel_8706/980844820.py:3: SettingWithCopyWarning: \n",
      "A value is trying to be set on a copy of a slice from a DataFrame\n",
      "\n",
      "See the caveats in the documentation: https://pandas.pydata.org/pandas-docs/stable/user_guide/indexing.html#returning-a-view-versus-a-copy\n",
      "  df['data'][df['data']=='OCEA'] = 'OCH'\n"
     ]
    }
   ],
   "source": [
    "df['names'] = df['explainer'] +  [\"*\" if i else \"\" for i in df['scale'].to_list()]\n",
    "df['names'][df['names']=='IF*'] = 'IF'\n",
    "df['data'][df['data']=='OCEA'] = 'OCH'\n",
    "df['names'] = df['names'].replace({'YADEA': 'HD-Explain', 'YADEA*': 'HD-Explain*'})\n"
   ]
  },
  {
   "cell_type": "code",
   "execution_count": 17,
   "metadata": {
    "ExecuteTime": {
     "end_time": "2024-10-01T21:58:37.401681056Z",
     "start_time": "2024-10-01T21:58:37.399224013Z"
    }
   },
   "outputs": [
    {
     "data": {
      "application/vnd.microsoft.datawrangler.viewer.v0+json": {
       "columns": [
        {
         "name": "index",
         "rawType": "int64",
         "type": "integer"
        },
        {
         "name": "data",
         "rawType": "object",
         "type": "string"
        },
        {
         "name": "explainer",
         "rawType": "object",
         "type": "string"
        },
        {
         "name": "scale",
         "rawType": "bool",
         "type": "boolean"
        },
        {
         "name": "coverage",
         "rawType": "float64",
         "type": "float"
        },
        {
         "name": "hit_rate",
         "rawType": "float64",
         "type": "float"
        },
        {
         "name": "execution_time",
         "rawType": "float64",
         "type": "float"
        },
        {
         "name": "names",
         "rawType": "object",
         "type": "string"
        }
       ],
       "conversionMethod": "pd.DataFrame",
       "ref": "a1a273cc-334e-4523-9991-7018e47efa49",
       "rows": [
        [
         "0",
         "CIFAR10",
         "YADEA",
         "False",
         "0.88",
         "0.44",
         "12.880284309387209",
         "HD-Explain"
        ],
        [
         "1",
         "CIFAR10",
         "YADEA",
         "True",
         "0.2066666666666666",
         "0.0",
         "4.767714738845825",
         "HD-Explain*"
        ],
        [
         "2",
         "CIFAR10",
         "RPS",
         "False",
         "0.1233333333333333",
         "0.0",
         "2.075058698654175",
         "RPS"
        ],
        [
         "3",
         "CIFAR10",
         "IF",
         "True",
         "0.13",
         "0.02",
         "197.5865578651428",
         "IF"
        ],
        [
         "4",
         "CIFAR10",
         "TracIn",
         "True",
         "0.1266666666666666",
         "0.02",
         "42.02062487602234",
         "TracIn*"
        ],
        [
         "5",
         "CIFAR10",
         "YADEA",
         "False",
         "0.8966666666666666",
         "0.43",
         "12.988904476165771",
         "HD-Explain"
        ],
        [
         "6",
         "CIFAR10",
         "YADEA",
         "True",
         "0.19",
         "0.01",
         "4.6572349071502686",
         "HD-Explain*"
        ],
        [
         "7",
         "CIFAR10",
         "RPS",
         "False",
         "0.11",
         "0.0",
         "2.0743534564971924",
         "RPS"
        ],
        [
         "8",
         "CIFAR10",
         "IF",
         "True",
         "0.1366666666666666",
         "0.02",
         "197.5980668067932",
         "IF"
        ],
        [
         "9",
         "CIFAR10",
         "TracIn",
         "True",
         "0.1366666666666666",
         "0.02",
         "44.02060127258301",
         "TracIn*"
        ],
        [
         "10",
         "CIFAR10",
         "YADEA",
         "False",
         "0.8966666666666666",
         "0.49",
         "12.901984691619871",
         "HD-Explain"
        ],
        [
         "11",
         "CIFAR10",
         "YADEA",
         "True",
         "0.2166666666666666",
         "0.0",
         "4.699890613555908",
         "HD-Explain*"
        ],
        [
         "12",
         "CIFAR10",
         "RPS",
         "False",
         "0.1166666666666666",
         "0.0",
         "2.1000635623931885",
         "RPS"
        ],
        [
         "13",
         "CIFAR10",
         "IF",
         "True",
         "0.1466666666666666",
         "0.02",
         "197.96379923820496",
         "IF"
        ],
        [
         "14",
         "CIFAR10",
         "TracIn",
         "True",
         "0.1466666666666666",
         "0.02",
         "44.59163689613342",
         "TracIn*"
        ],
        [
         "15",
         "CIFAR10",
         "YADEA",
         "False",
         "0.8933333333333333",
         "0.47",
         "12.976994037628174",
         "HD-Explain"
        ],
        [
         "16",
         "CIFAR10",
         "YADEA",
         "True",
         "0.2133333333333333",
         "0.02",
         "4.689443826675415",
         "HD-Explain*"
        ],
        [
         "17",
         "CIFAR10",
         "RPS",
         "False",
         "0.1166666666666666",
         "0.02",
         "2.1069254875183105",
         "RPS"
        ],
        [
         "18",
         "CIFAR10",
         "IF",
         "True",
         "0.13",
         "0.0",
         "201.35307383537287",
         "IF"
        ],
        [
         "19",
         "CIFAR10",
         "TracIn",
         "True",
         "0.13",
         "0.0",
         "43.70986557006836",
         "TracIn*"
        ],
        [
         "20",
         "CIFAR10",
         "YADEA",
         "False",
         "0.8766666666666667",
         "0.35",
         "13.030962705612184",
         "HD-Explain"
        ],
        [
         "21",
         "CIFAR10",
         "YADEA",
         "True",
         "0.2033333333333333",
         "0.01",
         "4.709681272506714",
         "HD-Explain*"
        ],
        [
         "22",
         "CIFAR10",
         "RPS",
         "False",
         "0.1133333333333333",
         "0.0",
         "2.10719895362854",
         "RPS"
        ],
        [
         "23",
         "CIFAR10",
         "IF",
         "True",
         "0.1233333333333333",
         "0.0",
         "199.6611452102661",
         "IF"
        ],
        [
         "24",
         "CIFAR10",
         "TracIn",
         "True",
         "0.1233333333333333",
         "0.0",
         "42.947585105896",
         "TracIn*"
        ],
        [
         "25",
         "CIFAR10",
         "YADEA",
         "False",
         "0.9",
         "0.4",
         "13.020777225494385",
         "HD-Explain"
        ],
        [
         "26",
         "CIFAR10",
         "YADEA",
         "True",
         "0.2166666666666666",
         "0.02",
         "4.705060720443726",
         "HD-Explain*"
        ],
        [
         "27",
         "CIFAR10",
         "RPS",
         "False",
         "0.1166666666666666",
         "0.0",
         "2.1133041381835938",
         "RPS"
        ],
        [
         "28",
         "CIFAR10",
         "IF",
         "True",
         "0.1466666666666666",
         "0.0",
         "202.51494479179385",
         "IF"
        ],
        [
         "29",
         "CIFAR10",
         "TracIn",
         "True",
         "0.1466666666666666",
         "0.0",
         "43.06034874916077",
         "TracIn*"
        ],
        [
         "30",
         "CIFAR10",
         "YADEA",
         "False",
         "0.88",
         "0.48",
         "13.01648211479187",
         "HD-Explain"
        ],
        [
         "31",
         "CIFAR10",
         "YADEA",
         "True",
         "0.21",
         "0.02",
         "4.706223964691162",
         "HD-Explain*"
        ],
        [
         "32",
         "CIFAR10",
         "RPS",
         "False",
         "0.1133333333333333",
         "0.01",
         "2.1132824420928955",
         "RPS"
        ],
        [
         "33",
         "CIFAR10",
         "IF",
         "True",
         "0.13",
         "0.0",
         "202.05136036872864",
         "IF"
        ],
        [
         "34",
         "CIFAR10",
         "TracIn",
         "True",
         "0.1266666666666666",
         "0.0",
         "43.24817872047424",
         "TracIn*"
        ],
        [
         "35",
         "CIFAR10",
         "YADEA",
         "False",
         "0.91",
         "0.53",
         "13.121179103851318",
         "HD-Explain"
        ],
        [
         "36",
         "CIFAR10",
         "YADEA",
         "True",
         "0.2366666666666666",
         "0.01",
         "4.717522144317627",
         "HD-Explain*"
        ],
        [
         "37",
         "CIFAR10",
         "RPS",
         "False",
         "0.12",
         "0.02",
         "2.1241016387939453",
         "RPS"
        ],
        [
         "38",
         "CIFAR10",
         "IF",
         "True",
         "0.14",
         "0.01",
         "203.8221950531006",
         "IF"
        ],
        [
         "39",
         "CIFAR10",
         "TracIn",
         "True",
         "0.14",
         "0.01",
         "43.17148423194885",
         "TracIn*"
        ],
        [
         "40",
         "CIFAR10",
         "YADEA",
         "False",
         "0.8866666666666667",
         "0.43",
         "13.000157594680786",
         "HD-Explain"
        ],
        [
         "41",
         "CIFAR10",
         "YADEA",
         "True",
         "0.2",
         "0.02",
         "4.704991340637207",
         "HD-Explain*"
        ],
        [
         "42",
         "CIFAR10",
         "RPS",
         "False",
         "0.1133333333333333",
         "0.0",
         "2.161227941513061",
         "RPS"
        ],
        [
         "43",
         "CIFAR10",
         "IF",
         "True",
         "0.1233333333333333",
         "0.01",
         "201.02941608428955",
         "IF"
        ],
        [
         "44",
         "CIFAR10",
         "TracIn",
         "True",
         "0.1233333333333333",
         "0.01",
         "43.72534918785095",
         "TracIn*"
        ],
        [
         "45",
         "CIFAR10",
         "YADEA",
         "False",
         "0.8533333333333334",
         "0.4",
         "13.071738481521606",
         "HD-Explain"
        ],
        [
         "46",
         "CIFAR10",
         "YADEA",
         "True",
         "0.1966666666666666",
         "0.02",
         "4.716553449630737",
         "HD-Explain*"
        ],
        [
         "47",
         "CIFAR10",
         "RPS",
         "False",
         "0.12",
         "0.01",
         "2.1064610481262207",
         "RPS"
        ],
        [
         "48",
         "CIFAR10",
         "IF",
         "True",
         "0.1333333333333333",
         "0.01",
         "200.32777047157288",
         "IF"
        ],
        [
         "49",
         "CIFAR10",
         "TracIn",
         "True",
         "0.1333333333333333",
         "0.01",
         "42.84204411506653",
         "TracIn*"
        ]
       ],
       "shape": {
        "columns": 7,
        "rows": 575
       }
      },
      "text/html": [
       "<div>\n",
       "<style scoped>\n",
       "    .dataframe tbody tr th:only-of-type {\n",
       "        vertical-align: middle;\n",
       "    }\n",
       "\n",
       "    .dataframe tbody tr th {\n",
       "        vertical-align: top;\n",
       "    }\n",
       "\n",
       "    .dataframe thead th {\n",
       "        text-align: right;\n",
       "    }\n",
       "</style>\n",
       "<table border=\"1\" class=\"dataframe\">\n",
       "  <thead>\n",
       "    <tr style=\"text-align: right;\">\n",
       "      <th></th>\n",
       "      <th>data</th>\n",
       "      <th>explainer</th>\n",
       "      <th>scale</th>\n",
       "      <th>coverage</th>\n",
       "      <th>hit_rate</th>\n",
       "      <th>execution_time</th>\n",
       "      <th>names</th>\n",
       "    </tr>\n",
       "  </thead>\n",
       "  <tbody>\n",
       "    <tr>\n",
       "      <th>0</th>\n",
       "      <td>CIFAR10</td>\n",
       "      <td>YADEA</td>\n",
       "      <td>False</td>\n",
       "      <td>0.880000</td>\n",
       "      <td>0.44</td>\n",
       "      <td>12.880284</td>\n",
       "      <td>HD-Explain</td>\n",
       "    </tr>\n",
       "    <tr>\n",
       "      <th>1</th>\n",
       "      <td>CIFAR10</td>\n",
       "      <td>YADEA</td>\n",
       "      <td>True</td>\n",
       "      <td>0.206667</td>\n",
       "      <td>0.00</td>\n",
       "      <td>4.767715</td>\n",
       "      <td>HD-Explain*</td>\n",
       "    </tr>\n",
       "    <tr>\n",
       "      <th>2</th>\n",
       "      <td>CIFAR10</td>\n",
       "      <td>RPS</td>\n",
       "      <td>False</td>\n",
       "      <td>0.123333</td>\n",
       "      <td>0.00</td>\n",
       "      <td>2.075059</td>\n",
       "      <td>RPS</td>\n",
       "    </tr>\n",
       "    <tr>\n",
       "      <th>3</th>\n",
       "      <td>CIFAR10</td>\n",
       "      <td>IF</td>\n",
       "      <td>True</td>\n",
       "      <td>0.130000</td>\n",
       "      <td>0.02</td>\n",
       "      <td>197.586558</td>\n",
       "      <td>IF</td>\n",
       "    </tr>\n",
       "    <tr>\n",
       "      <th>4</th>\n",
       "      <td>CIFAR10</td>\n",
       "      <td>TracIn</td>\n",
       "      <td>True</td>\n",
       "      <td>0.126667</td>\n",
       "      <td>0.02</td>\n",
       "      <td>42.020625</td>\n",
       "      <td>TracIn*</td>\n",
       "    </tr>\n",
       "    <tr>\n",
       "      <th>...</th>\n",
       "      <td>...</td>\n",
       "      <td>...</td>\n",
       "      <td>...</td>\n",
       "      <td>...</td>\n",
       "      <td>...</td>\n",
       "      <td>...</td>\n",
       "      <td>...</td>\n",
       "    </tr>\n",
       "    <tr>\n",
       "      <th>145</th>\n",
       "      <td>SVHN</td>\n",
       "      <td>YADEA</td>\n",
       "      <td>False</td>\n",
       "      <td>0.523333</td>\n",
       "      <td>0.02</td>\n",
       "      <td>15.867550</td>\n",
       "      <td>HD-Explain</td>\n",
       "    </tr>\n",
       "    <tr>\n",
       "      <th>146</th>\n",
       "      <td>SVHN</td>\n",
       "      <td>YADEA</td>\n",
       "      <td>True</td>\n",
       "      <td>0.670000</td>\n",
       "      <td>0.01</td>\n",
       "      <td>5.168205</td>\n",
       "      <td>HD-Explain*</td>\n",
       "    </tr>\n",
       "    <tr>\n",
       "      <th>147</th>\n",
       "      <td>SVHN</td>\n",
       "      <td>RPS</td>\n",
       "      <td>False</td>\n",
       "      <td>0.200000</td>\n",
       "      <td>0.01</td>\n",
       "      <td>1.574307</td>\n",
       "      <td>RPS</td>\n",
       "    </tr>\n",
       "    <tr>\n",
       "      <th>148</th>\n",
       "      <td>SVHN</td>\n",
       "      <td>IF</td>\n",
       "      <td>True</td>\n",
       "      <td>0.290000</td>\n",
       "      <td>0.00</td>\n",
       "      <td>90.604756</td>\n",
       "      <td>IF</td>\n",
       "    </tr>\n",
       "    <tr>\n",
       "      <th>149</th>\n",
       "      <td>SVHN</td>\n",
       "      <td>TracIn</td>\n",
       "      <td>True</td>\n",
       "      <td>0.290000</td>\n",
       "      <td>0.00</td>\n",
       "      <td>70.278291</td>\n",
       "      <td>TracIn*</td>\n",
       "    </tr>\n",
       "  </tbody>\n",
       "</table>\n",
       "<p>575 rows × 7 columns</p>\n",
       "</div>"
      ],
      "text/plain": [
       "        data explainer  scale  coverage  hit_rate  execution_time        names\n",
       "0    CIFAR10     YADEA  False  0.880000      0.44       12.880284   HD-Explain\n",
       "1    CIFAR10     YADEA   True  0.206667      0.00        4.767715  HD-Explain*\n",
       "2    CIFAR10       RPS  False  0.123333      0.00        2.075059          RPS\n",
       "3    CIFAR10        IF   True  0.130000      0.02      197.586558           IF\n",
       "4    CIFAR10    TracIn   True  0.126667      0.02       42.020625      TracIn*\n",
       "..       ...       ...    ...       ...       ...             ...          ...\n",
       "145     SVHN     YADEA  False  0.523333      0.02       15.867550   HD-Explain\n",
       "146     SVHN     YADEA   True  0.670000      0.01        5.168205  HD-Explain*\n",
       "147     SVHN       RPS  False  0.200000      0.01        1.574307          RPS\n",
       "148     SVHN        IF   True  0.290000      0.00       90.604756           IF\n",
       "149     SVHN    TracIn   True  0.290000      0.00       70.278291      TracIn*\n",
       "\n",
       "[575 rows x 7 columns]"
      ]
     },
     "execution_count": 17,
     "metadata": {},
     "output_type": "execute_result"
    }
   ],
   "source": [
    "df"
   ]
  },
  {
   "cell_type": "code",
   "execution_count": 18,
   "metadata": {
    "ExecuteTime": {
     "end_time": "2024-10-01T21:58:37.905118732Z",
     "start_time": "2024-10-01T21:58:37.903026713Z"
    },
    "collapsed": false
   },
   "outputs": [],
   "source": [
    "grouped = df.groupby('names').agg({\n",
    "    'coverage': ['mean', 'std'],\n",
    "    'hit_rate': ['mean', 'std'],\n",
    "    'execution_time': ['mean', 'std'],\n",
    "})\n"
   ]
  },
  {
   "cell_type": "code",
   "execution_count": 19,
   "metadata": {
    "ExecuteTime": {
     "end_time": "2024-10-01T21:58:38.642683448Z",
     "start_time": "2024-10-01T21:58:38.641403404Z"
    },
    "collapsed": false
   },
   "outputs": [],
   "source": [
    "result = pd.DataFrame({\n",
    "    'coverage': grouped['coverage']['mean'].round(2).astype(str) + \" ± \" + grouped['coverage']['std'].round(2).astype(str),\n",
    "    'hit_rate': grouped['hit_rate']['mean'].round(2).astype(str) + \" ± \" + grouped['hit_rate']['std'].round(2).astype(str),\n",
    "    'execution_time': grouped['execution_time']['mean'].round(2).astype(str) + \" ± \" + grouped['execution_time']['std'].round(2).astype(str)\n",
    "})\n",
    "\n",
    "# Set the index to 'names'\n",
    "result.index.name = 'names'\n"
   ]
  },
  {
   "cell_type": "code",
   "execution_count": 20,
   "metadata": {
    "ExecuteTime": {
     "end_time": "2024-10-01T21:58:40.249564314Z",
     "start_time": "2024-10-01T21:58:40.244314444Z"
    },
    "collapsed": false
   },
   "outputs": [
    {
     "data": {
      "application/vnd.microsoft.datawrangler.viewer.v0+json": {
       "columns": [
        {
         "name": "names",
         "rawType": "object",
         "type": "string"
        },
        {
         "name": "coverage",
         "rawType": "object",
         "type": "string"
        },
        {
         "name": "hit_rate",
         "rawType": "object",
         "type": "string"
        },
        {
         "name": "execution_time",
         "rawType": "object",
         "type": "string"
        }
       ],
       "conversionMethod": "pd.DataFrame",
       "ref": "8102c76f-6b29-4219-97e0-e18d9159b99b",
       "rows": [
        [
         "HD-Explain",
         "0.68 ± 0.15",
         "0.26 ± 0.23",
         "94.34 ± 126.26"
        ],
        [
         "HD-Explain*",
         "0.55 ± 0.21",
         "0.22 ± 0.23",
         "9.48 ± 7.44"
        ],
        [
         "IF",
         "0.28 ± 0.16",
         "0.02 ± 0.02",
         "990.18 ± 1236.73"
        ],
        [
         "RPS",
         "0.22 ± 0.15",
         "0.02 ± 0.02",
         "4.25 ± 3.73"
        ],
        [
         "TracIn*",
         "0.27 ± 0.16",
         "0.02 ± 0.02",
         "53.3 ± 27.48"
        ]
       ],
       "shape": {
        "columns": 3,
        "rows": 5
       }
      },
      "text/html": [
       "<div>\n",
       "<style scoped>\n",
       "    .dataframe tbody tr th:only-of-type {\n",
       "        vertical-align: middle;\n",
       "    }\n",
       "\n",
       "    .dataframe tbody tr th {\n",
       "        vertical-align: top;\n",
       "    }\n",
       "\n",
       "    .dataframe thead th {\n",
       "        text-align: right;\n",
       "    }\n",
       "</style>\n",
       "<table border=\"1\" class=\"dataframe\">\n",
       "  <thead>\n",
       "    <tr style=\"text-align: right;\">\n",
       "      <th></th>\n",
       "      <th>coverage</th>\n",
       "      <th>hit_rate</th>\n",
       "      <th>execution_time</th>\n",
       "    </tr>\n",
       "    <tr>\n",
       "      <th>names</th>\n",
       "      <th></th>\n",
       "      <th></th>\n",
       "      <th></th>\n",
       "    </tr>\n",
       "  </thead>\n",
       "  <tbody>\n",
       "    <tr>\n",
       "      <th>HD-Explain</th>\n",
       "      <td>0.68 ± 0.15</td>\n",
       "      <td>0.26 ± 0.23</td>\n",
       "      <td>94.34 ± 126.26</td>\n",
       "    </tr>\n",
       "    <tr>\n",
       "      <th>HD-Explain*</th>\n",
       "      <td>0.55 ± 0.21</td>\n",
       "      <td>0.22 ± 0.23</td>\n",
       "      <td>9.48 ± 7.44</td>\n",
       "    </tr>\n",
       "    <tr>\n",
       "      <th>IF</th>\n",
       "      <td>0.28 ± 0.16</td>\n",
       "      <td>0.02 ± 0.02</td>\n",
       "      <td>990.18 ± 1236.73</td>\n",
       "    </tr>\n",
       "    <tr>\n",
       "      <th>RPS</th>\n",
       "      <td>0.22 ± 0.15</td>\n",
       "      <td>0.02 ± 0.02</td>\n",
       "      <td>4.25 ± 3.73</td>\n",
       "    </tr>\n",
       "    <tr>\n",
       "      <th>TracIn*</th>\n",
       "      <td>0.27 ± 0.16</td>\n",
       "      <td>0.02 ± 0.02</td>\n",
       "      <td>53.3 ± 27.48</td>\n",
       "    </tr>\n",
       "  </tbody>\n",
       "</table>\n",
       "</div>"
      ],
      "text/plain": [
       "                coverage     hit_rate    execution_time\n",
       "names                                                  \n",
       "HD-Explain   0.68 ± 0.15  0.26 ± 0.23    94.34 ± 126.26\n",
       "HD-Explain*  0.55 ± 0.21  0.22 ± 0.23       9.48 ± 7.44\n",
       "IF           0.28 ± 0.16  0.02 ± 0.02  990.18 ± 1236.73\n",
       "RPS          0.22 ± 0.15  0.02 ± 0.02       4.25 ± 3.73\n",
       "TracIn*      0.27 ± 0.16  0.02 ± 0.02      53.3 ± 27.48"
      ]
     },
     "execution_count": 20,
     "metadata": {},
     "output_type": "execute_result"
    }
   ],
   "source": [
    "result"
   ]
  },
  {
   "cell_type": "code",
   "execution_count": 21,
   "metadata": {
    "ExecuteTime": {
     "end_time": "2024-10-01T21:58:42.801044720Z",
     "start_time": "2024-10-01T21:58:42.746700842Z"
    },
    "collapsed": false
   },
   "outputs": [
    {
     "name": "stdout",
     "output_type": "stream",
     "text": [
      "\\begin{tabular}{|c|c|c|c|}\n",
      "\\toprule\n",
      " & coverage & hit_rate & execution_time \\\\\n",
      "names &  &  &  \\\\\n",
      "\\midrule\n",
      "HD-Explain & 0.68 ± 0.15 & 0.26 ± 0.23 & 94.34 ± 126.26 \\\\\n",
      "HD-Explain* & 0.55 ± 0.21 & 0.22 ± 0.23 & 9.48 ± 7.44 \\\\\n",
      "IF & 0.28 ± 0.16 & 0.02 ± 0.02 & 990.18 ± 1236.73 \\\\\n",
      "RPS & 0.22 ± 0.15 & 0.02 ± 0.02 & 4.25 ± 3.73 \\\\\n",
      "TracIn* & 0.27 ± 0.16 & 0.02 ± 0.02 & 53.3 ± 27.48 \\\\\n",
      "\\bottomrule\n",
      "\\end{tabular}\n",
      "\n"
     ]
    }
   ],
   "source": [
    "# Optionally, generate a LaTeX table\n",
    "latex_table = result.to_latex(column_format='|c|c|c|c|', header=True, index=True)\n",
    "print(latex_table)"
   ]
  },
  {
   "cell_type": "code",
   "execution_count": 23,
   "metadata": {
    "ExecuteTime": {
     "end_time": "2024-10-01T21:59:49.589513990Z",
     "start_time": "2024-10-01T21:59:49.586390666Z"
    }
   },
   "outputs": [
    {
     "data": {
      "text/plain": [
       "'0.13.2'"
      ]
     },
     "execution_count": 23,
     "metadata": {},
     "output_type": "execute_result"
    }
   ],
   "source": [
    "sns.__version__"
   ]
  },
  {
   "cell_type": "code",
   "execution_count": 25,
   "metadata": {
    "ExecuteTime": {
     "end_time": "2024-10-01T22:06:51.787524549Z",
     "start_time": "2024-10-01T22:06:51.286229507Z"
    }
   },
   "outputs": [
    {
     "data": {
      "image/png": "[encoded data removed]",
      "text/plain": [
       "<Figure size 400x250 with 1 Axes>"
      ]
     },
     "metadata": {},
     "output_type": "display_data"
    }
   ],
   "source": [
    "fig = plt.figure(figsize=(4, 2.5))\n",
    "ax = sns.barplot(data = df, x='data', y='coverage', hue='names', width=0.8)\n",
    "# Define some hatches\n",
    "pattern=['//','..','xx','', '\\\\\\\\']\n",
    "ax.legend_.remove()\n",
    "# replace 2 with 7 in your code\n",
    "hatches=np.repeat(pattern,4)\n",
    "\n",
    "for pat,bar in zip(hatches,ax.patches):\n",
    "    bar.set_hatch(pat)\n",
    "\n",
    "sns.set_style(\"darkgrid\")\n",
    "\n",
    "plt.xlabel('')\n",
    "plt.ylabel('Coverage')\n",
    "\n",
    "# plt.legend(bbox_to_anchor=(0.35, 0.33))\n",
    "\n",
    "plt.tight_layout()\n",
    "plt.savefig('plots/flip_coverage.pdf', format='pdf')"
   ]
  },
  {
   "cell_type": "code",
   "execution_count": 26,
   "metadata": {
    "ExecuteTime": {
     "end_time": "2024-10-01T22:06:57.041665984Z",
     "start_time": "2024-10-01T22:06:56.385039709Z"
    }
   },
   "outputs": [
    {
     "data": {
      "image/png": "[encoded data removed]",
      "text/plain": [
       "<Figure size 400x250 with 1 Axes>"
      ]
     },
     "metadata": {},
     "output_type": "display_data"
    }
   ],
   "source": [
    "fig = plt.figure(figsize=(4, 2.5))\n",
    "ax = sns.barplot(data = df, x='data', y='hit_rate', hue='names', width=0.8)\n",
    "# Define some hatches\n",
    "pattern=['//','..','xx','', '\\\\\\\\']\n",
    "ax.set_yscale(\"log\")\n",
    "ax.legend_.remove()\n",
    "# replace 2 with 7 in your code\n",
    "hatches=np.repeat(pattern,4)\n",
    "\n",
    "sns.set_style(\"darkgrid\")\n",
    "\n",
    "for pat,bar in zip(hatches,ax.patches):\n",
    "    bar.set_hatch(pat)\n",
    "\n",
    "plt.xlabel(\"\")\n",
    "plt.ylabel('Hit Rate (log-scale)')\n",
    "\n",
    "# plt.legend(bbox_to_anchor=(0.35, 0.33))\n",
    "\n",
    "plt.tight_layout()\n",
    "plt.savefig('plots/flip_hitrate.pdf', format='pdf')"
   ]
  },
  {
   "cell_type": "code",
   "execution_count": 27,
   "metadata": {
    "ExecuteTime": {
     "end_time": "2024-10-01T22:00:32.584814225Z",
     "start_time": "2024-10-01T22:00:32.481043040Z"
    }
   },
   "outputs": [
    {
     "name": "stderr",
     "output_type": "stream",
     "text": [
      "/tmp/ipykernel_8706/2497209861.py:5: UserWarning: Tight layout not applied. The bottom and top margins cannot be made large enough to accommodate all axes decorations.\n",
      "  plt.tight_layout()\n"
     ]
    },
    {
     "data": {
      "image/png": "[encoded data removed]",
      "text/plain": [
       "<Figure size 600x20 with 1 Axes>"
      ]
     },
     "metadata": {},
     "output_type": "display_data"
    }
   ],
   "source": [
    "fig_leg = plt.figure(figsize=(6, 0.2))\n",
    "ax_leg = fig_leg.add_subplot(111)\n",
    "ax_leg.legend(*ax.get_legend_handles_labels(), loc='center', ncol=5, frameon=False)\n",
    "ax_leg.axis('off')\n",
    "plt.tight_layout()\n",
    "fig_leg.savefig('plots/bar_legend.pdf', format='pdf')"
   ]
  },
  {
   "cell_type": "code",
   "execution_count": 28,
   "metadata": {
    "ExecuteTime": {
     "end_time": "2024-10-01T22:00:39.913319014Z",
     "start_time": "2024-10-01T22:00:39.256956696Z"
    }
   },
   "outputs": [
    {
     "data": {
      "image/png": "[encoded data removed]",
      "text/plain": [
       "<Figure size 400x250 with 1 Axes>"
      ]
     },
     "metadata": {},
     "output_type": "display_data"
    }
   ],
   "source": [
    "fig = plt.figure(figsize=(4, 2.5))\n",
    "ax = sns.barplot(data = df, x='data', y='execution_time', hue='names', width=0.8)\n",
    "# Define some hatches\n",
    "pattern=['//','..','xx','', '\\\\\\\\']\n",
    "ax.set_yscale(\"log\")\n",
    "ax.legend_.remove()\n",
    "# replace 2 with 7 in your code\n",
    "hatches=np.repeat(pattern,4)\n",
    "sns.set_style(\"darkgrid\")\n",
    "\n",
    "for pat,bar in zip(hatches,ax.patches):\n",
    "    bar.set_hatch(pat)\n",
    "\n",
    "plt.xlabel(\"\")\n",
    "plt.ylabel('Execution Time \\n (in seconds)')\n",
    "\n",
    "# plt.legend(bbox_to_anchor=(0.6, 0.50))\n",
    "\n",
    "plt.tight_layout()\n",
    "plt.savefig('plots/flip_time.pdf', format='pdf')"
   ]
  },
  {
   "cell_type": "code",
   "execution_count": 29,
   "metadata": {
    "ExecuteTime": {
     "end_time": "2024-10-01T22:00:58.608760656Z",
     "start_time": "2024-10-01T22:00:58.585797324Z"
    }
   },
   "outputs": [
    {
     "name": "stderr",
     "output_type": "stream",
     "text": [
      "/tmp/ipykernel_8706/3407002072.py:6: FutureWarning: ChainedAssignmentError: behaviour will change in pandas 3.0!\n",
      "You are setting values through chained assignment. Currently this works in certain cases, but when using Copy-on-Write (which will become the default behaviour in pandas 3.0) this will never work to update the original DataFrame or Series, because the intermediate object on which we are setting values will behave as a copy.\n",
      "A typical example is when you are setting values in a column of a DataFrame, like:\n",
      "\n",
      "df[\"col\"][row_indexer] = value\n",
      "\n",
      "Use `df.loc[row_indexer, \"col\"] = values` instead, to perform the assignment in a single step and ensure this keeps updating the original `df`.\n",
      "\n",
      "See the caveats in the documentation: https://pandas.pydata.org/pandas-docs/stable/user_guide/indexing.html#returning-a-view-versus-a-copy\n",
      "\n",
      "  df['data'][df['data']=='OCEA'] = 'OCH'\n",
      "/tmp/ipykernel_8706/3407002072.py:6: SettingWithCopyWarning: \n",
      "A value is trying to be set on a copy of a slice from a DataFrame\n",
      "\n",
      "See the caveats in the documentation: https://pandas.pydata.org/pandas-docs/stable/user_guide/indexing.html#returning-a-view-versus-a-copy\n",
      "  df['data'][df['data']=='OCEA'] = 'OCH'\n"
     ]
    },
    {
     "data": {
      "application/vnd.microsoft.datawrangler.viewer.v0+json": {
       "columns": [
        {
         "name": "index",
         "rawType": "int64",
         "type": "integer"
        },
        {
         "name": "data",
         "rawType": "object",
         "type": "string"
        },
        {
         "name": "kernel",
         "rawType": "object",
         "type": "string"
        },
        {
         "name": "scale",
         "rawType": "bool",
         "type": "boolean"
        },
        {
         "name": "coverage",
         "rawType": "float64",
         "type": "float"
        },
        {
         "name": "hit_rate",
         "rawType": "float64",
         "type": "float"
        },
        {
         "name": "execution_time",
         "rawType": "float64",
         "type": "float"
        }
       ],
       "conversionMethod": "pd.DataFrame",
       "ref": "6302d985-8547-4d8c-ac24-7a1bddf20357",
       "rows": [
        [
         "0",
         "CIFAR10",
         "RBF",
         "False",
         "0.88",
         "0.44",
         "13.156354665756226"
        ],
        [
         "1",
         "CIFAR10",
         "IMQ",
         "False",
         "0.87",
         "0.45",
         "13.120903730392456"
        ],
        [
         "2",
         "CIFAR10",
         "Linear",
         "False",
         "0.7466666666666667",
         "0.14",
         "3.897153615951538"
        ],
        [
         "3",
         "CIFAR10",
         "RBF",
         "True",
         "0.2066666666666666",
         "0.0",
         "4.732222080230713"
        ],
        [
         "4",
         "CIFAR10",
         "IMQ",
         "True",
         "0.9366666666666666",
         "0.14",
         "4.810744047164917"
        ]
       ],
       "shape": {
        "columns": 6,
        "rows": 5
       }
      },
      "text/html": [
       "<div>\n",
       "<style scoped>\n",
       "    .dataframe tbody tr th:only-of-type {\n",
       "        vertical-align: middle;\n",
       "    }\n",
       "\n",
       "    .dataframe tbody tr th {\n",
       "        vertical-align: top;\n",
       "    }\n",
       "\n",
       "    .dataframe thead th {\n",
       "        text-align: right;\n",
       "    }\n",
       "</style>\n",
       "<table border=\"1\" class=\"dataframe\">\n",
       "  <thead>\n",
       "    <tr style=\"text-align: right;\">\n",
       "      <th></th>\n",
       "      <th>data</th>\n",
       "      <th>kernel</th>\n",
       "      <th>scale</th>\n",
       "      <th>coverage</th>\n",
       "      <th>hit_rate</th>\n",
       "      <th>execution_time</th>\n",
       "    </tr>\n",
       "  </thead>\n",
       "  <tbody>\n",
       "    <tr>\n",
       "      <th>0</th>\n",
       "      <td>CIFAR10</td>\n",
       "      <td>RBF</td>\n",
       "      <td>False</td>\n",
       "      <td>0.880000</td>\n",
       "      <td>0.44</td>\n",
       "      <td>13.156355</td>\n",
       "    </tr>\n",
       "    <tr>\n",
       "      <th>1</th>\n",
       "      <td>CIFAR10</td>\n",
       "      <td>IMQ</td>\n",
       "      <td>False</td>\n",
       "      <td>0.870000</td>\n",
       "      <td>0.45</td>\n",
       "      <td>13.120904</td>\n",
       "    </tr>\n",
       "    <tr>\n",
       "      <th>2</th>\n",
       "      <td>CIFAR10</td>\n",
       "      <td>Linear</td>\n",
       "      <td>False</td>\n",
       "      <td>0.746667</td>\n",
       "      <td>0.14</td>\n",
       "      <td>3.897154</td>\n",
       "    </tr>\n",
       "    <tr>\n",
       "      <th>3</th>\n",
       "      <td>CIFAR10</td>\n",
       "      <td>RBF</td>\n",
       "      <td>True</td>\n",
       "      <td>0.206667</td>\n",
       "      <td>0.00</td>\n",
       "      <td>4.732222</td>\n",
       "    </tr>\n",
       "    <tr>\n",
       "      <th>4</th>\n",
       "      <td>CIFAR10</td>\n",
       "      <td>IMQ</td>\n",
       "      <td>True</td>\n",
       "      <td>0.936667</td>\n",
       "      <td>0.14</td>\n",
       "      <td>4.810744</td>\n",
       "    </tr>\n",
       "  </tbody>\n",
       "</table>\n",
       "</div>"
      ],
      "text/plain": [
       "      data  kernel  scale  coverage  hit_rate  execution_time\n",
       "0  CIFAR10     RBF  False  0.880000      0.44       13.156355\n",
       "1  CIFAR10     IMQ  False  0.870000      0.45       13.120904\n",
       "2  CIFAR10  Linear  False  0.746667      0.14        3.897154\n",
       "3  CIFAR10     RBF   True  0.206667      0.00        4.732222\n",
       "4  CIFAR10     IMQ   True  0.936667      0.14        4.810744"
      ]
     },
     "execution_count": 29,
     "metadata": {},
     "output_type": "execute_result"
    }
   ],
   "source": [
    "df1 = load_dataframe_csv('tables', 'Explainability_kernel_CIFAR10.csv')\n",
    "df2 = load_dataframe_csv('tables', 'Explainability_kernel_OCEA.csv')\n",
    "df3 = load_dataframe_csv('tables', 'Explainability_kernel_MRI.csv')\n",
    "df4 = load_dataframe_csv('tables', 'Explainability_kernel_SVHN.csv')\n",
    "df = pd.concat([df1, df2, df3, df4])\n",
    "df['data'][df['data']=='OCEA'] = 'OCH'\n",
    "df.head()"
   ]
  },
  {
   "cell_type": "code",
   "execution_count": 30,
   "metadata": {
    "ExecuteTime": {
     "end_time": "2024-10-01T22:01:12.762239458Z",
     "start_time": "2024-10-01T22:01:12.439141472Z"
    }
   },
   "outputs": [
    {
     "data": {
      "image/png": "[encoded data removed]",
      "text/plain": [
       "<Figure size 300x250 with 1 Axes>"
      ]
     },
     "metadata": {},
     "output_type": "display_data"
    }
   ],
   "source": [
    "fig = plt.figure(figsize=(3, 2.5))\n",
    "ax = sns.barplot(df, x='data', y='hit_rate', hue='kernel', width=0.8, palette=sns.color_palette(\"Blues\", 3))\n",
    "# Define some hatches\n",
    "# pattern=['//','..','xx','']\n",
    "ax.legend_.remove()\n",
    "# replace 2 with 7 in your code\n",
    "# hatches=np.repeat(pattern,3)\n",
    "\n",
    "# for pat,bar in zip(hatches,ax.patches):\n",
    "#     bar.set_hatch(pat)\n",
    "sns.set_style(\"darkgrid\")\n",
    "\n",
    "plt.xlabel('')\n",
    "plt.ylabel('Hit Rate')\n",
    "\n",
    "# plt.legend(bbox_to_anchor=(0.35, 0.33))\n",
    "\n",
    "plt.tight_layout()\n",
    "plt.savefig('plots/flip_kernel_hitrate.pdf', format='pdf')"
   ]
  },
  {
   "cell_type": "code",
   "execution_count": 31,
   "metadata": {
    "ExecuteTime": {
     "end_time": "2024-10-01T22:01:26.126620329Z",
     "start_time": "2024-10-01T22:01:25.780403059Z"
    }
   },
   "outputs": [
    {
     "data": {
      "image/png": "[encoded data removed]",
      "text/plain": [
       "<Figure size 300x250 with 1 Axes>"
      ]
     },
     "metadata": {},
     "output_type": "display_data"
    }
   ],
   "source": [
    "fig = plt.figure(figsize=(3, 2.5))\n",
    "ax = sns.barplot(df, x='data', y='coverage', hue='kernel', width=0.8, palette=sns.color_palette(\"Blues\", 3))\n",
    "# Define some hatches\n",
    "# pattern=['//','..','xx','']\n",
    "ax.legend_.remove()\n",
    "# replace 2 with 7 in your code\n",
    "# hatches=np.repeat(pattern,3)\n",
    "\n",
    "# for pat,bar in zip(hatches,ax.patches):\n",
    "#     bar.set_hatch(pat)\n",
    "sns.set_style(\"darkgrid\")\n",
    "\n",
    "plt.xlabel('')\n",
    "plt.ylabel('Coverage')\n",
    "\n",
    "# plt.legend(bbox_to_anchor=(0.35, 0.33))\n",
    "\n",
    "plt.tight_layout()\n",
    "plt.savefig('plots/flip_kernel_coverage.pdf', format='pdf')"
   ]
  },
  {
   "cell_type": "code",
   "execution_count": 32,
   "metadata": {
    "ExecuteTime": {
     "end_time": "2024-10-01T22:01:28.887550327Z",
     "start_time": "2024-10-01T22:01:28.407946712Z"
    }
   },
   "outputs": [
    {
     "data": {
      "image/png": "[encoded data removed]",
      "text/plain": [
       "<Figure size 300x250 with 1 Axes>"
      ]
     },
     "metadata": {},
     "output_type": "display_data"
    }
   ],
   "source": [
    "fig = plt.figure(figsize=(3, 2.5))\n",
    "ax = sns.barplot(df, x='data', y='execution_time', hue='kernel', width=0.8, palette=sns.color_palette(\"Blues\", 3))\n",
    "# Define some hatches\n",
    "# pattern=['//','..','xx','']\n",
    "ax.set_yscale(\"log\")\n",
    "ax.legend_.remove()\n",
    "# replace 2 with 7 in your code\n",
    "# hatches=np.repeat(pattern,3)\n",
    "\n",
    "# for pat,bar in zip(hatches,ax.patches):\n",
    "#     bar.set_hatch(pat)\n",
    "sns.set_style(\"darkgrid\")\n",
    "\n",
    "plt.xlabel('')\n",
    "plt.ylabel('Execution Time \\n (in seconds)')\n",
    "\n",
    "# plt.legend(bbox_to_anchor=(0.35, 0.33))\n",
    "\n",
    "plt.tight_layout()\n",
    "plt.savefig('plots/flip_kernel_time.pdf', format='pdf')"
   ]
  },
  {
   "cell_type": "code",
   "execution_count": 33,
   "metadata": {
    "ExecuteTime": {
     "end_time": "2024-10-01T22:01:44.003249264Z",
     "start_time": "2024-10-01T22:01:43.914501273Z"
    }
   },
   "outputs": [
    {
     "name": "stderr",
     "output_type": "stream",
     "text": [
      "/tmp/ipykernel_8706/2462370678.py:5: UserWarning: Tight layout not applied. The bottom and top margins cannot be made large enough to accommodate all axes decorations.\n",
      "  plt.tight_layout()\n"
     ]
    },
    {
     "data": {
      "image/png": "[encoded data removed]",
      "text/plain": [
       "<Figure size 300x20 with 1 Axes>"
      ]
     },
     "metadata": {},
     "output_type": "display_data"
    }
   ],
   "source": [
    "fig_leg = plt.figure(figsize=(3, 0.2))\n",
    "ax_leg = fig_leg.add_subplot(111)\n",
    "ax_leg.legend(*ax.get_legend_handles_labels(), loc='center', ncol=3, frameon=False)\n",
    "ax_leg.axis('off')\n",
    "plt.tight_layout()\n",
    "fig_leg.savefig('plots/kernel_bar_legend.pdf', format='pdf')"
   ]
  },
  {
   "cell_type": "code",
   "execution_count": null,
   "metadata": {},
   "outputs": [],
   "source": [
    "df1 = load_dataframe_csv('tables', 'Explainability_temperature_CIFAR10.csv')\n",
    "df2 = load_dataframe_csv('tables', 'Explainability_temperature_OCEA.csv')\n",
    "df3 = load_dataframe_csv('tables', 'Explainability_temperature_MRI.csv')\n",
    "df4 = load_dataframe_csv('tables', 'Explainability_temperature_SVHN.csv')\n",
    "df = pd.concat([df1, df2, df3, df4])\n",
    "df['data'][df['data']=='OCEA'] = 'OCH'\n",
    "df.head()"
   ]
  },
  {
   "cell_type": "code",
   "execution_count": null,
   "metadata": {},
   "outputs": [],
   "source": [
    "fig = plt.figure(figsize=(3, 2.5))\n",
    "ax = sns.lineplot(data=df, x='temperature', y='coverage', hue='data')\n",
    "# Define some hatches\n",
    "# pattern=['//','..','xx','']\n",
    "ax.set_xscale(\"log\")\n",
    "ax.legend_.remove()\n",
    "# replace 2 with 7 in your code\n",
    "# hatches=np.repeat(pattern,3)\n",
    "\n",
    "# for pat,bar in zip(hatches,ax.patches):\n",
    "#     bar.set_hatch(pat)\n",
    "\n",
    "plt.xlabel('')\n",
    "plt.ylabel('Coverage')\n",
    "\n",
    "# plt.legend(bbox_to_anchor=(0.35, 0.33))\n",
    "\n",
    "plt.tight_layout()\n",
    "plt.savefig('plots/temperature_hitrate.pdf', format='pdf')"
   ]
  },
  {
   "cell_type": "code",
   "execution_count": null,
   "metadata": {},
   "outputs": [],
   "source": [
    "fig = plt.figure(figsize=(3, 2.5))\n",
    "ax = sns.lineplot(df, x='temperature', y='hit_rate', hue='data', palette=sns.color_palette(\"Blues\", 3))\n",
    "# Define some hatches\n",
    "# pattern=['//','..','xx','']\n",
    "ax.set_xscale(\"log\")\n",
    "ax.legend_.remove()\n",
    "# replace 2 with 7 in your code\n",
    "# hatches=np.repeat(pattern,3)\n",
    "\n",
    "# for pat,bar in zip(hatches,ax.patches):\n",
    "#     bar.set_hatch(pat)\n",
    "\n",
    "plt.xlabel('')\n",
    "plt.ylabel('Hit Rate')\n",
    "\n",
    "# plt.legend(bbox_to_anchor=(0.35, 0.33))\n",
    "\n",
    "plt.tight_layout()\n",
    "plt.savefig('plots/temperature_hitrate.pdf', format='pdf')"
   ]
  },
  {
   "cell_type": "code",
   "execution_count": null,
   "metadata": {},
   "outputs": [],
   "source": []
  }
 ],
 "metadata": {
  "kernelspec": {
   "display_name": "hdexplain",
   "language": "python",
   "name": "python3"
  },
  "language_info": {
   "codemirror_mode": {
    "name": "ipython",
    "version": 3
   },
   "file_extension": ".py",
   "mimetype": "text/x-python",
   "name": "python",
   "nbconvert_exporter": "python",
   "pygments_lexer": "ipython3",
   "version": "3.10.14"
  }
 },
 "nbformat": 4,
 "nbformat_minor": 2
}
