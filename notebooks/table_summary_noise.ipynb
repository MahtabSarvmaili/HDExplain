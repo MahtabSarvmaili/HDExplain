{
 "cells": [
  {
   "cell_type": "code",
   "execution_count": 1,
   "metadata": {
    "ExecuteTime": {
     "end_time": "2024-10-01T22:06:26.934387640Z",
     "start_time": "2024-10-01T22:06:25.788388653Z"
    }
   },
   "outputs": [],
   "source": [
    "import pandas as pd\n",
    "import seaborn as sns\n",
    "import numpy as np\n",
    "from utils import load_dataframe_csv\n",
    "\n",
    "import matplotlib.pyplot as plt\n",
    "from itertools import count\n",
    "\n"
   ]
  },
  {
   "cell_type": "code",
   "execution_count": 2,
   "metadata": {
    "ExecuteTime": {
     "end_time": "2024-10-01T22:07:10.011766961Z",
     "start_time": "2024-10-01T22:07:09.961344951Z"
    }
   },
   "outputs": [],
   "source": [
    "df1 = load_dataframe_csv('random_noise_tables', 'Explainability_CIFAR10.csv')\n",
    "df2 = load_dataframe_csv('random_noise_tables', 'Explainability_OCEA.csv')\n",
    "df3 = load_dataframe_csv('random_noise_tables', 'Explainability_MRI.csv')\n",
    "df4 = load_dataframe_csv('random_noise_tables', 'Explainability_SVHN.csv')\n"
   ]
  },
  {
   "cell_type": "code",
   "execution_count": 3,
   "metadata": {
    "ExecuteTime": {
     "end_time": "2024-10-01T22:07:10.708463979Z",
     "start_time": "2024-10-01T22:07:10.706289153Z"
    }
   },
   "outputs": [],
   "source": [
    "df = pd.concat([df1, df2, df3, df4])\n",
    "# df = pd.concat([df4])"
   ]
  },
  {
   "cell_type": "code",
   "execution_count": 4,
   "metadata": {
    "ExecuteTime": {
     "end_time": "2024-10-01T22:07:11.348338297Z",
     "start_time": "2024-10-01T22:07:11.342392048Z"
    }
   },
   "outputs": [
    {
     "data": {
      "application/vnd.microsoft.datawrangler.viewer.v0+json": {
       "columns": [
        {
         "name": "index",
         "rawType": "int64",
         "type": "integer"
        },
        {
         "name": "data",
         "rawType": "object",
         "type": "string"
        },
        {
         "name": "explainer",
         "rawType": "object",
         "type": "string"
        },
        {
         "name": "scale",
         "rawType": "bool",
         "type": "boolean"
        },
        {
         "name": "coverage",
         "rawType": "float64",
         "type": "float"
        },
        {
         "name": "hit_rate",
         "rawType": "float64",
         "type": "float"
        },
        {
         "name": "execution_time",
         "rawType": "float64",
         "type": "float"
        }
       ],
       "conversionMethod": "pd.DataFrame",
       "ref": "058739e6-1ab9-454b-ac55-ce2a9a96a616",
       "rows": [
        [
         "0",
         "CIFAR10",
         "HDEXPLAIN",
         "False",
         "0.9033333333333332",
         "1.0",
         "12.946430206298828"
        ],
        [
         "1",
         "CIFAR10",
         "HDEXPLAIN",
         "True",
         "0.2066666666666666",
         "0.02",
         "4.66074538230896"
        ],
        [
         "2",
         "CIFAR10",
         "RPS",
         "False",
         "0.1166666666666666",
         "0.01",
         "2.136415958404541"
        ],
        [
         "3",
         "CIFAR10",
         "IF",
         "True",
         "0.13",
         "0.02",
         "200.7359676361084"
        ],
        [
         "4",
         "CIFAR10",
         "TracIn",
         "True",
         "0.13",
         "0.02",
         "44.33322882652283"
        ]
       ],
       "shape": {
        "columns": 6,
        "rows": 5
       }
      },
      "text/html": [
       "<div>\n",
       "<style scoped>\n",
       "    .dataframe tbody tr th:only-of-type {\n",
       "        vertical-align: middle;\n",
       "    }\n",
       "\n",
       "    .dataframe tbody tr th {\n",
       "        vertical-align: top;\n",
       "    }\n",
       "\n",
       "    .dataframe thead th {\n",
       "        text-align: right;\n",
       "    }\n",
       "</style>\n",
       "<table border=\"1\" class=\"dataframe\">\n",
       "  <thead>\n",
       "    <tr style=\"text-align: right;\">\n",
       "      <th></th>\n",
       "      <th>data</th>\n",
       "      <th>explainer</th>\n",
       "      <th>scale</th>\n",
       "      <th>coverage</th>\n",
       "      <th>hit_rate</th>\n",
       "      <th>execution_time</th>\n",
       "    </tr>\n",
       "  </thead>\n",
       "  <tbody>\n",
       "    <tr>\n",
       "      <th>0</th>\n",
       "      <td>CIFAR10</td>\n",
       "      <td>HDEXPLAIN</td>\n",
       "      <td>False</td>\n",
       "      <td>0.903333</td>\n",
       "      <td>1.00</td>\n",
       "      <td>12.946430</td>\n",
       "    </tr>\n",
       "    <tr>\n",
       "      <th>1</th>\n",
       "      <td>CIFAR10</td>\n",
       "      <td>HDEXPLAIN</td>\n",
       "      <td>True</td>\n",
       "      <td>0.206667</td>\n",
       "      <td>0.02</td>\n",
       "      <td>4.660745</td>\n",
       "    </tr>\n",
       "    <tr>\n",
       "      <th>2</th>\n",
       "      <td>CIFAR10</td>\n",
       "      <td>RPS</td>\n",
       "      <td>False</td>\n",
       "      <td>0.116667</td>\n",
       "      <td>0.01</td>\n",
       "      <td>2.136416</td>\n",
       "    </tr>\n",
       "    <tr>\n",
       "      <th>3</th>\n",
       "      <td>CIFAR10</td>\n",
       "      <td>IF</td>\n",
       "      <td>True</td>\n",
       "      <td>0.130000</td>\n",
       "      <td>0.02</td>\n",
       "      <td>200.735968</td>\n",
       "    </tr>\n",
       "    <tr>\n",
       "      <th>4</th>\n",
       "      <td>CIFAR10</td>\n",
       "      <td>TracIn</td>\n",
       "      <td>True</td>\n",
       "      <td>0.130000</td>\n",
       "      <td>0.02</td>\n",
       "      <td>44.333229</td>\n",
       "    </tr>\n",
       "  </tbody>\n",
       "</table>\n",
       "</div>"
      ],
      "text/plain": [
       "      data explainer  scale  coverage  hit_rate  execution_time\n",
       "0  CIFAR10     HDEXPLAIN  False  0.903333      1.00       12.946430\n",
       "1  CIFAR10     HDEXPLAIN   True  0.206667      0.02        4.660745\n",
       "2  CIFAR10       RPS  False  0.116667      0.01        2.136416\n",
       "3  CIFAR10        IF   True  0.130000      0.02      200.735968\n",
       "4  CIFAR10    TracIn   True  0.130000      0.02       44.333229"
      ]
     },
     "execution_count": 4,
     "metadata": {},
     "output_type": "execute_result"
    }
   ],
   "source": [
    "df.head()"
   ]
  },
  {
   "cell_type": "code",
   "execution_count": 5,
   "metadata": {
    "ExecuteTime": {
     "end_time": "2024-10-01T22:07:12.305038788Z",
     "start_time": "2024-10-01T22:07:12.299561526Z"
    }
   },
   "outputs": [
    {
     "name": "stderr",
     "output_type": "stream",
     "text": [
      "/tmp/ipykernel_18280/980844820.py:2: FutureWarning: ChainedAssignmentError: behaviour will change in pandas 3.0!\n",
      "You are setting values through chained assignment. Currently this works in certain cases, but when using Copy-on-Write (which will become the default behaviour in pandas 3.0) this will never work to update the original DataFrame or Series, because the intermediate object on which we are setting values will behave as a copy.\n",
      "A typical example is when you are setting values in a column of a DataFrame, like:\n",
      "\n",
      "df[\"col\"][row_indexer] = value\n",
      "\n",
      "Use `df.loc[row_indexer, \"col\"] = values` instead, to perform the assignment in a single step and ensure this keeps updating the original `df`.\n",
      "\n",
      "See the caveats in the documentation: https://pandas.pydata.org/pandas-docs/stable/user_guide/indexing.html#returning-a-view-versus-a-copy\n",
      "\n",
      "  df['names'][df['names']=='IF*'] = 'IF'\n",
      "/tmp/ipykernel_18280/980844820.py:2: SettingWithCopyWarning: \n",
      "A value is trying to be set on a copy of a slice from a DataFrame\n",
      "\n",
      "See the caveats in the documentation: https://pandas.pydata.org/pandas-docs/stable/user_guide/indexing.html#returning-a-view-versus-a-copy\n",
      "  df['names'][df['names']=='IF*'] = 'IF'\n",
      "/tmp/ipykernel_18280/980844820.py:3: FutureWarning: ChainedAssignmentError: behaviour will change in pandas 3.0!\n",
      "You are setting values through chained assignment. Currently this works in certain cases, but when using Copy-on-Write (which will become the default behaviour in pandas 3.0) this will never work to update the original DataFrame or Series, because the intermediate object on which we are setting values will behave as a copy.\n",
      "A typical example is when you are setting values in a column of a DataFrame, like:\n",
      "\n",
      "df[\"col\"][row_indexer] = value\n",
      "\n",
      "Use `df.loc[row_indexer, \"col\"] = values` instead, to perform the assignment in a single step and ensure this keeps updating the original `df`.\n",
      "\n",
      "See the caveats in the documentation: https://pandas.pydata.org/pandas-docs/stable/user_guide/indexing.html#returning-a-view-versus-a-copy\n",
      "\n",
      "  df['data'][df['data']=='OCEA'] = 'OCH'\n",
      "/tmp/ipykernel_18280/980844820.py:3: SettingWithCopyWarning: \n",
      "A value is trying to be set on a copy of a slice from a DataFrame\n",
      "\n",
      "See the caveats in the documentation: https://pandas.pydata.org/pandas-docs/stable/user_guide/indexing.html#returning-a-view-versus-a-copy\n",
      "  df['data'][df['data']=='OCEA'] = 'OCH'\n"
     ]
    }
   ],
   "source": [
    "df['names'] = df['explainer'] +  [\"*\" if i else \"\" for i in df['scale'].to_list()]\n",
    "df['names'][df['names']=='IF*'] = 'IF'\n",
    "df['data'][df['data']=='OCEA'] = 'OCH'\n",
    "df['names'] = df['names'].replace({'HDEXPLAIN': 'HD-Explain', 'HDEXPLAIN*': 'HD-Explain*'})\n"
   ]
  },
  {
   "cell_type": "code",
   "execution_count": 6,
   "metadata": {
    "ExecuteTime": {
     "end_time": "2024-08-11T16:27:38.974353087Z",
     "start_time": "2024-08-11T16:27:38.968600252Z"
    }
   },
   "outputs": [
    {
     "data": {
      "application/vnd.microsoft.datawrangler.viewer.v0+json": {
       "columns": [
        {
         "name": "index",
         "rawType": "int64",
         "type": "integer"
        },
        {
         "name": "data",
         "rawType": "object",
         "type": "string"
        },
        {
         "name": "explainer",
         "rawType": "object",
         "type": "string"
        },
        {
         "name": "scale",
         "rawType": "bool",
         "type": "boolean"
        },
        {
         "name": "coverage",
         "rawType": "float64",
         "type": "float"
        },
        {
         "name": "hit_rate",
         "rawType": "float64",
         "type": "float"
        },
        {
         "name": "execution_time",
         "rawType": "float64",
         "type": "float"
        },
        {
         "name": "names",
         "rawType": "object",
         "type": "string"
        }
       ],
       "conversionMethod": "pd.DataFrame",
       "ref": "498646d3-527b-49e0-8770-54927d661dbe",
       "rows": [
        [
         "0",
         "CIFAR10",
         "HDEXPLAIN",
         "False",
         "0.9033333333333332",
         "1.0",
         "12.946430206298828",
         "HD-Explain"
        ],
        [
         "1",
         "CIFAR10",
         "HDEXPLAIN",
         "True",
         "0.2066666666666666",
         "0.02",
         "4.66074538230896",
         "HD-Explain*"
        ],
        [
         "2",
         "CIFAR10",
         "RPS",
         "False",
         "0.1166666666666666",
         "0.01",
         "2.136415958404541",
         "RPS"
        ],
        [
         "3",
         "CIFAR10",
         "IF",
         "True",
         "0.13",
         "0.02",
         "200.7359676361084",
         "IF"
        ],
        [
         "4",
         "CIFAR10",
         "TracIn",
         "True",
         "0.13",
         "0.02",
         "44.33322882652283",
         "TracIn*"
        ],
        [
         "5",
         "CIFAR10",
         "HDEXPLAIN",
         "False",
         "0.94",
         "0.99",
         "12.978076457977297",
         "HD-Explain"
        ],
        [
         "6",
         "CIFAR10",
         "HDEXPLAIN",
         "True",
         "0.2066666666666666",
         "0.01",
         "4.711726188659668",
         "HD-Explain*"
        ],
        [
         "7",
         "CIFAR10",
         "RPS",
         "False",
         "0.1133333333333333",
         "0.0",
         "2.122444629669189",
         "RPS"
        ],
        [
         "8",
         "CIFAR10",
         "IF",
         "True",
         "0.13",
         "0.01",
         "200.1112685203552",
         "IF"
        ],
        [
         "9",
         "CIFAR10",
         "TracIn",
         "True",
         "0.1266666666666666",
         "0.01",
         "42.16900992393494",
         "TracIn*"
        ],
        [
         "10",
         "CIFAR10",
         "HDEXPLAIN",
         "False",
         "0.91",
         "1.0",
         "12.996195554733276",
         "HD-Explain"
        ],
        [
         "11",
         "CIFAR10",
         "HDEXPLAIN",
         "True",
         "0.2233333333333333",
         "0.02",
         "4.682199954986572",
         "HD-Explain*"
        ],
        [
         "12",
         "CIFAR10",
         "RPS",
         "False",
         "0.11",
         "0.0",
         "2.119990110397339",
         "RPS"
        ],
        [
         "13",
         "CIFAR10",
         "IF",
         "True",
         "0.15",
         "0.02",
         "200.52694535255432",
         "IF"
        ],
        [
         "14",
         "CIFAR10",
         "TracIn",
         "True",
         "0.15",
         "0.02",
         "44.788403272628784",
         "TracIn*"
        ],
        [
         "15",
         "CIFAR10",
         "HDEXPLAIN",
         "False",
         "0.9033333333333332",
         "1.0",
         "13.06190276145935",
         "HD-Explain"
        ],
        [
         "16",
         "CIFAR10",
         "HDEXPLAIN",
         "True",
         "0.21",
         "0.0",
         "4.716723442077637",
         "HD-Explain*"
        ],
        [
         "17",
         "CIFAR10",
         "RPS",
         "False",
         "0.1166666666666666",
         "0.02",
         "2.097200393676758",
         "RPS"
        ],
        [
         "18",
         "CIFAR10",
         "IF",
         "True",
         "0.1366666666666666",
         "0.0",
         "199.9957375526428",
         "IF"
        ],
        [
         "19",
         "CIFAR10",
         "TracIn",
         "True",
         "0.1366666666666666",
         "0.0",
         "44.05896592140198",
         "TracIn*"
        ],
        [
         "20",
         "CIFAR10",
         "HDEXPLAIN",
         "False",
         "0.9166666666666666",
         "1.0",
         "13.050049543380736",
         "HD-Explain"
        ],
        [
         "21",
         "CIFAR10",
         "HDEXPLAIN",
         "True",
         "0.1833333333333333",
         "0.01",
         "4.715117692947388",
         "HD-Explain*"
        ],
        [
         "22",
         "CIFAR10",
         "RPS",
         "False",
         "0.1133333333333333",
         "0.01",
         "2.1208574771881104",
         "RPS"
        ],
        [
         "23",
         "CIFAR10",
         "IF",
         "True",
         "0.1366666666666666",
         "0.01",
         "202.35281920433044",
         "IF"
        ],
        [
         "24",
         "CIFAR10",
         "TracIn",
         "True",
         "0.1366666666666666",
         "0.01",
         "44.79257225990296",
         "TracIn*"
        ],
        [
         "25",
         "CIFAR10",
         "HDEXPLAIN",
         "False",
         "0.93",
         "1.0",
         "13.028342008590698",
         "HD-Explain"
        ],
        [
         "26",
         "CIFAR10",
         "HDEXPLAIN",
         "True",
         "0.21",
         "0.01",
         "4.726773977279663",
         "HD-Explain*"
        ],
        [
         "27",
         "CIFAR10",
         "RPS",
         "False",
         "0.1133333333333333",
         "0.0",
         "2.104949951171875",
         "RPS"
        ],
        [
         "28",
         "CIFAR10",
         "IF",
         "True",
         "0.1366666666666666",
         "0.0",
         "200.70689415931705",
         "IF"
        ],
        [
         "29",
         "CIFAR10",
         "TracIn",
         "True",
         "0.1366666666666666",
         "0.0",
         "43.95657157897949",
         "TracIn*"
        ],
        [
         "30",
         "CIFAR10",
         "HDEXPLAIN",
         "False",
         "0.9433333333333334",
         "1.0",
         "13.024218797683716",
         "HD-Explain"
        ],
        [
         "31",
         "CIFAR10",
         "HDEXPLAIN",
         "True",
         "0.2166666666666666",
         "0.02",
         "4.729863882064819",
         "HD-Explain*"
        ],
        [
         "32",
         "CIFAR10",
         "RPS",
         "False",
         "0.1066666666666666",
         "0.01",
         "2.140848398208618",
         "RPS"
        ],
        [
         "33",
         "CIFAR10",
         "IF",
         "True",
         "0.1333333333333333",
         "0.01",
         "201.3461413383484",
         "IF"
        ],
        [
         "34",
         "CIFAR10",
         "TracIn",
         "True",
         "0.1333333333333333",
         "0.01",
         "44.52101731300354",
         "TracIn*"
        ],
        [
         "35",
         "CIFAR10",
         "HDEXPLAIN",
         "False",
         "0.9366666666666666",
         "1.0",
         "13.036883115768433",
         "HD-Explain"
        ],
        [
         "36",
         "CIFAR10",
         "HDEXPLAIN",
         "True",
         "0.2066666666666666",
         "0.01",
         "4.72420334815979",
         "HD-Explain*"
        ],
        [
         "37",
         "CIFAR10",
         "RPS",
         "False",
         "0.12",
         "0.02",
         "2.1278345584869385",
         "RPS"
        ],
        [
         "38",
         "CIFAR10",
         "IF",
         "True",
         "0.1366666666666666",
         "0.02",
         "201.83495688438416",
         "IF"
        ],
        [
         "39",
         "CIFAR10",
         "TracIn",
         "True",
         "0.1333333333333333",
         "0.02",
         "42.41990733146668",
         "TracIn*"
        ],
        [
         "40",
         "CIFAR10",
         "HDEXPLAIN",
         "False",
         "0.9233333333333332",
         "0.98",
         "13.047811508178713",
         "HD-Explain"
        ],
        [
         "41",
         "CIFAR10",
         "HDEXPLAIN",
         "True",
         "0.1866666666666666",
         "0.02",
         "4.71898365020752",
         "HD-Explain*"
        ],
        [
         "42",
         "CIFAR10",
         "RPS",
         "False",
         "0.11",
         "0.0",
         "2.128450870513916",
         "RPS"
        ],
        [
         "43",
         "CIFAR10",
         "IF",
         "True",
         "0.13",
         "0.0",
         "199.2354345321656",
         "IF"
        ],
        [
         "44",
         "CIFAR10",
         "TracIn",
         "True",
         "0.13",
         "0.0",
         "43.63131904602051",
         "TracIn*"
        ],
        [
         "45",
         "CIFAR10",
         "HDEXPLAIN",
         "False",
         "0.91",
         "1.0",
         "13.035154104232788",
         "HD-Explain"
        ],
        [
         "46",
         "CIFAR10",
         "HDEXPLAIN",
         "True",
         "0.2266666666666666",
         "0.01",
         "4.717929124832153",
         "HD-Explain*"
        ],
        [
         "47",
         "CIFAR10",
         "RPS",
         "False",
         "0.1266666666666666",
         "0.01",
         "2.1311357021331787",
         "RPS"
        ],
        [
         "48",
         "CIFAR10",
         "IF",
         "True",
         "0.13",
         "0.01",
         "202.3582174777985",
         "IF"
        ],
        [
         "49",
         "CIFAR10",
         "TracIn",
         "True",
         "0.13",
         "0.01",
         "41.8658299446106",
         "TracIn*"
        ]
       ],
       "shape": {
        "columns": 7,
        "rows": 600
       }
      },
      "text/html": [
       "<div>\n",
       "<style scoped>\n",
       "    .dataframe tbody tr th:only-of-type {\n",
       "        vertical-align: middle;\n",
       "    }\n",
       "\n",
       "    .dataframe tbody tr th {\n",
       "        vertical-align: top;\n",
       "    }\n",
       "\n",
       "    .dataframe thead th {\n",
       "        text-align: right;\n",
       "    }\n",
       "</style>\n",
       "<table border=\"1\" class=\"dataframe\">\n",
       "  <thead>\n",
       "    <tr style=\"text-align: right;\">\n",
       "      <th></th>\n",
       "      <th>data</th>\n",
       "      <th>explainer</th>\n",
       "      <th>scale</th>\n",
       "      <th>coverage</th>\n",
       "      <th>hit_rate</th>\n",
       "      <th>execution_time</th>\n",
       "      <th>names</th>\n",
       "    </tr>\n",
       "  </thead>\n",
       "  <tbody>\n",
       "    <tr>\n",
       "      <th>0</th>\n",
       "      <td>CIFAR10</td>\n",
       "      <td>HDEXPLAIN</td>\n",
       "      <td>False</td>\n",
       "      <td>0.903333</td>\n",
       "      <td>1.00</td>\n",
       "      <td>12.946430</td>\n",
       "      <td>HD-Explain</td>\n",
       "    </tr>\n",
       "    <tr>\n",
       "      <th>1</th>\n",
       "      <td>CIFAR10</td>\n",
       "      <td>HDEXPLAIN</td>\n",
       "      <td>True</td>\n",
       "      <td>0.206667</td>\n",
       "      <td>0.02</td>\n",
       "      <td>4.660745</td>\n",
       "      <td>HD-Explain*</td>\n",
       "    </tr>\n",
       "    <tr>\n",
       "      <th>2</th>\n",
       "      <td>CIFAR10</td>\n",
       "      <td>RPS</td>\n",
       "      <td>False</td>\n",
       "      <td>0.116667</td>\n",
       "      <td>0.01</td>\n",
       "      <td>2.136416</td>\n",
       "      <td>RPS</td>\n",
       "    </tr>\n",
       "    <tr>\n",
       "      <th>3</th>\n",
       "      <td>CIFAR10</td>\n",
       "      <td>IF</td>\n",
       "      <td>True</td>\n",
       "      <td>0.130000</td>\n",
       "      <td>0.02</td>\n",
       "      <td>200.735968</td>\n",
       "      <td>IF</td>\n",
       "    </tr>\n",
       "    <tr>\n",
       "      <th>4</th>\n",
       "      <td>CIFAR10</td>\n",
       "      <td>TracIn</td>\n",
       "      <td>True</td>\n",
       "      <td>0.130000</td>\n",
       "      <td>0.02</td>\n",
       "      <td>44.333229</td>\n",
       "      <td>TracIn*</td>\n",
       "    </tr>\n",
       "    <tr>\n",
       "      <th>...</th>\n",
       "      <td>...</td>\n",
       "      <td>...</td>\n",
       "      <td>...</td>\n",
       "      <td>...</td>\n",
       "      <td>...</td>\n",
       "      <td>...</td>\n",
       "      <td>...</td>\n",
       "    </tr>\n",
       "    <tr>\n",
       "      <th>145</th>\n",
       "      <td>SVHN</td>\n",
       "      <td>HDEXPLAIN</td>\n",
       "      <td>False</td>\n",
       "      <td>0.896667</td>\n",
       "      <td>0.85</td>\n",
       "      <td>15.995784</td>\n",
       "      <td>HD-Explain</td>\n",
       "    </tr>\n",
       "    <tr>\n",
       "      <th>146</th>\n",
       "      <td>SVHN</td>\n",
       "      <td>HDEXPLAIN</td>\n",
       "      <td>True</td>\n",
       "      <td>0.930000</td>\n",
       "      <td>0.83</td>\n",
       "      <td>5.220855</td>\n",
       "      <td>HD-Explain*</td>\n",
       "    </tr>\n",
       "    <tr>\n",
       "      <th>147</th>\n",
       "      <td>SVHN</td>\n",
       "      <td>RPS</td>\n",
       "      <td>False</td>\n",
       "      <td>0.206667</td>\n",
       "      <td>0.02</td>\n",
       "      <td>1.563411</td>\n",
       "      <td>RPS</td>\n",
       "    </tr>\n",
       "    <tr>\n",
       "      <th>148</th>\n",
       "      <td>SVHN</td>\n",
       "      <td>IF</td>\n",
       "      <td>True</td>\n",
       "      <td>0.343333</td>\n",
       "      <td>0.03</td>\n",
       "      <td>90.368773</td>\n",
       "      <td>IF</td>\n",
       "    </tr>\n",
       "    <tr>\n",
       "      <th>149</th>\n",
       "      <td>SVHN</td>\n",
       "      <td>TracIn</td>\n",
       "      <td>True</td>\n",
       "      <td>0.343333</td>\n",
       "      <td>0.03</td>\n",
       "      <td>68.889477</td>\n",
       "      <td>TracIn*</td>\n",
       "    </tr>\n",
       "  </tbody>\n",
       "</table>\n",
       "<p>600 rows × 7 columns</p>\n",
       "</div>"
      ],
      "text/plain": [
       "        data explainer  scale  coverage  hit_rate  execution_time        names\n",
       "0    CIFAR10     HDEXPLAIN  False  0.903333      1.00       12.946430   HD-Explain\n",
       "1    CIFAR10     HDEXPLAIN   True  0.206667      0.02        4.660745  HD-Explain*\n",
       "2    CIFAR10       RPS  False  0.116667      0.01        2.136416          RPS\n",
       "3    CIFAR10        IF   True  0.130000      0.02      200.735968           IF\n",
       "4    CIFAR10    TracIn   True  0.130000      0.02       44.333229      TracIn*\n",
       "..       ...       ...    ...       ...       ...             ...          ...\n",
       "145     SVHN     HDEXPLAIN  False  0.896667      0.85       15.995784   HD-Explain\n",
       "146     SVHN     HDEXPLAIN   True  0.930000      0.83        5.220855  HD-Explain*\n",
       "147     SVHN       RPS  False  0.206667      0.02        1.563411          RPS\n",
       "148     SVHN        IF   True  0.343333      0.03       90.368773           IF\n",
       "149     SVHN    TracIn   True  0.343333      0.03       68.889477      TracIn*\n",
       "\n",
       "[600 rows x 7 columns]"
      ]
     },
     "execution_count": 6,
     "metadata": {},
     "output_type": "execute_result"
    }
   ],
   "source": [
    "df"
   ]
  },
  {
   "cell_type": "code",
   "execution_count": 7,
   "metadata": {
    "ExecuteTime": {
     "end_time": "2024-08-11T16:27:40.998208745Z",
     "start_time": "2024-08-11T16:27:40.950552604Z"
    },
    "collapsed": false
   },
   "outputs": [
    {
     "name": "stdout",
     "output_type": "stream",
     "text": [
      "\\begin{tabular}{|c|c|c|c|}\n",
      "\\toprule\n",
      " & coverage & hit_rate & execution_time \\\\\n",
      "names &  &  &  \\\\\n",
      "\\midrule\n",
      "HD-Explain & 0.84 ± 0.06 & 0.91 ± 0.09 & 91.61 ± 123.94 \\\\\n",
      "HD-Explain* & 0.63 ± 0.27 & 0.52 ± 0.36 & 9.3 ± 7.3 \\\\\n",
      "IF & 0.26 ± 0.16 & 0.03 ± 0.02 & 1081.26 ± 1288.36 \\\\\n",
      "RPS & 0.21 ± 0.15 & 0.03 ± 0.02 & 4.2 ± 3.69 \\\\\n",
      "TracIn* & 0.26 ± 0.15 & 0.03 ± 0.02 & 51.56 ± 28.36 \\\\\n",
      "\\bottomrule\n",
      "\\end{tabular}\n",
      "\n"
     ]
    }
   ],
   "source": [
    "grouped = df.groupby('names').agg({\n",
    "    'coverage': ['mean', 'std'],\n",
    "    'hit_rate': ['mean', 'std'],\n",
    "    'execution_time': ['mean', 'std'],\n",
    "})\n",
    "\n",
    "result = pd.DataFrame({\n",
    "    'coverage': grouped['coverage']['mean'].round(2).astype(str) + \" ± \" + grouped['coverage']['std'].round(2).astype(\n",
    "        str),\n",
    "    'hit_rate': grouped['hit_rate']['mean'].round(2).astype(str) + \" ± \" + grouped['hit_rate']['std'].round(2).astype(\n",
    "        str),\n",
    "    'execution_time': grouped['execution_time']['mean'].round(2).astype(str) + \" ± \" + grouped['execution_time'][\n",
    "        'std'].round(2).astype(str)\n",
    "})\n",
    "\n",
    "# Set the index to 'names'\n",
    "result.index.name = 'names'\n",
    "# Optionally, generate a LaTeX table\n",
    "latex_table = result.to_latex(column_format='|c|c|c|c|', header=True, index=True)\n",
    "print(latex_table)"
   ]
  },
  {
   "cell_type": "code",
   "execution_count": 8,
   "metadata": {
    "ExecuteTime": {
     "end_time": "2024-08-11T16:27:53.844902696Z",
     "start_time": "2024-08-11T16:27:53.784500946Z"
    },
    "collapsed": false
   },
   "outputs": [
    {
     "data": {
      "application/vnd.microsoft.datawrangler.viewer.v0+json": {
       "columns": [
        {
         "name": "names",
         "rawType": "object",
         "type": "string"
        },
        {
         "name": "coverage",
         "rawType": "object",
         "type": "string"
        },
        {
         "name": "hit_rate",
         "rawType": "object",
         "type": "string"
        },
        {
         "name": "execution_time",
         "rawType": "object",
         "type": "string"
        }
       ],
       "conversionMethod": "pd.DataFrame",
       "ref": "8b5948c8-6573-47a8-a5b5-0b55f3514bd7",
       "rows": [
        [
         "HD-Explain",
         "0.84 ± 0.06",
         "0.91 ± 0.09",
         "91.61 ± 123.94"
        ],
        [
         "HD-Explain*",
         "0.63 ± 0.27",
         "0.52 ± 0.36",
         "9.3 ± 7.3"
        ],
        [
         "IF",
         "0.26 ± 0.16",
         "0.03 ± 0.02",
         "1081.26 ± 1288.36"
        ],
        [
         "RPS",
         "0.21 ± 0.15",
         "0.03 ± 0.02",
         "4.2 ± 3.69"
        ],
        [
         "TracIn*",
         "0.26 ± 0.15",
         "0.03 ± 0.02",
         "51.56 ± 28.36"
        ]
       ],
       "shape": {
        "columns": 3,
        "rows": 5
       }
      },
      "text/html": [
       "<div>\n",
       "<style scoped>\n",
       "    .dataframe tbody tr th:only-of-type {\n",
       "        vertical-align: middle;\n",
       "    }\n",
       "\n",
       "    .dataframe tbody tr th {\n",
       "        vertical-align: top;\n",
       "    }\n",
       "\n",
       "    .dataframe thead th {\n",
       "        text-align: right;\n",
       "    }\n",
       "</style>\n",
       "<table border=\"1\" class=\"dataframe\">\n",
       "  <thead>\n",
       "    <tr style=\"text-align: right;\">\n",
       "      <th></th>\n",
       "      <th>coverage</th>\n",
       "      <th>hit_rate</th>\n",
       "      <th>execution_time</th>\n",
       "    </tr>\n",
       "    <tr>\n",
       "      <th>names</th>\n",
       "      <th></th>\n",
       "      <th></th>\n",
       "      <th></th>\n",
       "    </tr>\n",
       "  </thead>\n",
       "  <tbody>\n",
       "    <tr>\n",
       "      <th>HD-Explain</th>\n",
       "      <td>0.84 ± 0.06</td>\n",
       "      <td>0.91 ± 0.09</td>\n",
       "      <td>91.61 ± 123.94</td>\n",
       "    </tr>\n",
       "    <tr>\n",
       "      <th>HD-Explain*</th>\n",
       "      <td>0.63 ± 0.27</td>\n",
       "      <td>0.52 ± 0.36</td>\n",
       "      <td>9.3 ± 7.3</td>\n",
       "    </tr>\n",
       "    <tr>\n",
       "      <th>IF</th>\n",
       "      <td>0.26 ± 0.16</td>\n",
       "      <td>0.03 ± 0.02</td>\n",
       "      <td>1081.26 ± 1288.36</td>\n",
       "    </tr>\n",
       "    <tr>\n",
       "      <th>RPS</th>\n",
       "      <td>0.21 ± 0.15</td>\n",
       "      <td>0.03 ± 0.02</td>\n",
       "      <td>4.2 ± 3.69</td>\n",
       "    </tr>\n",
       "    <tr>\n",
       "      <th>TracIn*</th>\n",
       "      <td>0.26 ± 0.15</td>\n",
       "      <td>0.03 ± 0.02</td>\n",
       "      <td>51.56 ± 28.36</td>\n",
       "    </tr>\n",
       "  </tbody>\n",
       "</table>\n",
       "</div>"
      ],
      "text/plain": [
       "                coverage     hit_rate     execution_time\n",
       "names                                                   \n",
       "HD-Explain   0.84 ± 0.06  0.91 ± 0.09     91.61 ± 123.94\n",
       "HD-Explain*  0.63 ± 0.27  0.52 ± 0.36          9.3 ± 7.3\n",
       "IF           0.26 ± 0.16  0.03 ± 0.02  1081.26 ± 1288.36\n",
       "RPS          0.21 ± 0.15  0.03 ± 0.02         4.2 ± 3.69\n",
       "TracIn*      0.26 ± 0.15  0.03 ± 0.02      51.56 ± 28.36"
      ]
     },
     "execution_count": 8,
     "metadata": {},
     "output_type": "execute_result"
    }
   ],
   "source": [
    "result"
   ]
  },
  {
   "cell_type": "code",
   "execution_count": 9,
   "metadata": {},
   "outputs": [
    {
     "data": {
      "text/plain": [
       "'0.13.2'"
      ]
     },
     "execution_count": 9,
     "metadata": {},
     "output_type": "execute_result"
    }
   ],
   "source": [
    "sns.__version__"
   ]
  },
  {
   "cell_type": "code",
   "execution_count": null,
   "metadata": {
    "ExecuteTime": {
     "end_time": "2024-10-01T22:07:28.717289829Z",
     "start_time": "2024-10-01T22:07:28.251147234Z"
    }
   },
   "outputs": [
    {
     "data": {
      "image/png": "[encoded data removed]",
      "text/plain": [
       "<Figure size 400x250 with 1 Axes>"
      ]
     },
     "metadata": {},
     "output_type": "display_data"
    }
   ],
   "source": [
    "fig = plt.figure(figsize=(4, 2.5))\n",
    "ax = sns.barplot(data = df, x='data', y='coverage', hue='names', width=0.8)\n",
    "# Define some hatches\n",
    "pattern=['//','..','xx','', '\\\\\\\\']\n",
    "ax.legend_.remove()\n",
    "# replace 2 with 7 in your code\n",
    "hatches=np.repeat(pattern,4)\n",
    "\n",
    "sns.set_style(\"darkgrid\")\n",
    "\n",
    "for pat,bar in zip(hatches,ax.patches):\n",
    "    bar.set_hatch(pat)\n",
    "\n",
    "plt.xlabel('')\n",
    "plt.ylabel('Coverage')\n",
    "\n",
    "# plt.legend(bbox_to_anchor=(0.35, 0.33))\n",
    "\n",
    "plt.tight_layout()\n",
    "plt.savefig('../plots/noise_coverage.pdf', format='pdf')"
   ]
  },
  {
   "cell_type": "code",
   "execution_count": 11,
   "metadata": {
    "ExecuteTime": {
     "end_time": "2024-10-01T22:07:30.213276269Z",
     "start_time": "2024-10-01T22:07:29.423842759Z"
    }
   },
   "outputs": [
    {
     "data": {
      "image/png": "[encoded data removed]",
      "text/plain": [
       "<Figure size 400x250 with 1 Axes>"
      ]
     },
     "metadata": {},
     "output_type": "display_data"
    }
   ],
   "source": [
    "fig = plt.figure(figsize=(4, 2.5))\n",
    "ax = sns.barplot(data = df, x='data', y='hit_rate', hue='names', width=0.8)\n",
    "# Define some hatches\n",
    "pattern=['//','..','xx','', '\\\\\\\\']\n",
    "ax.set_yscale(\"log\")\n",
    "ax.legend_.remove()\n",
    "# replace 2 with 7 in your code\n",
    "hatches=np.repeat(pattern,4)\n",
    "sns.set_style(\"darkgrid\")\n",
    "\n",
    "for pat,bar in zip(hatches,ax.patches):\n",
    "    bar.set_hatch(pat)\n",
    "\n",
    "plt.xlabel(\"\")\n",
    "plt.ylabel('Hit Rate (log-scale)')\n",
    "\n",
    "# plt.legend(bbox_to_anchor=(0.35, 0.33))\n",
    "\n",
    "plt.tight_layout()\n",
    "plt.savefig('plots/noise_hitrate.pdf', format='pdf')"
   ]
  },
  {
   "cell_type": "code",
   "execution_count": 12,
   "metadata": {
    "ExecuteTime": {
     "end_time": "2024-10-01T22:07:36.433805957Z",
     "start_time": "2024-10-01T22:07:36.331783095Z"
    }
   },
   "outputs": [
    {
     "name": "stderr",
     "output_type": "stream",
     "text": [
      "/tmp/ipykernel_18280/2497209861.py:5: UserWarning: Tight layout not applied. The bottom and top margins cannot be made large enough to accommodate all axes decorations.\n",
      "  plt.tight_layout()\n"
     ]
    },
    {
     "data": {
      "image/png": "[encoded data removed]",
      "text/plain": [
       "<Figure size 600x20 with 1 Axes>"
      ]
     },
     "metadata": {},
     "output_type": "display_data"
    }
   ],
   "source": [
    "fig_leg = plt.figure(figsize=(6, 0.2))\n",
    "ax_leg = fig_leg.add_subplot(111)\n",
    "ax_leg.legend(*ax.get_legend_handles_labels(), loc='center', ncol=5, frameon=False)\n",
    "ax_leg.axis('off')\n",
    "plt.tight_layout()\n",
    "fig_leg.savefig('plots/bar_legend.pdf', format='pdf')"
   ]
  },
  {
   "cell_type": "code",
   "execution_count": 13,
   "metadata": {
    "ExecuteTime": {
     "end_time": "2024-10-01T22:07:43.377207933Z",
     "start_time": "2024-10-01T22:07:42.763963242Z"
    }
   },
   "outputs": [
    {
     "data": {
      "image/png": "[encoded data removed]",
      "text/plain": [
       "<Figure size 400x250 with 1 Axes>"
      ]
     },
     "metadata": {},
     "output_type": "display_data"
    }
   ],
   "source": [
    "fig = plt.figure(figsize=(4, 2.5))\n",
    "ax = sns.barplot(data = df, x='data', y='execution_time', hue='names', width=0.8)\n",
    "# Define some hatches\n",
    "pattern=['//','..','xx','', '\\\\\\\\']\n",
    "ax.set_yscale(\"log\")\n",
    "ax.legend_.remove()\n",
    "# replace 2 with 7 in your code\n",
    "hatches=np.repeat(pattern,4)\n",
    "sns.set_style(\"darkgrid\")\n",
    "\n",
    "for pat,bar in zip(hatches,ax.patches):\n",
    "    bar.set_hatch(pat)\n",
    "\n",
    "plt.xlabel(\"\")\n",
    "plt.ylabel('Execution Time \\n (in seconds)')\n",
    "\n",
    "# plt.legend(bbox_to_anchor=(0.6, 0.50))\n",
    "\n",
    "plt.tight_layout()\n",
    "plt.savefig('plots/noise_time.pdf', format='pdf')"
   ]
  },
  {
   "cell_type": "code",
   "execution_count": 14,
   "metadata": {
    "ExecuteTime": {
     "end_time": "2024-10-01T23:58:40.137651724Z",
     "start_time": "2024-10-01T23:58:40.122985740Z"
    }
   },
   "outputs": [
    {
     "name": "stderr",
     "output_type": "stream",
     "text": [
      "/tmp/ipykernel_18280/1071894008.py:6: FutureWarning: ChainedAssignmentError: behaviour will change in pandas 3.0!\n",
      "You are setting values through chained assignment. Currently this works in certain cases, but when using Copy-on-Write (which will become the default behaviour in pandas 3.0) this will never work to update the original DataFrame or Series, because the intermediate object on which we are setting values will behave as a copy.\n",
      "A typical example is when you are setting values in a column of a DataFrame, like:\n",
      "\n",
      "df[\"col\"][row_indexer] = value\n",
      "\n",
      "Use `df.loc[row_indexer, \"col\"] = values` instead, to perform the assignment in a single step and ensure this keeps updating the original `df`.\n",
      "\n",
      "See the caveats in the documentation: https://pandas.pydata.org/pandas-docs/stable/user_guide/indexing.html#returning-a-view-versus-a-copy\n",
      "\n",
      "  df['data'][df['data']=='OCEA'] = 'OCH'\n",
      "/tmp/ipykernel_18280/1071894008.py:6: SettingWithCopyWarning: \n",
      "A value is trying to be set on a copy of a slice from a DataFrame\n",
      "\n",
      "See the caveats in the documentation: https://pandas.pydata.org/pandas-docs/stable/user_guide/indexing.html#returning-a-view-versus-a-copy\n",
      "  df['data'][df['data']=='OCEA'] = 'OCH'\n"
     ]
    },
    {
     "data": {
      "application/vnd.microsoft.datawrangler.viewer.v0+json": {
       "columns": [
        {
         "name": "index",
         "rawType": "int64",
         "type": "integer"
        },
        {
         "name": "data",
         "rawType": "object",
         "type": "string"
        },
        {
         "name": "kernel",
         "rawType": "object",
         "type": "string"
        },
        {
         "name": "scale",
         "rawType": "bool",
         "type": "boolean"
        },
        {
         "name": "coverage",
         "rawType": "float64",
         "type": "float"
        },
        {
         "name": "hit_rate",
         "rawType": "float64",
         "type": "float"
        },
        {
         "name": "execution_time",
         "rawType": "float64",
         "type": "float"
        }
       ],
       "conversionMethod": "pd.DataFrame",
       "ref": "739e4db8-bbe2-4e86-9abc-e4112fd04fea",
       "rows": [
        [
         "0",
         "CIFAR10",
         "RBF",
         "False",
         "0.9033333333333332",
         "1.0",
         "13.02257513999939"
        ],
        [
         "1",
         "CIFAR10",
         "IMQ",
         "False",
         "0.9033333333333332",
         "1.0",
         "12.922055006027222"
        ],
        [
         "2",
         "CIFAR10",
         "Linear",
         "False",
         "0.8066666666666666",
         "0.81",
         "3.9949586391448975"
        ],
        [
         "3",
         "CIFAR10",
         "RBF",
         "False",
         "0.94",
         "0.99",
         "12.87973952293396"
        ],
        [
         "4",
         "CIFAR10",
         "IMQ",
         "False",
         "0.9366666666666666",
         "1.0",
         "12.94348955154419"
        ]
       ],
       "shape": {
        "columns": 6,
        "rows": 5
       }
      },
      "text/html": [
       "<div>\n",
       "<style scoped>\n",
       "    .dataframe tbody tr th:only-of-type {\n",
       "        vertical-align: middle;\n",
       "    }\n",
       "\n",
       "    .dataframe tbody tr th {\n",
       "        vertical-align: top;\n",
       "    }\n",
       "\n",
       "    .dataframe thead th {\n",
       "        text-align: right;\n",
       "    }\n",
       "</style>\n",
       "<table border=\"1\" class=\"dataframe\">\n",
       "  <thead>\n",
       "    <tr style=\"text-align: right;\">\n",
       "      <th></th>\n",
       "      <th>data</th>\n",
       "      <th>kernel</th>\n",
       "      <th>scale</th>\n",
       "      <th>coverage</th>\n",
       "      <th>hit_rate</th>\n",
       "      <th>execution_time</th>\n",
       "    </tr>\n",
       "  </thead>\n",
       "  <tbody>\n",
       "    <tr>\n",
       "      <th>0</th>\n",
       "      <td>CIFAR10</td>\n",
       "      <td>RBF</td>\n",
       "      <td>False</td>\n",
       "      <td>0.903333</td>\n",
       "      <td>1.00</td>\n",
       "      <td>13.022575</td>\n",
       "    </tr>\n",
       "    <tr>\n",
       "      <th>1</th>\n",
       "      <td>CIFAR10</td>\n",
       "      <td>IMQ</td>\n",
       "      <td>False</td>\n",
       "      <td>0.903333</td>\n",
       "      <td>1.00</td>\n",
       "      <td>12.922055</td>\n",
       "    </tr>\n",
       "    <tr>\n",
       "      <th>2</th>\n",
       "      <td>CIFAR10</td>\n",
       "      <td>Linear</td>\n",
       "      <td>False</td>\n",
       "      <td>0.806667</td>\n",
       "      <td>0.81</td>\n",
       "      <td>3.994959</td>\n",
       "    </tr>\n",
       "    <tr>\n",
       "      <th>3</th>\n",
       "      <td>CIFAR10</td>\n",
       "      <td>RBF</td>\n",
       "      <td>False</td>\n",
       "      <td>0.940000</td>\n",
       "      <td>0.99</td>\n",
       "      <td>12.879740</td>\n",
       "    </tr>\n",
       "    <tr>\n",
       "      <th>4</th>\n",
       "      <td>CIFAR10</td>\n",
       "      <td>IMQ</td>\n",
       "      <td>False</td>\n",
       "      <td>0.936667</td>\n",
       "      <td>1.00</td>\n",
       "      <td>12.943490</td>\n",
       "    </tr>\n",
       "  </tbody>\n",
       "</table>\n",
       "</div>"
      ],
      "text/plain": [
       "      data  kernel  scale  coverage  hit_rate  execution_time\n",
       "0  CIFAR10     RBF  False  0.903333      1.00       13.022575\n",
       "1  CIFAR10     IMQ  False  0.903333      1.00       12.922055\n",
       "2  CIFAR10  Linear  False  0.806667      0.81        3.994959\n",
       "3  CIFAR10     RBF  False  0.940000      0.99       12.879740\n",
       "4  CIFAR10     IMQ  False  0.936667      1.00       12.943490"
      ]
     },
     "execution_count": 14,
     "metadata": {},
     "output_type": "execute_result"
    }
   ],
   "source": [
    "df1 = load_dataframe_csv('random_noise_tables', 'Explainability_kernel_CIFAR10.csv')\n",
    "df2 = load_dataframe_csv('random_noise_tables', 'Explainability_kernel_OCEA.csv')\n",
    "df3 = load_dataframe_csv('random_noise_tables', 'Explainability_kernel_MRI.csv')\n",
    "df4 = load_dataframe_csv('random_noise_tables', 'Explainability_kernel_SVHN.csv')\n",
    "df = pd.concat([df1, df2, df3, df4])\n",
    "df['data'][df['data']=='OCEA'] = 'OCH'\n",
    "df.head()"
   ]
  },
  {
   "cell_type": "code",
   "execution_count": 34,
   "metadata": {
    "ExecuteTime": {
     "end_time": "2024-10-01T23:58:42.154766184Z",
     "start_time": "2024-10-01T23:58:41.803528999Z"
    }
   },
   "outputs": [
    {
     "data": {
      "image/png": "[encoded data removed]",
      "text/plain": [
       "<Figure size 300x250 with 1 Axes>"
      ]
     },
     "metadata": {},
     "output_type": "display_data"
    }
   ],
   "source": [
    "fig = plt.figure(figsize=(3, 2.5))\n",
    "ax = sns.barplot(df, x='data', y='hit_rate', hue='kernel', width=0.8, palette=sns.color_palette(\"Blues\", 3))\n",
    "# Define some hatches\n",
    "# pattern=['//','..','xx','']\n",
    "ax.legend_.remove()\n",
    "# replace 2 with 7 in your code\n",
    "# hatches=np.repeat(pattern,3)\n",
    "\n",
    "# for pat,bar in zip(hatches,ax.patches):\n",
    "#     bar.set_hatch(pat)\n",
    "sns.set_style(\"darkgrid\")\n",
    "\n",
    "sns.set_style(\"darkgrid\")\n",
    "\n",
    "plt.xlabel('')\n",
    "plt.ylabel('Hit Rate')\n",
    "\n",
    "# plt.legend(bbox_to_anchor=(0.35, 0.33))\n",
    "\n",
    "plt.tight_layout()\n",
    "plt.savefig('plots/kernel_hitrate.pdf', format='pdf')"
   ]
  },
  {
   "cell_type": "code",
   "execution_count": 35,
   "metadata": {
    "ExecuteTime": {
     "end_time": "2024-10-01T23:58:45.164962784Z",
     "start_time": "2024-10-01T23:58:44.797307557Z"
    }
   },
   "outputs": [
    {
     "data": {
      "image/png": "[encoded data removed]",
      "text/plain": [
       "<Figure size 300x250 with 1 Axes>"
      ]
     },
     "metadata": {},
     "output_type": "display_data"
    }
   ],
   "source": [
    "fig = plt.figure(figsize=(3, 2.5))\n",
    "ax = sns.barplot(df, x='data', y='coverage', hue='kernel', width=0.8, palette=sns.color_palette(\"Blues\", 3))\n",
    "# Define some hatches\n",
    "# pattern=['//','..','xx','']\n",
    "ax.legend_.remove()\n",
    "# replace 2 with 7 in your code\n",
    "# hatches=np.repeat(pattern,3)\n",
    "\n",
    "# for pat,bar in zip(hatches,ax.patches):\n",
    "#     bar.set_hatch(pat)\n",
    "sns.set_style(\"darkgrid\")\n",
    "\n",
    "plt.xlabel('')\n",
    "plt.ylabel('Coverage')\n",
    "\n",
    "# plt.legend(bbox_to_anchor=(0.35, 0.33))\n",
    "\n",
    "plt.tight_layout()\n",
    "plt.savefig('plots/kernel_coverage.pdf', format='pdf')"
   ]
  },
  {
   "cell_type": "code",
   "execution_count": 36,
   "metadata": {
    "ExecuteTime": {
     "end_time": "2024-10-01T23:58:47.809763858Z",
     "start_time": "2024-10-01T23:58:47.316661990Z"
    }
   },
   "outputs": [
    {
     "data": {
      "image/png": "[encoded data removed]",
      "text/plain": [
       "<Figure size 300x250 with 1 Axes>"
      ]
     },
     "metadata": {},
     "output_type": "display_data"
    }
   ],
   "source": [
    "fig = plt.figure(figsize=(3, 2.5))\n",
    "ax = sns.barplot(df, x='data', y='execution_time', hue='kernel', width=0.8, palette=sns.color_palette(\"Blues\", 3))\n",
    "# Define some hatches\n",
    "# pattern=['//','..','xx','']\n",
    "ax.set_yscale(\"log\")\n",
    "ax.legend_.remove()\n",
    "# replace 2 with 7 in your code\n",
    "# hatches=np.repeat(pattern,3)\n",
    "\n",
    "# for pat,bar in zip(hatches,ax.patches):\n",
    "#     bar.set_hatch(pat)\n",
    "sns.set_style(\"darkgrid\")\n",
    "\n",
    "plt.xlabel('')\n",
    "plt.ylabel('Execution Time \\n (in seconds)')\n",
    "\n",
    "# plt.legend(bbox_to_anchor=(0.35, 0.33))\n",
    "\n",
    "plt.tight_layout()\n",
    "plt.savefig('plots/kernel_time.pdf', format='pdf')"
   ]
  },
  {
   "cell_type": "code",
   "execution_count": 37,
   "metadata": {
    "ExecuteTime": {
     "end_time": "2024-10-01T23:58:58.311348577Z",
     "start_time": "2024-10-01T23:58:58.213668728Z"
    }
   },
   "outputs": [
    {
     "name": "stderr",
     "output_type": "stream",
     "text": [
      "/tmp/ipykernel_82206/2462370678.py:5: UserWarning: Tight layout not applied. The bottom and top margins cannot be made large enough to accommodate all axes decorations.\n",
      "  plt.tight_layout()\n"
     ]
    },
    {
     "data": {
      "image/png": "[encoded data removed]",
      "text/plain": [
       "<Figure size 300x20 with 1 Axes>"
      ]
     },
     "metadata": {},
     "output_type": "display_data"
    }
   ],
   "source": [
    "fig_leg = plt.figure(figsize=(3, 0.2))\n",
    "ax_leg = fig_leg.add_subplot(111)\n",
    "ax_leg.legend(*ax.get_legend_handles_labels(), loc='center', ncol=3, frameon=False)\n",
    "ax_leg.axis('off')\n",
    "plt.tight_layout()\n",
    "fig_leg.savefig('plots/kernel_bar_legend.pdf', format='pdf')"
   ]
  },
  {
   "cell_type": "code",
   "execution_count": 38,
   "metadata": {},
   "outputs": [
    {
     "name": "stderr",
     "output_type": "stream",
     "text": [
      "/tmp/ipykernel_82206/1247994760.py:7: FutureWarning: ChainedAssignmentError: behaviour will change in pandas 3.0!\n",
      "You are setting values through chained assignment. Currently this works in certain cases, but when using Copy-on-Write (which will become the default behaviour in pandas 3.0) this will never work to update the original DataFrame or Series, because the intermediate object on which we are setting values will behave as a copy.\n",
      "A typical example is when you are setting values in a column of a DataFrame, like:\n",
      "\n",
      "df[\"col\"][row_indexer] = value\n",
      "\n",
      "Use `df.loc[row_indexer, \"col\"] = values` instead, to perform the assignment in a single step and ensure this keeps updating the original `df`.\n",
      "\n",
      "See the caveats in the documentation: https://pandas.pydata.org/pandas-docs/stable/user_guide/indexing.html#returning-a-view-versus-a-copy\n",
      "\n",
      "  df['data'][df['data']=='OCEA'] = 'OCH'\n",
      "/tmp/ipykernel_82206/1247994760.py:7: SettingWithCopyWarning: \n",
      "A value is trying to be set on a copy of a slice from a DataFrame\n",
      "\n",
      "See the caveats in the documentation: https://pandas.pydata.org/pandas-docs/stable/user_guide/indexing.html#returning-a-view-versus-a-copy\n",
      "  df['data'][df['data']=='OCEA'] = 'OCH'\n"
     ]
    },
    {
     "data": {
      "text/html": [
       "<div>\n",
       "<style scoped>\n",
       "    .dataframe tbody tr th:only-of-type {\n",
       "        vertical-align: middle;\n",
       "    }\n",
       "\n",
       "    .dataframe tbody tr th {\n",
       "        vertical-align: top;\n",
       "    }\n",
       "\n",
       "    .dataframe thead th {\n",
       "        text-align: right;\n",
       "    }\n",
       "</style>\n",
       "<table border=\"1\" class=\"dataframe\">\n",
       "  <thead>\n",
       "    <tr style=\"text-align: right;\">\n",
       "      <th></th>\n",
       "      <th>data</th>\n",
       "      <th>temperature</th>\n",
       "      <th>scale</th>\n",
       "      <th>coverage</th>\n",
       "      <th>hit_rate</th>\n",
       "      <th>execution_time</th>\n",
       "    </tr>\n",
       "  </thead>\n",
       "  <tbody>\n",
       "    <tr>\n",
       "      <th>0</th>\n",
       "      <td>CIFAR10</td>\n",
       "      <td>0.03</td>\n",
       "      <td>False</td>\n",
       "      <td>0.800000</td>\n",
       "      <td>0.33</td>\n",
       "      <td>12.991143</td>\n",
       "    </tr>\n",
       "    <tr>\n",
       "      <th>1</th>\n",
       "      <td>CIFAR10</td>\n",
       "      <td>0.06</td>\n",
       "      <td>False</td>\n",
       "      <td>0.800000</td>\n",
       "      <td>0.33</td>\n",
       "      <td>13.115565</td>\n",
       "    </tr>\n",
       "    <tr>\n",
       "      <th>2</th>\n",
       "      <td>CIFAR10</td>\n",
       "      <td>0.10</td>\n",
       "      <td>False</td>\n",
       "      <td>0.806667</td>\n",
       "      <td>0.34</td>\n",
       "      <td>12.836417</td>\n",
       "    </tr>\n",
       "    <tr>\n",
       "      <th>3</th>\n",
       "      <td>CIFAR10</td>\n",
       "      <td>0.30</td>\n",
       "      <td>False</td>\n",
       "      <td>0.866667</td>\n",
       "      <td>0.43</td>\n",
       "      <td>12.980346</td>\n",
       "    </tr>\n",
       "    <tr>\n",
       "      <th>4</th>\n",
       "      <td>CIFAR10</td>\n",
       "      <td>0.60</td>\n",
       "      <td>False</td>\n",
       "      <td>0.873333</td>\n",
       "      <td>0.45</td>\n",
       "      <td>13.156865</td>\n",
       "    </tr>\n",
       "  </tbody>\n",
       "</table>\n",
       "</div>"
      ],
      "text/plain": [
       "      data  temperature  scale  coverage  hit_rate  execution_time\n",
       "0  CIFAR10         0.03  False  0.800000      0.33       12.991143\n",
       "1  CIFAR10         0.06  False  0.800000      0.33       13.115565\n",
       "2  CIFAR10         0.10  False  0.806667      0.34       12.836417\n",
       "3  CIFAR10         0.30  False  0.866667      0.43       12.980346\n",
       "4  CIFAR10         0.60  False  0.873333      0.45       13.156865"
      ]
     },
     "execution_count": 38,
     "metadata": {},
     "output_type": "execute_result"
    }
   ],
   "source": [
    "df1 = load_dataframe_csv('tables', 'Explainability_temperature_CIFAR10.csv')\n",
    "df2 = load_dataframe_csv('tables', 'Explainability_temperature_OCEA.csv')\n",
    "# mahtab - remove MRI\n",
    "# df3 = load_dataframe_csv('tables', 'Explainability_temperature_MRI.csv')\n",
    "df3 = load_dataframe_csv('tables', 'Explainability_temperature_SVHN.csv')\n",
    "df = pd.concat([df1, df2, df3])\n",
    "df['data'][df['data']=='OCEA'] = 'OCH'\n",
    "df.head()"
   ]
  },
  {
   "cell_type": "code",
   "execution_count": 39,
   "metadata": {},
   "outputs": [
    {
     "data": {
      "image/png": "[encoded data removed]",
      "text/plain": [
       "<Figure size 300x250 with 1 Axes>"
      ]
     },
     "metadata": {},
     "output_type": "display_data"
    }
   ],
   "source": [
    "fig = plt.figure(figsize=(3, 2.5))\n",
    "ax = sns.lineplot(data=df, x='temperature', y='coverage', hue='data')\n",
    "# Define some hatches\n",
    "# pattern=['//','..','xx','']\n",
    "ax.set_xscale(\"log\")\n",
    "ax.legend_.remove()\n",
    "# replace 2 with 7 in your code\n",
    "# hatches=np.repeat(pattern,3)\n",
    "\n",
    "# for pat,bar in zip(hatches,ax.patches):\n",
    "#     bar.set_hatch(pat)\n",
    "sns.set_style(\"darkgrid\")\n",
    "\n",
    "plt.xlabel('')\n",
    "plt.ylabel('Coverage')\n",
    "\n",
    "# plt.legend(bbox_to_anchor=(0.35, 0.33))\n",
    "\n",
    "plt.tight_layout()\n",
    "plt.savefig('plots/temperature_hitrate.pdf', format='pdf')"
   ]
  },
  {
   "cell_type": "code",
   "execution_count": 113,
   "metadata": {},
   "outputs": [
    {
     "data": {
      "image/png": "[encoded data removed]",
      "text/plain": [
       "<Figure size 300x250 with 1 Axes>"
      ]
     },
     "metadata": {},
     "output_type": "display_data"
    }
   ],
   "source": [
    "fig = plt.figure(figsize=(3, 2.5))\n",
    "ax = sns.lineplot(df, x='temperature', y='hit_rate', hue='data', palette=sns.color_palette(\"Blues\", 3))\n",
    "# Define some hatches\n",
    "# pattern=['//','..','xx','']\n",
    "ax.set_xscale(\"log\")\n",
    "ax.legend_.remove()\n",
    "# replace 2 with 7 in your code\n",
    "# hatches=np.repeat(pattern,3)\n",
    "\n",
    "# for pat,bar in zip(hatches,ax.patches):\n",
    "#     bar.set_hatch(pat)\n",
    "\n",
    "plt.xlabel('')\n",
    "plt.ylabel('Hit Rate')\n",
    "\n",
    "# plt.legend(bbox_to_anchor=(0.35, 0.33))\n",
    "\n",
    "plt.tight_layout()\n",
    "plt.savefig('plots/temperature_hitrate.pdf', format='pdf')"
   ]
  },
  {
   "cell_type": "code",
   "execution_count": null,
   "metadata": {},
   "outputs": [],
   "source": []
  }
 ],
 "metadata": {
  "kernelspec": {
   "display_name": "hdexplain",
   "language": "python",
   "name": "python3"
  },
  "language_info": {
   "codemirror_mode": {
    "name": "ipython",
    "version": 3
   },
   "file_extension": ".py",
   "mimetype": "text/x-python",
   "name": "python",
   "nbconvert_exporter": "python",
   "pygments_lexer": "ipython3",
   "version": "3.10.14"
  }
 },
 "nbformat": 4,
 "nbformat_minor": 2
}
