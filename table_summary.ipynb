{
 "cells": [
  {
   "cell_type": "code",
   "execution_count": 15,
   "metadata": {
    "ExecuteTime": {
     "end_time": "2024-10-01T21:58:22.770108116Z",
     "start_time": "2024-10-01T21:58:21.634092357Z"
    }
   },
   "outputs": [],
   "source": [
    "import pandas as pd\n",
    "import seaborn as sns\n",
    "import numpy as np\n",
    "from utils import load_dataframe_csv\n",
    "\n",
    "import matplotlib.pyplot as plt\n",
    "from itertools import count"
   ]
  },
  {
   "cell_type": "code",
   "execution_count": 16,
   "metadata": {
    "ExecuteTime": {
     "end_time": "2024-10-01T22:06:37.343704373Z",
     "start_time": "2024-10-01T22:06:37.337512131Z"
    }
   },
   "outputs": [],
   "source": [
    "df1 = load_dataframe_csv('tables', 'Explainability_CIFAR10.csv')\n",
    "df2 = load_dataframe_csv('tables', 'Explainability_OCEA.csv')\n",
    "df3 = load_dataframe_csv('tables', 'Explainability_MRI.csv')\n",
    "df4 = load_dataframe_csv('tables', 'Explainability_SVHN.csv')"
   ]
  },
  {
   "cell_type": "code",
   "execution_count": 17,
   "metadata": {
    "ExecuteTime": {
     "end_time": "2024-10-01T22:06:38.558846264Z",
     "start_time": "2024-10-01T22:06:38.544581519Z"
    }
   },
   "outputs": [],
   "source": [
    "df = pd.concat([df1, df2, df3, df4])\n",
    "# mahtab\n",
    "# df = pd.concat([df4])"
   ]
  },
  {
   "cell_type": "code",
   "execution_count": 18,
   "metadata": {
    "ExecuteTime": {
     "end_time": "2024-10-01T22:06:39.428772554Z",
     "start_time": "2024-10-01T22:06:39.425035401Z"
    }
   },
   "outputs": [
    {
     "data": {
      "text/html": [
       "<div>\n",
       "<style scoped>\n",
       "    .dataframe tbody tr th:only-of-type {\n",
       "        vertical-align: middle;\n",
       "    }\n",
       "\n",
       "    .dataframe tbody tr th {\n",
       "        vertical-align: top;\n",
       "    }\n",
       "\n",
       "    .dataframe thead th {\n",
       "        text-align: right;\n",
       "    }\n",
       "</style>\n",
       "<table border=\"1\" class=\"dataframe\">\n",
       "  <thead>\n",
       "    <tr style=\"text-align: right;\">\n",
       "      <th></th>\n",
       "      <th>data</th>\n",
       "      <th>explainer</th>\n",
       "      <th>scale</th>\n",
       "      <th>coverage</th>\n",
       "      <th>hit_rate</th>\n",
       "      <th>execution_time</th>\n",
       "    </tr>\n",
       "  </thead>\n",
       "  <tbody>\n",
       "    <tr>\n",
       "      <th>0</th>\n",
       "      <td>CIFAR10</td>\n",
       "      <td>YADEA</td>\n",
       "      <td>False</td>\n",
       "      <td>0.880000</td>\n",
       "      <td>0.44</td>\n",
       "      <td>12.880284</td>\n",
       "    </tr>\n",
       "    <tr>\n",
       "      <th>1</th>\n",
       "      <td>CIFAR10</td>\n",
       "      <td>YADEA</td>\n",
       "      <td>True</td>\n",
       "      <td>0.206667</td>\n",
       "      <td>0.00</td>\n",
       "      <td>4.767715</td>\n",
       "    </tr>\n",
       "    <tr>\n",
       "      <th>2</th>\n",
       "      <td>CIFAR10</td>\n",
       "      <td>RPS</td>\n",
       "      <td>False</td>\n",
       "      <td>0.123333</td>\n",
       "      <td>0.00</td>\n",
       "      <td>2.075059</td>\n",
       "    </tr>\n",
       "    <tr>\n",
       "      <th>3</th>\n",
       "      <td>CIFAR10</td>\n",
       "      <td>IF</td>\n",
       "      <td>True</td>\n",
       "      <td>0.130000</td>\n",
       "      <td>0.02</td>\n",
       "      <td>197.586558</td>\n",
       "    </tr>\n",
       "    <tr>\n",
       "      <th>4</th>\n",
       "      <td>CIFAR10</td>\n",
       "      <td>TracIn</td>\n",
       "      <td>True</td>\n",
       "      <td>0.126667</td>\n",
       "      <td>0.02</td>\n",
       "      <td>42.020625</td>\n",
       "    </tr>\n",
       "    <tr>\n",
       "      <th>...</th>\n",
       "      <td>...</td>\n",
       "      <td>...</td>\n",
       "      <td>...</td>\n",
       "      <td>...</td>\n",
       "      <td>...</td>\n",
       "      <td>...</td>\n",
       "    </tr>\n",
       "    <tr>\n",
       "      <th>145</th>\n",
       "      <td>SVHN</td>\n",
       "      <td>YADEA</td>\n",
       "      <td>False</td>\n",
       "      <td>0.523333</td>\n",
       "      <td>0.02</td>\n",
       "      <td>15.867550</td>\n",
       "    </tr>\n",
       "    <tr>\n",
       "      <th>146</th>\n",
       "      <td>SVHN</td>\n",
       "      <td>YADEA</td>\n",
       "      <td>True</td>\n",
       "      <td>0.670000</td>\n",
       "      <td>0.01</td>\n",
       "      <td>5.168205</td>\n",
       "    </tr>\n",
       "    <tr>\n",
       "      <th>147</th>\n",
       "      <td>SVHN</td>\n",
       "      <td>RPS</td>\n",
       "      <td>False</td>\n",
       "      <td>0.200000</td>\n",
       "      <td>0.01</td>\n",
       "      <td>1.574307</td>\n",
       "    </tr>\n",
       "    <tr>\n",
       "      <th>148</th>\n",
       "      <td>SVHN</td>\n",
       "      <td>IF</td>\n",
       "      <td>True</td>\n",
       "      <td>0.290000</td>\n",
       "      <td>0.00</td>\n",
       "      <td>90.604756</td>\n",
       "    </tr>\n",
       "    <tr>\n",
       "      <th>149</th>\n",
       "      <td>SVHN</td>\n",
       "      <td>TracIn</td>\n",
       "      <td>True</td>\n",
       "      <td>0.290000</td>\n",
       "      <td>0.00</td>\n",
       "      <td>70.278291</td>\n",
       "    </tr>\n",
       "  </tbody>\n",
       "</table>\n",
       "<p>575 rows × 6 columns</p>\n",
       "</div>"
      ],
      "text/plain": [
       "        data explainer  scale  coverage  hit_rate  execution_time\n",
       "0    CIFAR10     YADEA  False  0.880000      0.44       12.880284\n",
       "1    CIFAR10     YADEA   True  0.206667      0.00        4.767715\n",
       "2    CIFAR10       RPS  False  0.123333      0.00        2.075059\n",
       "3    CIFAR10        IF   True  0.130000      0.02      197.586558\n",
       "4    CIFAR10    TracIn   True  0.126667      0.02       42.020625\n",
       "..       ...       ...    ...       ...       ...             ...\n",
       "145     SVHN     YADEA  False  0.523333      0.02       15.867550\n",
       "146     SVHN     YADEA   True  0.670000      0.01        5.168205\n",
       "147     SVHN       RPS  False  0.200000      0.01        1.574307\n",
       "148     SVHN        IF   True  0.290000      0.00       90.604756\n",
       "149     SVHN    TracIn   True  0.290000      0.00       70.278291\n",
       "\n",
       "[575 rows x 6 columns]"
      ]
     },
     "execution_count": 18,
     "metadata": {},
     "output_type": "execute_result"
    }
   ],
   "source": [
    "df"
   ]
  },
  {
   "cell_type": "code",
   "execution_count": 19,
   "metadata": {
    "ExecuteTime": {
     "end_time": "2024-10-01T22:06:41.001402851Z",
     "start_time": "2024-10-01T22:06:40.995996970Z"
    }
   },
   "outputs": [
    {
     "name": "stderr",
     "output_type": "stream",
     "text": [
      "/tmp/ipykernel_85536/2132202268.py:2: FutureWarning: ChainedAssignmentError: behaviour will change in pandas 3.0!\n",
      "You are setting values through chained assignment. Currently this works in certain cases, but when using Copy-on-Write (which will become the default behaviour in pandas 3.0) this will never work to update the original DataFrame or Series, because the intermediate object on which we are setting values will behave as a copy.\n",
      "A typical example is when you are setting values in a column of a DataFrame, like:\n",
      "\n",
      "df[\"col\"][row_indexer] = value\n",
      "\n",
      "Use `df.loc[row_indexer, \"col\"] = values` instead, to perform the assignment in a single step and ensure this keeps updating the original `df`.\n",
      "\n",
      "See the caveats in the documentation: https://pandas.pydata.org/pandas-docs/stable/user_guide/indexing.html#returning-a-view-versus-a-copy\n",
      "\n",
      "  df['names'][df['names']=='IF*'] = 'IF'\n",
      "/tmp/ipykernel_85536/2132202268.py:2: SettingWithCopyWarning: \n",
      "A value is trying to be set on a copy of a slice from a DataFrame\n",
      "\n",
      "See the caveats in the documentation: https://pandas.pydata.org/pandas-docs/stable/user_guide/indexing.html#returning-a-view-versus-a-copy\n",
      "  df['names'][df['names']=='IF*'] = 'IF'\n",
      "/tmp/ipykernel_85536/2132202268.py:3: FutureWarning: ChainedAssignmentError: behaviour will change in pandas 3.0!\n",
      "You are setting values through chained assignment. Currently this works in certain cases, but when using Copy-on-Write (which will become the default behaviour in pandas 3.0) this will never work to update the original DataFrame or Series, because the intermediate object on which we are setting values will behave as a copy.\n",
      "A typical example is when you are setting values in a column of a DataFrame, like:\n",
      "\n",
      "df[\"col\"][row_indexer] = value\n",
      "\n",
      "Use `df.loc[row_indexer, \"col\"] = values` instead, to perform the assignment in a single step and ensure this keeps updating the original `df`.\n",
      "\n",
      "See the caveats in the documentation: https://pandas.pydata.org/pandas-docs/stable/user_guide/indexing.html#returning-a-view-versus-a-copy\n",
      "\n",
      "  df['data'][df['data']=='OCEA'] = 'OCH'\n",
      "/tmp/ipykernel_85536/2132202268.py:3: SettingWithCopyWarning: \n",
      "A value is trying to be set on a copy of a slice from a DataFrame\n",
      "\n",
      "See the caveats in the documentation: https://pandas.pydata.org/pandas-docs/stable/user_guide/indexing.html#returning-a-view-versus-a-copy\n",
      "  df['data'][df['data']=='OCEA'] = 'OCH'\n"
     ]
    }
   ],
   "source": [
    "df['names'] = df['explainer'] +  [\"*\" if i else \"\" for i in df['scale'].to_list()]\n",
    "df['names'][df['names']=='IF*'] = 'IF'\n",
    "df['data'][df['data']=='OCEA'] = 'OCH'\n",
    "df['names'] = df['names'].replace({'YADEA': 'HD-EXPLAIN', 'YADEA*': 'HD-Explain*'})\n"
   ]
  },
  {
   "cell_type": "code",
   "execution_count": 20,
   "metadata": {
    "ExecuteTime": {
     "end_time": "2024-10-01T21:58:37.401681056Z",
     "start_time": "2024-10-01T21:58:37.399224013Z"
    }
   },
   "outputs": [
    {
     "data": {
      "text/html": [
       "<div>\n",
       "<style scoped>\n",
       "    .dataframe tbody tr th:only-of-type {\n",
       "        vertical-align: middle;\n",
       "    }\n",
       "\n",
       "    .dataframe tbody tr th {\n",
       "        vertical-align: top;\n",
       "    }\n",
       "\n",
       "    .dataframe thead th {\n",
       "        text-align: right;\n",
       "    }\n",
       "</style>\n",
       "<table border=\"1\" class=\"dataframe\">\n",
       "  <thead>\n",
       "    <tr style=\"text-align: right;\">\n",
       "      <th></th>\n",
       "      <th>data</th>\n",
       "      <th>explainer</th>\n",
       "      <th>scale</th>\n",
       "      <th>coverage</th>\n",
       "      <th>hit_rate</th>\n",
       "      <th>execution_time</th>\n",
       "      <th>names</th>\n",
       "    </tr>\n",
       "  </thead>\n",
       "  <tbody>\n",
       "    <tr>\n",
       "      <th>0</th>\n",
       "      <td>CIFAR10</td>\n",
       "      <td>YADEA</td>\n",
       "      <td>False</td>\n",
       "      <td>0.880000</td>\n",
       "      <td>0.44</td>\n",
       "      <td>12.880284</td>\n",
       "      <td>HD-EXPLAIN</td>\n",
       "    </tr>\n",
       "    <tr>\n",
       "      <th>1</th>\n",
       "      <td>CIFAR10</td>\n",
       "      <td>YADEA</td>\n",
       "      <td>True</td>\n",
       "      <td>0.206667</td>\n",
       "      <td>0.00</td>\n",
       "      <td>4.767715</td>\n",
       "      <td>HD-Explain*</td>\n",
       "    </tr>\n",
       "    <tr>\n",
       "      <th>2</th>\n",
       "      <td>CIFAR10</td>\n",
       "      <td>RPS</td>\n",
       "      <td>False</td>\n",
       "      <td>0.123333</td>\n",
       "      <td>0.00</td>\n",
       "      <td>2.075059</td>\n",
       "      <td>RPS</td>\n",
       "    </tr>\n",
       "    <tr>\n",
       "      <th>3</th>\n",
       "      <td>CIFAR10</td>\n",
       "      <td>IF</td>\n",
       "      <td>True</td>\n",
       "      <td>0.130000</td>\n",
       "      <td>0.02</td>\n",
       "      <td>197.586558</td>\n",
       "      <td>IF</td>\n",
       "    </tr>\n",
       "    <tr>\n",
       "      <th>4</th>\n",
       "      <td>CIFAR10</td>\n",
       "      <td>TracIn</td>\n",
       "      <td>True</td>\n",
       "      <td>0.126667</td>\n",
       "      <td>0.02</td>\n",
       "      <td>42.020625</td>\n",
       "      <td>TracIn*</td>\n",
       "    </tr>\n",
       "    <tr>\n",
       "      <th>...</th>\n",
       "      <td>...</td>\n",
       "      <td>...</td>\n",
       "      <td>...</td>\n",
       "      <td>...</td>\n",
       "      <td>...</td>\n",
       "      <td>...</td>\n",
       "      <td>...</td>\n",
       "    </tr>\n",
       "    <tr>\n",
       "      <th>145</th>\n",
       "      <td>SVHN</td>\n",
       "      <td>YADEA</td>\n",
       "      <td>False</td>\n",
       "      <td>0.523333</td>\n",
       "      <td>0.02</td>\n",
       "      <td>15.867550</td>\n",
       "      <td>HD-EXPLAIN</td>\n",
       "    </tr>\n",
       "    <tr>\n",
       "      <th>146</th>\n",
       "      <td>SVHN</td>\n",
       "      <td>YADEA</td>\n",
       "      <td>True</td>\n",
       "      <td>0.670000</td>\n",
       "      <td>0.01</td>\n",
       "      <td>5.168205</td>\n",
       "      <td>HD-Explain*</td>\n",
       "    </tr>\n",
       "    <tr>\n",
       "      <th>147</th>\n",
       "      <td>SVHN</td>\n",
       "      <td>RPS</td>\n",
       "      <td>False</td>\n",
       "      <td>0.200000</td>\n",
       "      <td>0.01</td>\n",
       "      <td>1.574307</td>\n",
       "      <td>RPS</td>\n",
       "    </tr>\n",
       "    <tr>\n",
       "      <th>148</th>\n",
       "      <td>SVHN</td>\n",
       "      <td>IF</td>\n",
       "      <td>True</td>\n",
       "      <td>0.290000</td>\n",
       "      <td>0.00</td>\n",
       "      <td>90.604756</td>\n",
       "      <td>IF</td>\n",
       "    </tr>\n",
       "    <tr>\n",
       "      <th>149</th>\n",
       "      <td>SVHN</td>\n",
       "      <td>TracIn</td>\n",
       "      <td>True</td>\n",
       "      <td>0.290000</td>\n",
       "      <td>0.00</td>\n",
       "      <td>70.278291</td>\n",
       "      <td>TracIn*</td>\n",
       "    </tr>\n",
       "  </tbody>\n",
       "</table>\n",
       "<p>575 rows × 7 columns</p>\n",
       "</div>"
      ],
      "text/plain": [
       "        data explainer  scale  coverage  hit_rate  execution_time        names\n",
       "0    CIFAR10     YADEA  False  0.880000      0.44       12.880284   HD-EXPLAIN\n",
       "1    CIFAR10     YADEA   True  0.206667      0.00        4.767715  HD-Explain*\n",
       "2    CIFAR10       RPS  False  0.123333      0.00        2.075059          RPS\n",
       "3    CIFAR10        IF   True  0.130000      0.02      197.586558           IF\n",
       "4    CIFAR10    TracIn   True  0.126667      0.02       42.020625      TracIn*\n",
       "..       ...       ...    ...       ...       ...             ...          ...\n",
       "145     SVHN     YADEA  False  0.523333      0.02       15.867550   HD-EXPLAIN\n",
       "146     SVHN     YADEA   True  0.670000      0.01        5.168205  HD-Explain*\n",
       "147     SVHN       RPS  False  0.200000      0.01        1.574307          RPS\n",
       "148     SVHN        IF   True  0.290000      0.00       90.604756           IF\n",
       "149     SVHN    TracIn   True  0.290000      0.00       70.278291      TracIn*\n",
       "\n",
       "[575 rows x 7 columns]"
      ]
     },
     "execution_count": 20,
     "metadata": {},
     "output_type": "execute_result"
    }
   ],
   "source": [
    "df"
   ]
  },
  {
   "cell_type": "code",
   "execution_count": 21,
   "metadata": {
    "ExecuteTime": {
     "end_time": "2024-10-01T21:58:37.905118732Z",
     "start_time": "2024-10-01T21:58:37.903026713Z"
    },
    "collapsed": false
   },
   "outputs": [],
   "source": [
    "grouped = df.groupby('names').agg({\n",
    "    'coverage': ['mean', 'std'],\n",
    "    'hit_rate': ['mean', 'std'],\n",
    "    'execution_time': ['mean', 'std'],\n",
    "})\n"
   ]
  },
  {
   "cell_type": "code",
   "execution_count": 22,
   "metadata": {
    "ExecuteTime": {
     "end_time": "2024-10-01T21:58:38.642683448Z",
     "start_time": "2024-10-01T21:58:38.641403404Z"
    },
    "collapsed": false
   },
   "outputs": [],
   "source": [
    "result = pd.DataFrame({\n",
    "    'coverage': grouped['coverage']['mean'].round(2).astype(str) + \" ± \" + grouped['coverage']['std'].round(2).astype(str),\n",
    "    'hit_rate': grouped['hit_rate']['mean'].round(2).astype(str) + \" ± \" + grouped['hit_rate']['std'].round(2).astype(str),\n",
    "    'execution_time': grouped['execution_time']['mean'].round(2).astype(str) + \" ± \" + grouped['execution_time']['std'].round(2).astype(str)\n",
    "})\n",
    "\n",
    "# Set the index to 'names'\n",
    "result.index.name = 'names'\n"
   ]
  },
  {
   "cell_type": "code",
   "execution_count": 23,
   "metadata": {
    "ExecuteTime": {
     "end_time": "2024-10-01T21:58:40.249564314Z",
     "start_time": "2024-10-01T21:58:40.244314444Z"
    },
    "collapsed": false
   },
   "outputs": [
    {
     "data": {
      "text/html": [
       "<div>\n",
       "<style scoped>\n",
       "    .dataframe tbody tr th:only-of-type {\n",
       "        vertical-align: middle;\n",
       "    }\n",
       "\n",
       "    .dataframe tbody tr th {\n",
       "        vertical-align: top;\n",
       "    }\n",
       "\n",
       "    .dataframe thead th {\n",
       "        text-align: right;\n",
       "    }\n",
       "</style>\n",
       "<table border=\"1\" class=\"dataframe\">\n",
       "  <thead>\n",
       "    <tr style=\"text-align: right;\">\n",
       "      <th></th>\n",
       "      <th>coverage</th>\n",
       "      <th>hit_rate</th>\n",
       "      <th>execution_time</th>\n",
       "    </tr>\n",
       "    <tr>\n",
       "      <th>names</th>\n",
       "      <th></th>\n",
       "      <th></th>\n",
       "      <th></th>\n",
       "    </tr>\n",
       "  </thead>\n",
       "  <tbody>\n",
       "    <tr>\n",
       "      <th>HD-EXPLAIN</th>\n",
       "      <td>0.68 ± 0.15</td>\n",
       "      <td>0.26 ± 0.23</td>\n",
       "      <td>94.34 ± 126.26</td>\n",
       "    </tr>\n",
       "    <tr>\n",
       "      <th>HD-Explain*</th>\n",
       "      <td>0.55 ± 0.21</td>\n",
       "      <td>0.22 ± 0.23</td>\n",
       "      <td>9.48 ± 7.44</td>\n",
       "    </tr>\n",
       "    <tr>\n",
       "      <th>IF</th>\n",
       "      <td>0.28 ± 0.16</td>\n",
       "      <td>0.02 ± 0.02</td>\n",
       "      <td>990.18 ± 1236.73</td>\n",
       "    </tr>\n",
       "    <tr>\n",
       "      <th>RPS</th>\n",
       "      <td>0.22 ± 0.15</td>\n",
       "      <td>0.02 ± 0.02</td>\n",
       "      <td>4.25 ± 3.73</td>\n",
       "    </tr>\n",
       "    <tr>\n",
       "      <th>TracIn*</th>\n",
       "      <td>0.27 ± 0.16</td>\n",
       "      <td>0.02 ± 0.02</td>\n",
       "      <td>53.3 ± 27.48</td>\n",
       "    </tr>\n",
       "  </tbody>\n",
       "</table>\n",
       "</div>"
      ],
      "text/plain": [
       "                coverage     hit_rate    execution_time\n",
       "names                                                  \n",
       "HD-EXPLAIN   0.68 ± 0.15  0.26 ± 0.23    94.34 ± 126.26\n",
       "HD-Explain*  0.55 ± 0.21  0.22 ± 0.23       9.48 ± 7.44\n",
       "IF           0.28 ± 0.16  0.02 ± 0.02  990.18 ± 1236.73\n",
       "RPS          0.22 ± 0.15  0.02 ± 0.02       4.25 ± 3.73\n",
       "TracIn*      0.27 ± 0.16  0.02 ± 0.02      53.3 ± 27.48"
      ]
     },
     "execution_count": 23,
     "metadata": {},
     "output_type": "execute_result"
    }
   ],
   "source": [
    "result"
   ]
  },
  {
   "cell_type": "code",
   "execution_count": 24,
   "metadata": {
    "ExecuteTime": {
     "end_time": "2024-10-01T21:58:42.801044720Z",
     "start_time": "2024-10-01T21:58:42.746700842Z"
    },
    "collapsed": false
   },
   "outputs": [
    {
     "name": "stdout",
     "output_type": "stream",
     "text": [
      "\\begin{tabular}{|c|c|c|c|}\n",
      "\\toprule\n",
      " & coverage & hit_rate & execution_time \\\\\n",
      "names &  &  &  \\\\\n",
      "\\midrule\n",
      "HD-EXPLAIN & 0.68 ± 0.15 & 0.26 ± 0.23 & 94.34 ± 126.26 \\\\\n",
      "HD-Explain* & 0.55 ± 0.21 & 0.22 ± 0.23 & 9.48 ± 7.44 \\\\\n",
      "IF & 0.28 ± 0.16 & 0.02 ± 0.02 & 990.18 ± 1236.73 \\\\\n",
      "RPS & 0.22 ± 0.15 & 0.02 ± 0.02 & 4.25 ± 3.73 \\\\\n",
      "TracIn* & 0.27 ± 0.16 & 0.02 ± 0.02 & 53.3 ± 27.48 \\\\\n",
      "\\bottomrule\n",
      "\\end{tabular}\n",
      "\n"
     ]
    }
   ],
   "source": [
    "# Optionally, generate a LaTeX table\n",
    "latex_table = result.to_latex(column_format='|c|c|c|c|', header=True, index=True)\n",
    "print(latex_table)"
   ]
  },
  {
   "cell_type": "code",
   "execution_count": 25,
   "metadata": {
    "ExecuteTime": {
     "end_time": "2024-10-01T21:59:48.095526284Z",
     "start_time": "2024-10-01T21:59:48.077657869Z"
    },
    "collapsed": false
   },
   "outputs": [],
   "source": [
    "# combined = grouped.apply(lambda x: x['mean'].round(2).astype(str) + \" ± \" + x['std'].round(2).astype(str), axis=1)\n",
    "# \n",
    "# # Generate LaTeX table\n",
    "# latex_table = combined.to_latex(column_format='|c' + '|c' * len(combined.columns), header=True, index=True)\n",
    "# \n",
    "# print(latex_table)"
   ]
  },
  {
   "cell_type": "code",
   "execution_count": 26,
   "metadata": {
    "ExecuteTime": {
     "end_time": "2024-10-01T21:59:49.589513990Z",
     "start_time": "2024-10-01T21:59:49.586390666Z"
    }
   },
   "outputs": [
    {
     "data": {
      "text/plain": [
       "'0.13.2'"
      ]
     },
     "execution_count": 26,
     "metadata": {},
     "output_type": "execute_result"
    }
   ],
   "source": [
    "sns.__version__"
   ]
  },
  {
   "cell_type": "code",
   "execution_count": 27,
   "metadata": {
    "ExecuteTime": {
     "end_time": "2024-10-01T22:06:51.787524549Z",
     "start_time": "2024-10-01T22:06:51.286229507Z"
    }
   },
   "outputs": [
    {
     "data": {
      "image/png": "[encoded data removed]",
      "text/plain": [
       "<Figure size 400x250 with 1 Axes>"
      ]
     },
     "metadata": {},
     "output_type": "display_data"
    }
   ],
   "source": [
    "fig = plt.figure(figsize=(4, 2.5))\n",
    "ax = sns.barplot(data = df, x='data', y='coverage', hue='names', width=0.8)\n",
    "# Define some hatches\n",
    "pattern=['//','..','xx','', '\\\\\\\\']\n",
    "ax.legend_.remove()\n",
    "# replace 2 with 7 in your code\n",
    "hatches=np.repeat(pattern,4)\n",
    "\n",
    "for pat,bar in zip(hatches,ax.patches):\n",
    "    bar.set_hatch(pat)\n",
    "\n",
    "sns.set_style(\"darkgrid\")\n",
    "\n",
    "plt.xlabel('')\n",
    "plt.ylabel('Coverage')\n",
    "\n",
    "# plt.legend(bbox_to_anchor=(0.35, 0.33))\n",
    "\n",
    "plt.tight_layout()\n",
    "plt.savefig('plots/flip_coverage.pdf', format='pdf')"
   ]
  },
  {
   "cell_type": "code",
   "execution_count": 28,
   "metadata": {
    "ExecuteTime": {
     "end_time": "2024-10-01T22:06:57.041665984Z",
     "start_time": "2024-10-01T22:06:56.385039709Z"
    }
   },
   "outputs": [
    {
     "data": {
      "image/png": "[encoded data removed]",
      "text/plain": [
       "<Figure size 400x250 with 1 Axes>"
      ]
     },
     "metadata": {},
     "output_type": "display_data"
    }
   ],
   "source": [
    "fig = plt.figure(figsize=(4, 2.5))\n",
    "ax = sns.barplot(data = df, x='data', y='hit_rate', hue='names', width=0.8)\n",
    "# Define some hatches\n",
    "pattern=['//','..','xx','', '\\\\\\\\']\n",
    "ax.set_yscale(\"log\")\n",
    "ax.legend_.remove()\n",
    "# replace 2 with 7 in your code\n",
    "hatches=np.repeat(pattern,4)\n",
    "\n",
    "sns.set_style(\"darkgrid\")\n",
    "\n",
    "for pat,bar in zip(hatches,ax.patches):\n",
    "    bar.set_hatch(pat)\n",
    "\n",
    "plt.xlabel(\"\")\n",
    "plt.ylabel('Hit Rate (log-scale)')\n",
    "\n",
    "# plt.legend(bbox_to_anchor=(0.35, 0.33))\n",
    "\n",
    "plt.tight_layout()\n",
    "plt.savefig('plots/flip_hitrate.pdf', format='pdf')"
   ]
  },
  {
   "cell_type": "code",
   "execution_count": 29,
   "metadata": {
    "ExecuteTime": {
     "end_time": "2024-10-01T22:00:32.584814225Z",
     "start_time": "2024-10-01T22:00:32.481043040Z"
    }
   },
   "outputs": [
    {
     "name": "stderr",
     "output_type": "stream",
     "text": [
      "/tmp/ipykernel_85536/2497209861.py:5: UserWarning: Tight layout not applied. The bottom and top margins cannot be made large enough to accommodate all axes decorations.\n",
      "  plt.tight_layout()\n"
     ]
    },
    {
     "data": {
      "image/png": "[encoded data removed]",
      "text/plain": [
       "<Figure size 600x20 with 1 Axes>"
      ]
     },
     "metadata": {},
     "output_type": "display_data"
    }
   ],
   "source": [
    "fig_leg = plt.figure(figsize=(6, 0.2))\n",
    "ax_leg = fig_leg.add_subplot(111)\n",
    "ax_leg.legend(*ax.get_legend_handles_labels(), loc='center', ncol=5, frameon=False)\n",
    "ax_leg.axis('off')\n",
    "plt.tight_layout()\n",
    "fig_leg.savefig('plots/bar_legend.pdf', format='pdf')"
   ]
  },
  {
   "cell_type": "code",
   "execution_count": 30,
   "metadata": {
    "ExecuteTime": {
     "end_time": "2024-10-01T22:00:39.913319014Z",
     "start_time": "2024-10-01T22:00:39.256956696Z"
    }
   },
   "outputs": [
    {
     "data": {
      "image/png": "[encoded data removed]",
      "text/plain": [
       "<Figure size 400x250 with 1 Axes>"
      ]
     },
     "metadata": {},
     "output_type": "display_data"
    }
   ],
   "source": [
    "fig = plt.figure(figsize=(4, 2.5))\n",
    "ax = sns.barplot(data = df, x='data', y='execution_time', hue='names', width=0.8)\n",
    "# Define some hatches\n",
    "pattern=['//','..','xx','', '\\\\\\\\']\n",
    "ax.set_yscale(\"log\")\n",
    "ax.legend_.remove()\n",
    "# replace 2 with 7 in your code\n",
    "hatches=np.repeat(pattern,4)\n",
    "sns.set_style(\"darkgrid\")\n",
    "\n",
    "for pat,bar in zip(hatches,ax.patches):\n",
    "    bar.set_hatch(pat)\n",
    "\n",
    "plt.xlabel(\"\")\n",
    "plt.ylabel('Execution Time \\n (in seconds)')\n",
    "\n",
    "# plt.legend(bbox_to_anchor=(0.6, 0.50))\n",
    "\n",
    "plt.tight_layout()\n",
    "plt.savefig('plots/flip_time.pdf', format='pdf')"
   ]
  },
  {
   "cell_type": "code",
   "execution_count": 31,
   "metadata": {
    "ExecuteTime": {
     "end_time": "2024-10-01T22:00:58.608760656Z",
     "start_time": "2024-10-01T22:00:58.585797324Z"
    }
   },
   "outputs": [
    {
     "name": "stderr",
     "output_type": "stream",
     "text": [
      "/tmp/ipykernel_85536/3407002072.py:6: FutureWarning: ChainedAssignmentError: behaviour will change in pandas 3.0!\n",
      "You are setting values through chained assignment. Currently this works in certain cases, but when using Copy-on-Write (which will become the default behaviour in pandas 3.0) this will never work to update the original DataFrame or Series, because the intermediate object on which we are setting values will behave as a copy.\n",
      "A typical example is when you are setting values in a column of a DataFrame, like:\n",
      "\n",
      "df[\"col\"][row_indexer] = value\n",
      "\n",
      "Use `df.loc[row_indexer, \"col\"] = values` instead, to perform the assignment in a single step and ensure this keeps updating the original `df`.\n",
      "\n",
      "See the caveats in the documentation: https://pandas.pydata.org/pandas-docs/stable/user_guide/indexing.html#returning-a-view-versus-a-copy\n",
      "\n",
      "  df['data'][df['data']=='OCEA'] = 'OCH'\n",
      "/tmp/ipykernel_85536/3407002072.py:6: SettingWithCopyWarning: \n",
      "A value is trying to be set on a copy of a slice from a DataFrame\n",
      "\n",
      "See the caveats in the documentation: https://pandas.pydata.org/pandas-docs/stable/user_guide/indexing.html#returning-a-view-versus-a-copy\n",
      "  df['data'][df['data']=='OCEA'] = 'OCH'\n"
     ]
    },
    {
     "data": {
      "text/html": [
       "<div>\n",
       "<style scoped>\n",
       "    .dataframe tbody tr th:only-of-type {\n",
       "        vertical-align: middle;\n",
       "    }\n",
       "\n",
       "    .dataframe tbody tr th {\n",
       "        vertical-align: top;\n",
       "    }\n",
       "\n",
       "    .dataframe thead th {\n",
       "        text-align: right;\n",
       "    }\n",
       "</style>\n",
       "<table border=\"1\" class=\"dataframe\">\n",
       "  <thead>\n",
       "    <tr style=\"text-align: right;\">\n",
       "      <th></th>\n",
       "      <th>data</th>\n",
       "      <th>kernel</th>\n",
       "      <th>scale</th>\n",
       "      <th>coverage</th>\n",
       "      <th>hit_rate</th>\n",
       "      <th>execution_time</th>\n",
       "    </tr>\n",
       "  </thead>\n",
       "  <tbody>\n",
       "    <tr>\n",
       "      <th>0</th>\n",
       "      <td>CIFAR10</td>\n",
       "      <td>RBF</td>\n",
       "      <td>False</td>\n",
       "      <td>0.880000</td>\n",
       "      <td>0.44</td>\n",
       "      <td>13.156355</td>\n",
       "    </tr>\n",
       "    <tr>\n",
       "      <th>1</th>\n",
       "      <td>CIFAR10</td>\n",
       "      <td>IMQ</td>\n",
       "      <td>False</td>\n",
       "      <td>0.870000</td>\n",
       "      <td>0.45</td>\n",
       "      <td>13.120904</td>\n",
       "    </tr>\n",
       "    <tr>\n",
       "      <th>2</th>\n",
       "      <td>CIFAR10</td>\n",
       "      <td>Linear</td>\n",
       "      <td>False</td>\n",
       "      <td>0.746667</td>\n",
       "      <td>0.14</td>\n",
       "      <td>3.897154</td>\n",
       "    </tr>\n",
       "    <tr>\n",
       "      <th>3</th>\n",
       "      <td>CIFAR10</td>\n",
       "      <td>RBF</td>\n",
       "      <td>True</td>\n",
       "      <td>0.206667</td>\n",
       "      <td>0.00</td>\n",
       "      <td>4.732222</td>\n",
       "    </tr>\n",
       "    <tr>\n",
       "      <th>4</th>\n",
       "      <td>CIFAR10</td>\n",
       "      <td>IMQ</td>\n",
       "      <td>True</td>\n",
       "      <td>0.936667</td>\n",
       "      <td>0.14</td>\n",
       "      <td>4.810744</td>\n",
       "    </tr>\n",
       "  </tbody>\n",
       "</table>\n",
       "</div>"
      ],
      "text/plain": [
       "      data  kernel  scale  coverage  hit_rate  execution_time\n",
       "0  CIFAR10     RBF  False  0.880000      0.44       13.156355\n",
       "1  CIFAR10     IMQ  False  0.870000      0.45       13.120904\n",
       "2  CIFAR10  Linear  False  0.746667      0.14        3.897154\n",
       "3  CIFAR10     RBF   True  0.206667      0.00        4.732222\n",
       "4  CIFAR10     IMQ   True  0.936667      0.14        4.810744"
      ]
     },
     "execution_count": 31,
     "metadata": {},
     "output_type": "execute_result"
    }
   ],
   "source": [
    "df1 = load_dataframe_csv('tables', 'Explainability_kernel_CIFAR10.csv')\n",
    "df2 = load_dataframe_csv('tables', 'Explainability_kernel_OCEA.csv')\n",
    "df3 = load_dataframe_csv('tables', 'Explainability_kernel_MRI.csv')\n",
    "df4 = load_dataframe_csv('tables', 'Explainability_kernel_SVHN.csv')\n",
    "df = pd.concat([df1, df2, df3, df4])\n",
    "df['data'][df['data']=='OCEA'] = 'OCH'\n",
    "df.head()"
   ]
  },
  {
   "cell_type": "code",
   "execution_count": 32,
   "metadata": {
    "ExecuteTime": {
     "end_time": "2024-10-01T22:01:12.762239458Z",
     "start_time": "2024-10-01T22:01:12.439141472Z"
    }
   },
   "outputs": [
    {
     "data": {
      "image/png": "[encoded data removed]",
      "text/plain": [
       "<Figure size 300x250 with 1 Axes>"
      ]
     },
     "metadata": {},
     "output_type": "display_data"
    }
   ],
   "source": [
    "fig = plt.figure(figsize=(3, 2.5))\n",
    "ax = sns.barplot(df, x='data', y='hit_rate', hue='kernel', width=0.8, palette=sns.color_palette(\"Blues\", 3))\n",
    "# Define some hatches\n",
    "# pattern=['//','..','xx','']\n",
    "ax.legend_.remove()\n",
    "# replace 2 with 7 in your code\n",
    "# hatches=np.repeat(pattern,3)\n",
    "\n",
    "# for pat,bar in zip(hatches,ax.patches):\n",
    "#     bar.set_hatch(pat)\n",
    "sns.set_style(\"darkgrid\")\n",
    "\n",
    "plt.xlabel('')\n",
    "plt.ylabel('Hit Rate')\n",
    "\n",
    "# plt.legend(bbox_to_anchor=(0.35, 0.33))\n",
    "\n",
    "plt.tight_layout()\n",
    "plt.savefig('plots/flip_kernel_hitrate.pdf', format='pdf')"
   ]
  },
  {
   "cell_type": "code",
   "execution_count": 33,
   "metadata": {
    "ExecuteTime": {
     "end_time": "2024-10-01T22:01:26.126620329Z",
     "start_time": "2024-10-01T22:01:25.780403059Z"
    }
   },
   "outputs": [
    {
     "data": {
      "image/png": "[encoded data removed]",
      "text/plain": [
       "<Figure size 300x250 with 1 Axes>"
      ]
     },
     "metadata": {},
     "output_type": "display_data"
    }
   ],
   "source": [
    "fig = plt.figure(figsize=(3, 2.5))\n",
    "ax = sns.barplot(df, x='data', y='coverage', hue='kernel', width=0.8, palette=sns.color_palette(\"Blues\", 3))\n",
    "# Define some hatches\n",
    "# pattern=['//','..','xx','']\n",
    "ax.legend_.remove()\n",
    "# replace 2 with 7 in your code\n",
    "# hatches=np.repeat(pattern,3)\n",
    "\n",
    "# for pat,bar in zip(hatches,ax.patches):\n",
    "#     bar.set_hatch(pat)\n",
    "sns.set_style(\"darkgrid\")\n",
    "\n",
    "plt.xlabel('')\n",
    "plt.ylabel('Coverage')\n",
    "\n",
    "# plt.legend(bbox_to_anchor=(0.35, 0.33))\n",
    "\n",
    "plt.tight_layout()\n",
    "plt.savefig('plots/flip_kernel_coverage.pdf', format='pdf')"
   ]
  },
  {
   "cell_type": "code",
   "execution_count": 34,
   "metadata": {
    "ExecuteTime": {
     "end_time": "2024-10-01T22:01:28.887550327Z",
     "start_time": "2024-10-01T22:01:28.407946712Z"
    }
   },
   "outputs": [
    {
     "data": {
      "image/png": "[encoded data removed]",
      "text/plain": [
       "<Figure size 300x250 with 1 Axes>"
      ]
     },
     "metadata": {},
     "output_type": "display_data"
    }
   ],
   "source": [
    "fig = plt.figure(figsize=(3, 2.5))\n",
    "ax = sns.barplot(df, x='data', y='execution_time', hue='kernel', width=0.8, palette=sns.color_palette(\"Blues\", 3))\n",
    "# Define some hatches\n",
    "# pattern=['//','..','xx','']\n",
    "ax.set_yscale(\"log\")\n",
    "ax.legend_.remove()\n",
    "# replace 2 with 7 in your code\n",
    "# hatches=np.repeat(pattern,3)\n",
    "\n",
    "# for pat,bar in zip(hatches,ax.patches):\n",
    "#     bar.set_hatch(pat)\n",
    "sns.set_style(\"darkgrid\")\n",
    "\n",
    "plt.xlabel('')\n",
    "plt.ylabel('Execution Time \\n (in seconds)')\n",
    "\n",
    "# plt.legend(bbox_to_anchor=(0.35, 0.33))\n",
    "\n",
    "plt.tight_layout()\n",
    "plt.savefig('plots/flip_kernel_time.pdf', format='pdf')"
   ]
  },
  {
   "cell_type": "code",
   "execution_count": 35,
   "metadata": {
    "ExecuteTime": {
     "end_time": "2024-10-01T22:01:44.003249264Z",
     "start_time": "2024-10-01T22:01:43.914501273Z"
    }
   },
   "outputs": [
    {
     "name": "stderr",
     "output_type": "stream",
     "text": [
      "/tmp/ipykernel_85536/2462370678.py:5: UserWarning: Tight layout not applied. The bottom and top margins cannot be made large enough to accommodate all axes decorations.\n",
      "  plt.tight_layout()\n"
     ]
    },
    {
     "data": {
      "image/png": "[encoded data removed]",
      "text/plain": [
       "<Figure size 300x20 with 1 Axes>"
      ]
     },
     "metadata": {},
     "output_type": "display_data"
    }
   ],
   "source": [
    "fig_leg = plt.figure(figsize=(3, 0.2))\n",
    "ax_leg = fig_leg.add_subplot(111)\n",
    "ax_leg.legend(*ax.get_legend_handles_labels(), loc='center', ncol=3, frameon=False)\n",
    "ax_leg.axis('off')\n",
    "plt.tight_layout()\n",
    "fig_leg.savefig('plots/kernel_bar_legend.pdf', format='pdf')"
   ]
  },
  {
   "cell_type": "code",
   "execution_count": 36,
   "metadata": {
    "ExecuteTime": {
     "end_time": "2024-10-01T22:03:04.484717294Z",
     "start_time": "2024-10-01T22:03:04.108836293Z"
    }
   },
   "outputs": [
    {
     "ename": "FileNotFoundError",
     "evalue": "[Errno 2] No such file or directory: 'tables/Explainability_temperature_MRI.csv'",
     "output_type": "error",
     "traceback": [
      "\u001b[0;31m---------------------------------------------------------------------------\u001b[0m",
      "\u001b[0;31mFileNotFoundError\u001b[0m                         Traceback (most recent call last)",
      "Cell \u001b[0;32mIn[36], line 3\u001b[0m\n\u001b[1;32m      1\u001b[0m df1 \u001b[38;5;241m=\u001b[39m load_dataframe_csv(\u001b[38;5;124m'\u001b[39m\u001b[38;5;124mtables\u001b[39m\u001b[38;5;124m'\u001b[39m, \u001b[38;5;124m'\u001b[39m\u001b[38;5;124mExplainability_temperature_CIFAR10.csv\u001b[39m\u001b[38;5;124m'\u001b[39m)\n\u001b[1;32m      2\u001b[0m df2 \u001b[38;5;241m=\u001b[39m load_dataframe_csv(\u001b[38;5;124m'\u001b[39m\u001b[38;5;124mtables\u001b[39m\u001b[38;5;124m'\u001b[39m, \u001b[38;5;124m'\u001b[39m\u001b[38;5;124mExplainability_temperature_OCEA.csv\u001b[39m\u001b[38;5;124m'\u001b[39m)\n\u001b[0;32m----> 3\u001b[0m df3 \u001b[38;5;241m=\u001b[39m \u001b[43mload_dataframe_csv\u001b[49m\u001b[43m(\u001b[49m\u001b[38;5;124;43m'\u001b[39;49m\u001b[38;5;124;43mtables\u001b[39;49m\u001b[38;5;124;43m'\u001b[39;49m\u001b[43m,\u001b[49m\u001b[43m \u001b[49m\u001b[38;5;124;43m'\u001b[39;49m\u001b[38;5;124;43mExplainability_temperature_MRI.csv\u001b[39;49m\u001b[38;5;124;43m'\u001b[39;49m\u001b[43m)\u001b[49m\n\u001b[1;32m      4\u001b[0m df4 \u001b[38;5;241m=\u001b[39m load_dataframe_csv(\u001b[38;5;124m'\u001b[39m\u001b[38;5;124mtables\u001b[39m\u001b[38;5;124m'\u001b[39m, \u001b[38;5;124m'\u001b[39m\u001b[38;5;124mExplainability_temperature_SVHN.csv\u001b[39m\u001b[38;5;124m'\u001b[39m)\n\u001b[1;32m      5\u001b[0m df \u001b[38;5;241m=\u001b[39m pd\u001b[38;5;241m.\u001b[39mconcat([df1, df2, df3, df4])\n",
      "File \u001b[0;32m~/Projects/Classifier_Explaination_via_KSD/utils/io.py:9\u001b[0m, in \u001b[0;36mload_dataframe_csv\u001b[0;34m(path, name)\u001b[0m\n\u001b[1;32m      8\u001b[0m \u001b[38;5;28;01mdef\u001b[39;00m \u001b[38;5;21mload_dataframe_csv\u001b[39m(path, name):\n\u001b[0;32m----> 9\u001b[0m     \u001b[38;5;28;01mreturn\u001b[39;00m \u001b[43mpd\u001b[49m\u001b[38;5;241;43m.\u001b[39;49m\u001b[43mread_csv\u001b[49m\u001b[43m(\u001b[49m\u001b[43mos\u001b[49m\u001b[38;5;241;43m.\u001b[39;49m\u001b[43mpath\u001b[49m\u001b[38;5;241;43m.\u001b[39;49m\u001b[43mjoin\u001b[49m\u001b[43m(\u001b[49m\u001b[43mpath\u001b[49m\u001b[43m,\u001b[49m\u001b[43m \u001b[49m\u001b[43mname\u001b[49m\u001b[43m)\u001b[49m\u001b[43m)\u001b[49m\n",
      "File \u001b[0;32m~/miniconda3/envs/hdexplain/lib/python3.10/site-packages/pandas/io/parsers/readers.py:1026\u001b[0m, in \u001b[0;36mread_csv\u001b[0;34m(filepath_or_buffer, sep, delimiter, header, names, index_col, usecols, dtype, engine, converters, true_values, false_values, skipinitialspace, skiprows, skipfooter, nrows, na_values, keep_default_na, na_filter, verbose, skip_blank_lines, parse_dates, infer_datetime_format, keep_date_col, date_parser, date_format, dayfirst, cache_dates, iterator, chunksize, compression, thousands, decimal, lineterminator, quotechar, quoting, doublequote, escapechar, comment, encoding, encoding_errors, dialect, on_bad_lines, delim_whitespace, low_memory, memory_map, float_precision, storage_options, dtype_backend)\u001b[0m\n\u001b[1;32m   1013\u001b[0m kwds_defaults \u001b[38;5;241m=\u001b[39m _refine_defaults_read(\n\u001b[1;32m   1014\u001b[0m     dialect,\n\u001b[1;32m   1015\u001b[0m     delimiter,\n\u001b[0;32m   (...)\u001b[0m\n\u001b[1;32m   1022\u001b[0m     dtype_backend\u001b[38;5;241m=\u001b[39mdtype_backend,\n\u001b[1;32m   1023\u001b[0m )\n\u001b[1;32m   1024\u001b[0m kwds\u001b[38;5;241m.\u001b[39mupdate(kwds_defaults)\n\u001b[0;32m-> 1026\u001b[0m \u001b[38;5;28;01mreturn\u001b[39;00m \u001b[43m_read\u001b[49m\u001b[43m(\u001b[49m\u001b[43mfilepath_or_buffer\u001b[49m\u001b[43m,\u001b[49m\u001b[43m \u001b[49m\u001b[43mkwds\u001b[49m\u001b[43m)\u001b[49m\n",
      "File \u001b[0;32m~/miniconda3/envs/hdexplain/lib/python3.10/site-packages/pandas/io/parsers/readers.py:620\u001b[0m, in \u001b[0;36m_read\u001b[0;34m(filepath_or_buffer, kwds)\u001b[0m\n\u001b[1;32m    617\u001b[0m _validate_names(kwds\u001b[38;5;241m.\u001b[39mget(\u001b[38;5;124m\"\u001b[39m\u001b[38;5;124mnames\u001b[39m\u001b[38;5;124m\"\u001b[39m, \u001b[38;5;28;01mNone\u001b[39;00m))\n\u001b[1;32m    619\u001b[0m \u001b[38;5;66;03m# Create the parser.\u001b[39;00m\n\u001b[0;32m--> 620\u001b[0m parser \u001b[38;5;241m=\u001b[39m \u001b[43mTextFileReader\u001b[49m\u001b[43m(\u001b[49m\u001b[43mfilepath_or_buffer\u001b[49m\u001b[43m,\u001b[49m\u001b[43m \u001b[49m\u001b[38;5;241;43m*\u001b[39;49m\u001b[38;5;241;43m*\u001b[39;49m\u001b[43mkwds\u001b[49m\u001b[43m)\u001b[49m\n\u001b[1;32m    622\u001b[0m \u001b[38;5;28;01mif\u001b[39;00m chunksize \u001b[38;5;129;01mor\u001b[39;00m iterator:\n\u001b[1;32m    623\u001b[0m     \u001b[38;5;28;01mreturn\u001b[39;00m parser\n",
      "File \u001b[0;32m~/miniconda3/envs/hdexplain/lib/python3.10/site-packages/pandas/io/parsers/readers.py:1620\u001b[0m, in \u001b[0;36mTextFileReader.__init__\u001b[0;34m(self, f, engine, **kwds)\u001b[0m\n\u001b[1;32m   1617\u001b[0m     \u001b[38;5;28mself\u001b[39m\u001b[38;5;241m.\u001b[39moptions[\u001b[38;5;124m\"\u001b[39m\u001b[38;5;124mhas_index_names\u001b[39m\u001b[38;5;124m\"\u001b[39m] \u001b[38;5;241m=\u001b[39m kwds[\u001b[38;5;124m\"\u001b[39m\u001b[38;5;124mhas_index_names\u001b[39m\u001b[38;5;124m\"\u001b[39m]\n\u001b[1;32m   1619\u001b[0m \u001b[38;5;28mself\u001b[39m\u001b[38;5;241m.\u001b[39mhandles: IOHandles \u001b[38;5;241m|\u001b[39m \u001b[38;5;28;01mNone\u001b[39;00m \u001b[38;5;241m=\u001b[39m \u001b[38;5;28;01mNone\u001b[39;00m\n\u001b[0;32m-> 1620\u001b[0m \u001b[38;5;28mself\u001b[39m\u001b[38;5;241m.\u001b[39m_engine \u001b[38;5;241m=\u001b[39m \u001b[38;5;28;43mself\u001b[39;49m\u001b[38;5;241;43m.\u001b[39;49m\u001b[43m_make_engine\u001b[49m\u001b[43m(\u001b[49m\u001b[43mf\u001b[49m\u001b[43m,\u001b[49m\u001b[43m \u001b[49m\u001b[38;5;28;43mself\u001b[39;49m\u001b[38;5;241;43m.\u001b[39;49m\u001b[43mengine\u001b[49m\u001b[43m)\u001b[49m\n",
      "File \u001b[0;32m~/miniconda3/envs/hdexplain/lib/python3.10/site-packages/pandas/io/parsers/readers.py:1880\u001b[0m, in \u001b[0;36mTextFileReader._make_engine\u001b[0;34m(self, f, engine)\u001b[0m\n\u001b[1;32m   1878\u001b[0m     \u001b[38;5;28;01mif\u001b[39;00m \u001b[38;5;124m\"\u001b[39m\u001b[38;5;124mb\u001b[39m\u001b[38;5;124m\"\u001b[39m \u001b[38;5;129;01mnot\u001b[39;00m \u001b[38;5;129;01min\u001b[39;00m mode:\n\u001b[1;32m   1879\u001b[0m         mode \u001b[38;5;241m+\u001b[39m\u001b[38;5;241m=\u001b[39m \u001b[38;5;124m\"\u001b[39m\u001b[38;5;124mb\u001b[39m\u001b[38;5;124m\"\u001b[39m\n\u001b[0;32m-> 1880\u001b[0m \u001b[38;5;28mself\u001b[39m\u001b[38;5;241m.\u001b[39mhandles \u001b[38;5;241m=\u001b[39m \u001b[43mget_handle\u001b[49m\u001b[43m(\u001b[49m\n\u001b[1;32m   1881\u001b[0m \u001b[43m    \u001b[49m\u001b[43mf\u001b[49m\u001b[43m,\u001b[49m\n\u001b[1;32m   1882\u001b[0m \u001b[43m    \u001b[49m\u001b[43mmode\u001b[49m\u001b[43m,\u001b[49m\n\u001b[1;32m   1883\u001b[0m \u001b[43m    \u001b[49m\u001b[43mencoding\u001b[49m\u001b[38;5;241;43m=\u001b[39;49m\u001b[38;5;28;43mself\u001b[39;49m\u001b[38;5;241;43m.\u001b[39;49m\u001b[43moptions\u001b[49m\u001b[38;5;241;43m.\u001b[39;49m\u001b[43mget\u001b[49m\u001b[43m(\u001b[49m\u001b[38;5;124;43m\"\u001b[39;49m\u001b[38;5;124;43mencoding\u001b[39;49m\u001b[38;5;124;43m\"\u001b[39;49m\u001b[43m,\u001b[49m\u001b[43m \u001b[49m\u001b[38;5;28;43;01mNone\u001b[39;49;00m\u001b[43m)\u001b[49m\u001b[43m,\u001b[49m\n\u001b[1;32m   1884\u001b[0m \u001b[43m    \u001b[49m\u001b[43mcompression\u001b[49m\u001b[38;5;241;43m=\u001b[39;49m\u001b[38;5;28;43mself\u001b[39;49m\u001b[38;5;241;43m.\u001b[39;49m\u001b[43moptions\u001b[49m\u001b[38;5;241;43m.\u001b[39;49m\u001b[43mget\u001b[49m\u001b[43m(\u001b[49m\u001b[38;5;124;43m\"\u001b[39;49m\u001b[38;5;124;43mcompression\u001b[39;49m\u001b[38;5;124;43m\"\u001b[39;49m\u001b[43m,\u001b[49m\u001b[43m \u001b[49m\u001b[38;5;28;43;01mNone\u001b[39;49;00m\u001b[43m)\u001b[49m\u001b[43m,\u001b[49m\n\u001b[1;32m   1885\u001b[0m \u001b[43m    \u001b[49m\u001b[43mmemory_map\u001b[49m\u001b[38;5;241;43m=\u001b[39;49m\u001b[38;5;28;43mself\u001b[39;49m\u001b[38;5;241;43m.\u001b[39;49m\u001b[43moptions\u001b[49m\u001b[38;5;241;43m.\u001b[39;49m\u001b[43mget\u001b[49m\u001b[43m(\u001b[49m\u001b[38;5;124;43m\"\u001b[39;49m\u001b[38;5;124;43mmemory_map\u001b[39;49m\u001b[38;5;124;43m\"\u001b[39;49m\u001b[43m,\u001b[49m\u001b[43m \u001b[49m\u001b[38;5;28;43;01mFalse\u001b[39;49;00m\u001b[43m)\u001b[49m\u001b[43m,\u001b[49m\n\u001b[1;32m   1886\u001b[0m \u001b[43m    \u001b[49m\u001b[43mis_text\u001b[49m\u001b[38;5;241;43m=\u001b[39;49m\u001b[43mis_text\u001b[49m\u001b[43m,\u001b[49m\n\u001b[1;32m   1887\u001b[0m \u001b[43m    \u001b[49m\u001b[43merrors\u001b[49m\u001b[38;5;241;43m=\u001b[39;49m\u001b[38;5;28;43mself\u001b[39;49m\u001b[38;5;241;43m.\u001b[39;49m\u001b[43moptions\u001b[49m\u001b[38;5;241;43m.\u001b[39;49m\u001b[43mget\u001b[49m\u001b[43m(\u001b[49m\u001b[38;5;124;43m\"\u001b[39;49m\u001b[38;5;124;43mencoding_errors\u001b[39;49m\u001b[38;5;124;43m\"\u001b[39;49m\u001b[43m,\u001b[49m\u001b[43m \u001b[49m\u001b[38;5;124;43m\"\u001b[39;49m\u001b[38;5;124;43mstrict\u001b[39;49m\u001b[38;5;124;43m\"\u001b[39;49m\u001b[43m)\u001b[49m\u001b[43m,\u001b[49m\n\u001b[1;32m   1888\u001b[0m \u001b[43m    \u001b[49m\u001b[43mstorage_options\u001b[49m\u001b[38;5;241;43m=\u001b[39;49m\u001b[38;5;28;43mself\u001b[39;49m\u001b[38;5;241;43m.\u001b[39;49m\u001b[43moptions\u001b[49m\u001b[38;5;241;43m.\u001b[39;49m\u001b[43mget\u001b[49m\u001b[43m(\u001b[49m\u001b[38;5;124;43m\"\u001b[39;49m\u001b[38;5;124;43mstorage_options\u001b[39;49m\u001b[38;5;124;43m\"\u001b[39;49m\u001b[43m,\u001b[49m\u001b[43m \u001b[49m\u001b[38;5;28;43;01mNone\u001b[39;49;00m\u001b[43m)\u001b[49m\u001b[43m,\u001b[49m\n\u001b[1;32m   1889\u001b[0m \u001b[43m\u001b[49m\u001b[43m)\u001b[49m\n\u001b[1;32m   1890\u001b[0m \u001b[38;5;28;01massert\u001b[39;00m \u001b[38;5;28mself\u001b[39m\u001b[38;5;241m.\u001b[39mhandles \u001b[38;5;129;01mis\u001b[39;00m \u001b[38;5;129;01mnot\u001b[39;00m \u001b[38;5;28;01mNone\u001b[39;00m\n\u001b[1;32m   1891\u001b[0m f \u001b[38;5;241m=\u001b[39m \u001b[38;5;28mself\u001b[39m\u001b[38;5;241m.\u001b[39mhandles\u001b[38;5;241m.\u001b[39mhandle\n",
      "File \u001b[0;32m~/miniconda3/envs/hdexplain/lib/python3.10/site-packages/pandas/io/common.py:873\u001b[0m, in \u001b[0;36mget_handle\u001b[0;34m(path_or_buf, mode, encoding, compression, memory_map, is_text, errors, storage_options)\u001b[0m\n\u001b[1;32m    868\u001b[0m \u001b[38;5;28;01melif\u001b[39;00m \u001b[38;5;28misinstance\u001b[39m(handle, \u001b[38;5;28mstr\u001b[39m):\n\u001b[1;32m    869\u001b[0m     \u001b[38;5;66;03m# Check whether the filename is to be opened in binary mode.\u001b[39;00m\n\u001b[1;32m    870\u001b[0m     \u001b[38;5;66;03m# Binary mode does not support 'encoding' and 'newline'.\u001b[39;00m\n\u001b[1;32m    871\u001b[0m     \u001b[38;5;28;01mif\u001b[39;00m ioargs\u001b[38;5;241m.\u001b[39mencoding \u001b[38;5;129;01mand\u001b[39;00m \u001b[38;5;124m\"\u001b[39m\u001b[38;5;124mb\u001b[39m\u001b[38;5;124m\"\u001b[39m \u001b[38;5;129;01mnot\u001b[39;00m \u001b[38;5;129;01min\u001b[39;00m ioargs\u001b[38;5;241m.\u001b[39mmode:\n\u001b[1;32m    872\u001b[0m         \u001b[38;5;66;03m# Encoding\u001b[39;00m\n\u001b[0;32m--> 873\u001b[0m         handle \u001b[38;5;241m=\u001b[39m \u001b[38;5;28;43mopen\u001b[39;49m\u001b[43m(\u001b[49m\n\u001b[1;32m    874\u001b[0m \u001b[43m            \u001b[49m\u001b[43mhandle\u001b[49m\u001b[43m,\u001b[49m\n\u001b[1;32m    875\u001b[0m \u001b[43m            \u001b[49m\u001b[43mioargs\u001b[49m\u001b[38;5;241;43m.\u001b[39;49m\u001b[43mmode\u001b[49m\u001b[43m,\u001b[49m\n\u001b[1;32m    876\u001b[0m \u001b[43m            \u001b[49m\u001b[43mencoding\u001b[49m\u001b[38;5;241;43m=\u001b[39;49m\u001b[43mioargs\u001b[49m\u001b[38;5;241;43m.\u001b[39;49m\u001b[43mencoding\u001b[49m\u001b[43m,\u001b[49m\n\u001b[1;32m    877\u001b[0m \u001b[43m            \u001b[49m\u001b[43merrors\u001b[49m\u001b[38;5;241;43m=\u001b[39;49m\u001b[43merrors\u001b[49m\u001b[43m,\u001b[49m\n\u001b[1;32m    878\u001b[0m \u001b[43m            \u001b[49m\u001b[43mnewline\u001b[49m\u001b[38;5;241;43m=\u001b[39;49m\u001b[38;5;124;43m\"\u001b[39;49m\u001b[38;5;124;43m\"\u001b[39;49m\u001b[43m,\u001b[49m\n\u001b[1;32m    879\u001b[0m \u001b[43m        \u001b[49m\u001b[43m)\u001b[49m\n\u001b[1;32m    880\u001b[0m     \u001b[38;5;28;01melse\u001b[39;00m:\n\u001b[1;32m    881\u001b[0m         \u001b[38;5;66;03m# Binary mode\u001b[39;00m\n\u001b[1;32m    882\u001b[0m         handle \u001b[38;5;241m=\u001b[39m \u001b[38;5;28mopen\u001b[39m(handle, ioargs\u001b[38;5;241m.\u001b[39mmode)\n",
      "\u001b[0;31mFileNotFoundError\u001b[0m: [Errno 2] No such file or directory: 'tables/Explainability_temperature_MRI.csv'"
     ]
    }
   ],
   "source": [
    "df1 = load_dataframe_csv('tables', 'Explainability_temperature_CIFAR10.csv')\n",
    "df2 = load_dataframe_csv('tables', 'Explainability_temperature_OCEA.csv')\n",
    "df3 = load_dataframe_csv('tables', 'Explainability_temperature_MRI.csv')\n",
    "df4 = load_dataframe_csv('tables', 'Explainability_temperature_SVHN.csv')\n",
    "df = pd.concat([df1, df2, df3, df4])\n",
    "df['data'][df['data']=='OCEA'] = 'OCH'\n",
    "df.head()"
   ]
  },
  {
   "cell_type": "code",
   "execution_count": 19,
   "metadata": {},
   "outputs": [
    {
     "ename": "ValueError",
     "evalue": "Could not interpret value `temperature` for parameter `x`",
     "output_type": "error",
     "traceback": [
      "\u001b[0;31m---------------------------------------------------------------------------\u001b[0m",
      "\u001b[0;31mValueError\u001b[0m                                Traceback (most recent call last)",
      "\u001b[0;32m<ipython-input-19-968328cfb381>\u001b[0m in \u001b[0;36m<module>\u001b[0;34m\u001b[0m\n\u001b[1;32m      1\u001b[0m \u001b[0mfig\u001b[0m \u001b[0;34m=\u001b[0m \u001b[0mplt\u001b[0m\u001b[0;34m.\u001b[0m\u001b[0mfigure\u001b[0m\u001b[0;34m(\u001b[0m\u001b[0mfigsize\u001b[0m\u001b[0;34m=\u001b[0m\u001b[0;34m(\u001b[0m\u001b[0;36m3\u001b[0m\u001b[0;34m,\u001b[0m \u001b[0;36m2.5\u001b[0m\u001b[0;34m)\u001b[0m\u001b[0;34m)\u001b[0m\u001b[0;34m\u001b[0m\u001b[0;34m\u001b[0m\u001b[0m\n\u001b[0;32m----> 2\u001b[0;31m \u001b[0max\u001b[0m \u001b[0;34m=\u001b[0m \u001b[0msns\u001b[0m\u001b[0;34m.\u001b[0m\u001b[0mlineplot\u001b[0m\u001b[0;34m(\u001b[0m\u001b[0mdata\u001b[0m\u001b[0;34m=\u001b[0m\u001b[0mdf\u001b[0m\u001b[0;34m,\u001b[0m \u001b[0mx\u001b[0m\u001b[0;34m=\u001b[0m\u001b[0;34m'temperature'\u001b[0m\u001b[0;34m,\u001b[0m \u001b[0my\u001b[0m\u001b[0;34m=\u001b[0m\u001b[0;34m'coverage'\u001b[0m\u001b[0;34m,\u001b[0m \u001b[0mhue\u001b[0m\u001b[0;34m=\u001b[0m\u001b[0;34m'data'\u001b[0m\u001b[0;34m)\u001b[0m\u001b[0;34m\u001b[0m\u001b[0;34m\u001b[0m\u001b[0m\n\u001b[0m\u001b[1;32m      3\u001b[0m \u001b[0;31m# Define some hatches\u001b[0m\u001b[0;34m\u001b[0m\u001b[0;34m\u001b[0m\u001b[0;34m\u001b[0m\u001b[0m\n\u001b[1;32m      4\u001b[0m \u001b[0;31m# pattern=['//','..','xx','']\u001b[0m\u001b[0;34m\u001b[0m\u001b[0;34m\u001b[0m\u001b[0;34m\u001b[0m\u001b[0m\n\u001b[1;32m      5\u001b[0m \u001b[0max\u001b[0m\u001b[0;34m.\u001b[0m\u001b[0mset_xscale\u001b[0m\u001b[0;34m(\u001b[0m\u001b[0;34m\"log\"\u001b[0m\u001b[0;34m)\u001b[0m\u001b[0;34m\u001b[0m\u001b[0;34m\u001b[0m\u001b[0m\n",
      "\u001b[0;32m~/anaconda3/envs/ood/lib/python3.8/site-packages/seaborn/relational.py\u001b[0m in \u001b[0;36mlineplot\u001b[0;34m(data, x, y, hue, size, style, units, palette, hue_order, hue_norm, sizes, size_order, size_norm, dashes, markers, style_order, estimator, errorbar, n_boot, seed, orient, sort, err_style, err_kws, legend, ci, ax, **kwargs)\u001b[0m\n\u001b[1;32m    610\u001b[0m \u001b[0;34m\u001b[0m\u001b[0m\n\u001b[1;32m    611\u001b[0m     \u001b[0mvariables\u001b[0m \u001b[0;34m=\u001b[0m \u001b[0m_LinePlotter\u001b[0m\u001b[0;34m.\u001b[0m\u001b[0mget_semantics\u001b[0m\u001b[0;34m(\u001b[0m\u001b[0mlocals\u001b[0m\u001b[0;34m(\u001b[0m\u001b[0;34m)\u001b[0m\u001b[0;34m)\u001b[0m\u001b[0;34m\u001b[0m\u001b[0;34m\u001b[0m\u001b[0m\n\u001b[0;32m--> 612\u001b[0;31m     p = _LinePlotter(\n\u001b[0m\u001b[1;32m    613\u001b[0m         \u001b[0mdata\u001b[0m\u001b[0;34m=\u001b[0m\u001b[0mdata\u001b[0m\u001b[0;34m,\u001b[0m \u001b[0mvariables\u001b[0m\u001b[0;34m=\u001b[0m\u001b[0mvariables\u001b[0m\u001b[0;34m,\u001b[0m\u001b[0;34m\u001b[0m\u001b[0;34m\u001b[0m\u001b[0m\n\u001b[1;32m    614\u001b[0m         \u001b[0mestimator\u001b[0m\u001b[0;34m=\u001b[0m\u001b[0mestimator\u001b[0m\u001b[0;34m,\u001b[0m \u001b[0mn_boot\u001b[0m\u001b[0;34m=\u001b[0m\u001b[0mn_boot\u001b[0m\u001b[0;34m,\u001b[0m \u001b[0mseed\u001b[0m\u001b[0;34m=\u001b[0m\u001b[0mseed\u001b[0m\u001b[0;34m,\u001b[0m \u001b[0merrorbar\u001b[0m\u001b[0;34m=\u001b[0m\u001b[0merrorbar\u001b[0m\u001b[0;34m,\u001b[0m\u001b[0;34m\u001b[0m\u001b[0;34m\u001b[0m\u001b[0m\n",
      "\u001b[0;32m~/anaconda3/envs/ood/lib/python3.8/site-packages/seaborn/relational.py\u001b[0m in \u001b[0;36m__init__\u001b[0;34m(self, data, variables, estimator, n_boot, seed, errorbar, sort, orient, err_style, err_kws, legend)\u001b[0m\n\u001b[1;32m    363\u001b[0m         )\n\u001b[1;32m    364\u001b[0m \u001b[0;34m\u001b[0m\u001b[0m\n\u001b[0;32m--> 365\u001b[0;31m         \u001b[0msuper\u001b[0m\u001b[0;34m(\u001b[0m\u001b[0;34m)\u001b[0m\u001b[0;34m.\u001b[0m\u001b[0m__init__\u001b[0m\u001b[0;34m(\u001b[0m\u001b[0mdata\u001b[0m\u001b[0;34m=\u001b[0m\u001b[0mdata\u001b[0m\u001b[0;34m,\u001b[0m \u001b[0mvariables\u001b[0m\u001b[0;34m=\u001b[0m\u001b[0mvariables\u001b[0m\u001b[0;34m)\u001b[0m\u001b[0;34m\u001b[0m\u001b[0;34m\u001b[0m\u001b[0m\n\u001b[0m\u001b[1;32m    366\u001b[0m \u001b[0;34m\u001b[0m\u001b[0m\n\u001b[1;32m    367\u001b[0m         \u001b[0mself\u001b[0m\u001b[0;34m.\u001b[0m\u001b[0mestimator\u001b[0m \u001b[0;34m=\u001b[0m \u001b[0mestimator\u001b[0m\u001b[0;34m\u001b[0m\u001b[0;34m\u001b[0m\u001b[0m\n",
      "\u001b[0;32m~/anaconda3/envs/ood/lib/python3.8/site-packages/seaborn/_oldcore.py\u001b[0m in \u001b[0;36m__init__\u001b[0;34m(self, data, variables)\u001b[0m\n\u001b[1;32m    638\u001b[0m         \u001b[0;31m# information for numeric axes would be information about log scales.\u001b[0m\u001b[0;34m\u001b[0m\u001b[0;34m\u001b[0m\u001b[0;34m\u001b[0m\u001b[0m\n\u001b[1;32m    639\u001b[0m         \u001b[0mself\u001b[0m\u001b[0;34m.\u001b[0m\u001b[0m_var_ordered\u001b[0m \u001b[0;34m=\u001b[0m \u001b[0;34m{\u001b[0m\u001b[0;34m\"x\"\u001b[0m\u001b[0;34m:\u001b[0m \u001b[0;32mFalse\u001b[0m\u001b[0;34m,\u001b[0m \u001b[0;34m\"y\"\u001b[0m\u001b[0;34m:\u001b[0m \u001b[0;32mFalse\u001b[0m\u001b[0;34m}\u001b[0m  \u001b[0;31m# alt., used DefaultDict\u001b[0m\u001b[0;34m\u001b[0m\u001b[0;34m\u001b[0m\u001b[0m\n\u001b[0;32m--> 640\u001b[0;31m         \u001b[0mself\u001b[0m\u001b[0;34m.\u001b[0m\u001b[0massign_variables\u001b[0m\u001b[0;34m(\u001b[0m\u001b[0mdata\u001b[0m\u001b[0;34m,\u001b[0m \u001b[0mvariables\u001b[0m\u001b[0;34m)\u001b[0m\u001b[0;34m\u001b[0m\u001b[0;34m\u001b[0m\u001b[0m\n\u001b[0m\u001b[1;32m    641\u001b[0m \u001b[0;34m\u001b[0m\u001b[0m\n\u001b[1;32m    642\u001b[0m         \u001b[0;32mfor\u001b[0m \u001b[0mvar\u001b[0m\u001b[0;34m,\u001b[0m \u001b[0mcls\u001b[0m \u001b[0;32min\u001b[0m \u001b[0mself\u001b[0m\u001b[0;34m.\u001b[0m\u001b[0m_semantic_mappings\u001b[0m\u001b[0;34m.\u001b[0m\u001b[0mitems\u001b[0m\u001b[0;34m(\u001b[0m\u001b[0;34m)\u001b[0m\u001b[0;34m:\u001b[0m\u001b[0;34m\u001b[0m\u001b[0;34m\u001b[0m\u001b[0m\n",
      "\u001b[0;32m~/anaconda3/envs/ood/lib/python3.8/site-packages/seaborn/_oldcore.py\u001b[0m in \u001b[0;36massign_variables\u001b[0;34m(self, data, variables)\u001b[0m\n\u001b[1;32m    699\u001b[0m         \u001b[0;32melse\u001b[0m\u001b[0;34m:\u001b[0m\u001b[0;34m\u001b[0m\u001b[0;34m\u001b[0m\u001b[0m\n\u001b[1;32m    700\u001b[0m             \u001b[0mself\u001b[0m\u001b[0;34m.\u001b[0m\u001b[0minput_format\u001b[0m \u001b[0;34m=\u001b[0m \u001b[0;34m\"long\"\u001b[0m\u001b[0;34m\u001b[0m\u001b[0;34m\u001b[0m\u001b[0m\n\u001b[0;32m--> 701\u001b[0;31m             plot_data, variables = self._assign_variables_longform(\n\u001b[0m\u001b[1;32m    702\u001b[0m                 \u001b[0mdata\u001b[0m\u001b[0;34m,\u001b[0m \u001b[0;34m**\u001b[0m\u001b[0mvariables\u001b[0m\u001b[0;34m,\u001b[0m\u001b[0;34m\u001b[0m\u001b[0;34m\u001b[0m\u001b[0m\n\u001b[1;32m    703\u001b[0m             )\n",
      "\u001b[0;32m~/anaconda3/envs/ood/lib/python3.8/site-packages/seaborn/_oldcore.py\u001b[0m in \u001b[0;36m_assign_variables_longform\u001b[0;34m(self, data, **kwargs)\u001b[0m\n\u001b[1;32m    936\u001b[0m \u001b[0;34m\u001b[0m\u001b[0m\n\u001b[1;32m    937\u001b[0m                 \u001b[0merr\u001b[0m \u001b[0;34m=\u001b[0m \u001b[0;34mf\"Could not interpret value `{val}` for parameter `{key}`\"\u001b[0m\u001b[0;34m\u001b[0m\u001b[0;34m\u001b[0m\u001b[0m\n\u001b[0;32m--> 938\u001b[0;31m                 \u001b[0;32mraise\u001b[0m \u001b[0mValueError\u001b[0m\u001b[0;34m(\u001b[0m\u001b[0merr\u001b[0m\u001b[0;34m)\u001b[0m\u001b[0;34m\u001b[0m\u001b[0;34m\u001b[0m\u001b[0m\n\u001b[0m\u001b[1;32m    939\u001b[0m \u001b[0;34m\u001b[0m\u001b[0m\n\u001b[1;32m    940\u001b[0m             \u001b[0;32melse\u001b[0m\u001b[0;34m:\u001b[0m\u001b[0;34m\u001b[0m\u001b[0;34m\u001b[0m\u001b[0m\n",
      "\u001b[0;31mValueError\u001b[0m: Could not interpret value `temperature` for parameter `x`"
     ]
    },
    {
     "data": {
      "text/plain": [
       "<Figure size 216x180 with 0 Axes>"
      ]
     },
     "metadata": {},
     "output_type": "display_data"
    }
   ],
   "source": [
    "fig = plt.figure(figsize=(3, 2.5))\n",
    "ax = sns.lineplot(data=df, x='temperature', y='coverage', hue='data')\n",
    "# Define some hatches\n",
    "# pattern=['//','..','xx','']\n",
    "ax.set_xscale(\"log\")\n",
    "ax.legend_.remove()\n",
    "# replace 2 with 7 in your code\n",
    "# hatches=np.repeat(pattern,3)\n",
    "\n",
    "# for pat,bar in zip(hatches,ax.patches):\n",
    "#     bar.set_hatch(pat)\n",
    "\n",
    "plt.xlabel('')\n",
    "plt.ylabel('Coverage')\n",
    "\n",
    "# plt.legend(bbox_to_anchor=(0.35, 0.33))\n",
    "\n",
    "plt.tight_layout()\n",
    "plt.savefig('plots/temperature_hitrate.pdf', format='pdf')"
   ]
  },
  {
   "cell_type": "code",
   "execution_count": 113,
   "metadata": {},
   "outputs": [
    {
     "data": {
      "image/png": "[encoded data removed]",
      "text/plain": [
       "<Figure size 300x250 with 1 Axes>"
      ]
     },
     "metadata": {},
     "output_type": "display_data"
    }
   ],
   "source": [
    "fig = plt.figure(figsize=(3, 2.5))\n",
    "ax = sns.lineplot(df, x='temperature', y='hit_rate', hue='data', palette=sns.color_palette(\"Blues\", 3))\n",
    "# Define some hatches\n",
    "# pattern=['//','..','xx','']\n",
    "ax.set_xscale(\"log\")\n",
    "ax.legend_.remove()\n",
    "# replace 2 with 7 in your code\n",
    "# hatches=np.repeat(pattern,3)\n",
    "\n",
    "# for pat,bar in zip(hatches,ax.patches):\n",
    "#     bar.set_hatch(pat)\n",
    "\n",
    "plt.xlabel('')\n",
    "plt.ylabel('Hit Rate')\n",
    "\n",
    "# plt.legend(bbox_to_anchor=(0.35, 0.33))\n",
    "\n",
    "plt.tight_layout()\n",
    "plt.savefig('plots/temperature_hitrate.pdf', format='pdf')"
   ]
  },
  {
   "cell_type": "code",
   "execution_count": null,
   "metadata": {},
   "outputs": [],
   "source": []
  }
 ],
 "metadata": {
  "kernelspec": {
   "display_name": "hdexplain",
   "language": "python",
   "name": "python3"
  },
  "language_info": {
   "codemirror_mode": {
    "name": "ipython",
    "version": 3
   },
   "file_extension": ".py",
   "mimetype": "text/x-python",
   "name": "python",
   "nbconvert_exporter": "python",
   "pygments_lexer": "ipython3",
   "version": "3.10.14"
  }
 },
 "nbformat": 4,
 "nbformat_minor": 2
}
